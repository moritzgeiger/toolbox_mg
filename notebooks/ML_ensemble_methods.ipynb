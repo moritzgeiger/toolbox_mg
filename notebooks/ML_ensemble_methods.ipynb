{
 "cells": [
  {
   "cell_type": "code",
   "execution_count": 1,
   "metadata": {
    "ExecuteTime": {
     "end_time": "2021-02-03T08:28:54.927307Z",
     "start_time": "2021-02-03T08:28:52.939178Z"
    }
   },
   "outputs": [],
   "source": [
    "import pandas as pd\n",
    "import numpy as np\n",
    "import matplotlib.pyplot as plt\n",
    "import seaborn as sns\n",
    "from sklearn import set_config; set_config(display='diagram')"
   ]
  },
  {
   "cell_type": "code",
   "execution_count": 2,
   "metadata": {},
   "outputs": [
    {
     "data": {
      "text/plain": [
       "'0.24.1'"
      ]
     },
     "execution_count": 2,
     "metadata": {},
     "output_type": "execute_result"
    }
   ],
   "source": [
    "import sklearn\n",
    "sklearn.__version__"
   ]
  },
  {
   "cell_type": "code",
   "execution_count": 3,
   "metadata": {
    "ExecuteTime": {
     "end_time": "2021-02-03T08:29:40.887551Z",
     "start_time": "2021-02-03T08:29:40.717826Z"
    }
   },
   "outputs": [],
   "source": [
    "# Use this cell to regroup all your imports\n",
    "\n",
    "from scipy import stats\n",
    "\n",
    "# sklearn preproc\n",
    "from sklearn.model_selection import train_test_split\n",
    "from sklearn.preprocessing import MinMaxScaler, StandardScaler\n",
    "from sklearn.pipeline import Pipeline, make_pipeline\n",
    "from sklearn.compose import ColumnTransformer, make_column_transformer, make_column_selector\n",
    "from sklearn.impute import SimpleImputer, KNNImputer\n",
    "from sklearn.preprocessing import RobustScaler, OneHotEncoder, OrdinalEncoder\n",
    "from sklearn.metrics import make_scorer\n",
    "\n",
    "from sklearn.model_selection import cross_val_score\n",
    "from sklearn.neighbors import KNeighborsRegressor\n",
    "from sklearn.linear_model import Ridge, Lasso, LinearRegression\n",
    "from sklearn.model_selection import RandomizedSearchCV\n",
    "from sklearn.svm import SVR\n",
    "from sklearn.model_selection import GridSearchCV, RandomizedSearchCV\n",
    "from sklearn.ensemble import AdaBoostRegressor\n",
    "from sklearn.tree import DecisionTreeRegressor\n",
    "from sklearn.ensemble import VotingRegressor\n",
    "from sklearn.ensemble import GradientBoostingRegressor\n",
    "from sklearn.ensemble import StackingRegressor\n",
    "from sklearn.ensemble import RandomForestRegressor"
   ]
  },
  {
   "cell_type": "markdown",
   "metadata": {},
   "source": [
    "# 🔥 LeWagon Kaggle Batch Challenge"
   ]
  },
  {
   "cell_type": "markdown",
   "metadata": {},
   "source": [
    "<img src='https://github.com/lewagon/data-images/blob/master/ML/kaggle-batch-challenge.png?raw=true' width=600>"
   ]
  },
  {
   "cell_type": "markdown",
   "metadata": {},
   "source": [
    "Welcome to your first Kaggle competition!\n",
    "\n",
    "Your objective is to **submit online an answer** to the open competition [House Prices - Advanced Regression Techniques](https://www.kaggle.com/c/house-prices-advanced-regression-techniques/data)\n",
    "\n",
    "- Fortunately, you have already come across the house dataset in the bootcamp!\n",
    "- You will be semi-guided up to a **baseline model**\n",
    "- Only after will you be free to improve & refine your models\n",
    "- We will approach the problem through **pipelines** (the best practice to take!)\n",
    "\n",
    "A word on Kaggle:\n",
    "- Kaggle will rank your submission amongst all participants!\n",
    "- But don't worry, everyone is publicly removed from the leaderboard after 2 months\n",
    "- You can make to 10 submissions per day"
   ]
  },
  {
   "cell_type": "markdown",
   "metadata": {},
   "source": [
    "## Setup Kaggle\n",
    "\n",
    "👉 Create an account on Kaggle if you want to participate in the competition. \n",
    "\n",
    "👉 Join the [House Prices Challenge](https://www.kaggle.com/c/house-prices-advanced-regression-techniques/data) \n",
    "\n",
    "👉 Write down your Kaggle `username` the [result spreadsheet here](https://docs.google.com/spreadsheets/d/1ZEBKwa_k1Ytb0WCOh-Nopq3eaezwBNu1SAqKXEXRguc/edit#gid=0) (pick the correct batch!)\n",
    "\n",
    "**Your whole class will compete as a group against the team of TAs**"
   ]
  },
  {
   "cell_type": "markdown",
   "metadata": {},
   "source": [
    "## Load"
   ]
  },
  {
   "cell_type": "markdown",
   "metadata": {},
   "source": [
    "We have already downloaded for you everything from Kaggle into your current notebook folder:\n",
    "- `train.csv` is your (1460 * 81) training set containing `X` and `y`\n",
    "- `test.csv` is your (1459 * 80) testing set without the associated target `y`!\n",
    "- `sample_submission.csv` describing the format required to submit your answer\n",
    "- `data_description.txt` describing all columns\n",
    "\n",
    "Your goal is to predict the `y_pred` missing from your test set and submit it to discover your test_score & ranking"
   ]
  },
  {
   "cell_type": "markdown",
   "metadata": {},
   "source": [
    "❓ Load the train dataset in a DataFrame `data` and create your `X` and `y`. Inspect their shape"
   ]
  },
  {
   "cell_type": "code",
   "execution_count": 4,
   "metadata": {
    "ExecuteTime": {
     "end_time": "2021-02-03T08:28:55.731767Z",
     "start_time": "2021-02-03T08:28:55.316322Z"
    }
   },
   "outputs": [
    {
     "data": {
      "text/html": [
       "<div>\n",
       "<style scoped>\n",
       "    .dataframe tbody tr th:only-of-type {\n",
       "        vertical-align: middle;\n",
       "    }\n",
       "\n",
       "    .dataframe tbody tr th {\n",
       "        vertical-align: top;\n",
       "    }\n",
       "\n",
       "    .dataframe thead th {\n",
       "        text-align: right;\n",
       "    }\n",
       "</style>\n",
       "<table border=\"1\" class=\"dataframe\">\n",
       "  <thead>\n",
       "    <tr style=\"text-align: right;\">\n",
       "      <th></th>\n",
       "      <th>Id</th>\n",
       "      <th>MSSubClass</th>\n",
       "      <th>MSZoning</th>\n",
       "      <th>LotFrontage</th>\n",
       "      <th>LotArea</th>\n",
       "      <th>Street</th>\n",
       "      <th>Alley</th>\n",
       "      <th>LotShape</th>\n",
       "      <th>LandContour</th>\n",
       "      <th>Utilities</th>\n",
       "      <th>...</th>\n",
       "      <th>PoolArea</th>\n",
       "      <th>PoolQC</th>\n",
       "      <th>Fence</th>\n",
       "      <th>MiscFeature</th>\n",
       "      <th>MiscVal</th>\n",
       "      <th>MoSold</th>\n",
       "      <th>YrSold</th>\n",
       "      <th>SaleType</th>\n",
       "      <th>SaleCondition</th>\n",
       "      <th>SalePrice</th>\n",
       "    </tr>\n",
       "  </thead>\n",
       "  <tbody>\n",
       "    <tr>\n",
       "      <th>0</th>\n",
       "      <td>1</td>\n",
       "      <td>60</td>\n",
       "      <td>RL</td>\n",
       "      <td>65.0</td>\n",
       "      <td>8450</td>\n",
       "      <td>Pave</td>\n",
       "      <td>NaN</td>\n",
       "      <td>Reg</td>\n",
       "      <td>Lvl</td>\n",
       "      <td>AllPub</td>\n",
       "      <td>...</td>\n",
       "      <td>0</td>\n",
       "      <td>NaN</td>\n",
       "      <td>NaN</td>\n",
       "      <td>NaN</td>\n",
       "      <td>0</td>\n",
       "      <td>2</td>\n",
       "      <td>2008</td>\n",
       "      <td>WD</td>\n",
       "      <td>Normal</td>\n",
       "      <td>208500</td>\n",
       "    </tr>\n",
       "    <tr>\n",
       "      <th>1</th>\n",
       "      <td>2</td>\n",
       "      <td>20</td>\n",
       "      <td>RL</td>\n",
       "      <td>80.0</td>\n",
       "      <td>9600</td>\n",
       "      <td>Pave</td>\n",
       "      <td>NaN</td>\n",
       "      <td>Reg</td>\n",
       "      <td>Lvl</td>\n",
       "      <td>AllPub</td>\n",
       "      <td>...</td>\n",
       "      <td>0</td>\n",
       "      <td>NaN</td>\n",
       "      <td>NaN</td>\n",
       "      <td>NaN</td>\n",
       "      <td>0</td>\n",
       "      <td>5</td>\n",
       "      <td>2007</td>\n",
       "      <td>WD</td>\n",
       "      <td>Normal</td>\n",
       "      <td>181500</td>\n",
       "    </tr>\n",
       "    <tr>\n",
       "      <th>2</th>\n",
       "      <td>3</td>\n",
       "      <td>60</td>\n",
       "      <td>RL</td>\n",
       "      <td>68.0</td>\n",
       "      <td>11250</td>\n",
       "      <td>Pave</td>\n",
       "      <td>NaN</td>\n",
       "      <td>IR1</td>\n",
       "      <td>Lvl</td>\n",
       "      <td>AllPub</td>\n",
       "      <td>...</td>\n",
       "      <td>0</td>\n",
       "      <td>NaN</td>\n",
       "      <td>NaN</td>\n",
       "      <td>NaN</td>\n",
       "      <td>0</td>\n",
       "      <td>9</td>\n",
       "      <td>2008</td>\n",
       "      <td>WD</td>\n",
       "      <td>Normal</td>\n",
       "      <td>223500</td>\n",
       "    </tr>\n",
       "    <tr>\n",
       "      <th>3</th>\n",
       "      <td>4</td>\n",
       "      <td>70</td>\n",
       "      <td>RL</td>\n",
       "      <td>60.0</td>\n",
       "      <td>9550</td>\n",
       "      <td>Pave</td>\n",
       "      <td>NaN</td>\n",
       "      <td>IR1</td>\n",
       "      <td>Lvl</td>\n",
       "      <td>AllPub</td>\n",
       "      <td>...</td>\n",
       "      <td>0</td>\n",
       "      <td>NaN</td>\n",
       "      <td>NaN</td>\n",
       "      <td>NaN</td>\n",
       "      <td>0</td>\n",
       "      <td>2</td>\n",
       "      <td>2006</td>\n",
       "      <td>WD</td>\n",
       "      <td>Abnorml</td>\n",
       "      <td>140000</td>\n",
       "    </tr>\n",
       "    <tr>\n",
       "      <th>4</th>\n",
       "      <td>5</td>\n",
       "      <td>60</td>\n",
       "      <td>RL</td>\n",
       "      <td>84.0</td>\n",
       "      <td>14260</td>\n",
       "      <td>Pave</td>\n",
       "      <td>NaN</td>\n",
       "      <td>IR1</td>\n",
       "      <td>Lvl</td>\n",
       "      <td>AllPub</td>\n",
       "      <td>...</td>\n",
       "      <td>0</td>\n",
       "      <td>NaN</td>\n",
       "      <td>NaN</td>\n",
       "      <td>NaN</td>\n",
       "      <td>0</td>\n",
       "      <td>12</td>\n",
       "      <td>2008</td>\n",
       "      <td>WD</td>\n",
       "      <td>Normal</td>\n",
       "      <td>250000</td>\n",
       "    </tr>\n",
       "    <tr>\n",
       "      <th>...</th>\n",
       "      <td>...</td>\n",
       "      <td>...</td>\n",
       "      <td>...</td>\n",
       "      <td>...</td>\n",
       "      <td>...</td>\n",
       "      <td>...</td>\n",
       "      <td>...</td>\n",
       "      <td>...</td>\n",
       "      <td>...</td>\n",
       "      <td>...</td>\n",
       "      <td>...</td>\n",
       "      <td>...</td>\n",
       "      <td>...</td>\n",
       "      <td>...</td>\n",
       "      <td>...</td>\n",
       "      <td>...</td>\n",
       "      <td>...</td>\n",
       "      <td>...</td>\n",
       "      <td>...</td>\n",
       "      <td>...</td>\n",
       "      <td>...</td>\n",
       "    </tr>\n",
       "    <tr>\n",
       "      <th>1455</th>\n",
       "      <td>1456</td>\n",
       "      <td>60</td>\n",
       "      <td>RL</td>\n",
       "      <td>62.0</td>\n",
       "      <td>7917</td>\n",
       "      <td>Pave</td>\n",
       "      <td>NaN</td>\n",
       "      <td>Reg</td>\n",
       "      <td>Lvl</td>\n",
       "      <td>AllPub</td>\n",
       "      <td>...</td>\n",
       "      <td>0</td>\n",
       "      <td>NaN</td>\n",
       "      <td>NaN</td>\n",
       "      <td>NaN</td>\n",
       "      <td>0</td>\n",
       "      <td>8</td>\n",
       "      <td>2007</td>\n",
       "      <td>WD</td>\n",
       "      <td>Normal</td>\n",
       "      <td>175000</td>\n",
       "    </tr>\n",
       "    <tr>\n",
       "      <th>1456</th>\n",
       "      <td>1457</td>\n",
       "      <td>20</td>\n",
       "      <td>RL</td>\n",
       "      <td>85.0</td>\n",
       "      <td>13175</td>\n",
       "      <td>Pave</td>\n",
       "      <td>NaN</td>\n",
       "      <td>Reg</td>\n",
       "      <td>Lvl</td>\n",
       "      <td>AllPub</td>\n",
       "      <td>...</td>\n",
       "      <td>0</td>\n",
       "      <td>NaN</td>\n",
       "      <td>MnPrv</td>\n",
       "      <td>NaN</td>\n",
       "      <td>0</td>\n",
       "      <td>2</td>\n",
       "      <td>2010</td>\n",
       "      <td>WD</td>\n",
       "      <td>Normal</td>\n",
       "      <td>210000</td>\n",
       "    </tr>\n",
       "    <tr>\n",
       "      <th>1457</th>\n",
       "      <td>1458</td>\n",
       "      <td>70</td>\n",
       "      <td>RL</td>\n",
       "      <td>66.0</td>\n",
       "      <td>9042</td>\n",
       "      <td>Pave</td>\n",
       "      <td>NaN</td>\n",
       "      <td>Reg</td>\n",
       "      <td>Lvl</td>\n",
       "      <td>AllPub</td>\n",
       "      <td>...</td>\n",
       "      <td>0</td>\n",
       "      <td>NaN</td>\n",
       "      <td>GdPrv</td>\n",
       "      <td>Shed</td>\n",
       "      <td>2500</td>\n",
       "      <td>5</td>\n",
       "      <td>2010</td>\n",
       "      <td>WD</td>\n",
       "      <td>Normal</td>\n",
       "      <td>266500</td>\n",
       "    </tr>\n",
       "    <tr>\n",
       "      <th>1458</th>\n",
       "      <td>1459</td>\n",
       "      <td>20</td>\n",
       "      <td>RL</td>\n",
       "      <td>68.0</td>\n",
       "      <td>9717</td>\n",
       "      <td>Pave</td>\n",
       "      <td>NaN</td>\n",
       "      <td>Reg</td>\n",
       "      <td>Lvl</td>\n",
       "      <td>AllPub</td>\n",
       "      <td>...</td>\n",
       "      <td>0</td>\n",
       "      <td>NaN</td>\n",
       "      <td>NaN</td>\n",
       "      <td>NaN</td>\n",
       "      <td>0</td>\n",
       "      <td>4</td>\n",
       "      <td>2010</td>\n",
       "      <td>WD</td>\n",
       "      <td>Normal</td>\n",
       "      <td>142125</td>\n",
       "    </tr>\n",
       "    <tr>\n",
       "      <th>1459</th>\n",
       "      <td>1460</td>\n",
       "      <td>20</td>\n",
       "      <td>RL</td>\n",
       "      <td>75.0</td>\n",
       "      <td>9937</td>\n",
       "      <td>Pave</td>\n",
       "      <td>NaN</td>\n",
       "      <td>Reg</td>\n",
       "      <td>Lvl</td>\n",
       "      <td>AllPub</td>\n",
       "      <td>...</td>\n",
       "      <td>0</td>\n",
       "      <td>NaN</td>\n",
       "      <td>NaN</td>\n",
       "      <td>NaN</td>\n",
       "      <td>0</td>\n",
       "      <td>6</td>\n",
       "      <td>2008</td>\n",
       "      <td>WD</td>\n",
       "      <td>Normal</td>\n",
       "      <td>147500</td>\n",
       "    </tr>\n",
       "  </tbody>\n",
       "</table>\n",
       "<p>1460 rows × 81 columns</p>\n",
       "</div>"
      ],
      "text/plain": [
       "        Id  MSSubClass MSZoning  LotFrontage  LotArea Street Alley LotShape  \\\n",
       "0        1          60       RL         65.0     8450   Pave   NaN      Reg   \n",
       "1        2          20       RL         80.0     9600   Pave   NaN      Reg   \n",
       "2        3          60       RL         68.0    11250   Pave   NaN      IR1   \n",
       "3        4          70       RL         60.0     9550   Pave   NaN      IR1   \n",
       "4        5          60       RL         84.0    14260   Pave   NaN      IR1   \n",
       "...    ...         ...      ...          ...      ...    ...   ...      ...   \n",
       "1455  1456          60       RL         62.0     7917   Pave   NaN      Reg   \n",
       "1456  1457          20       RL         85.0    13175   Pave   NaN      Reg   \n",
       "1457  1458          70       RL         66.0     9042   Pave   NaN      Reg   \n",
       "1458  1459          20       RL         68.0     9717   Pave   NaN      Reg   \n",
       "1459  1460          20       RL         75.0     9937   Pave   NaN      Reg   \n",
       "\n",
       "     LandContour Utilities  ... PoolArea PoolQC  Fence MiscFeature MiscVal  \\\n",
       "0            Lvl    AllPub  ...        0    NaN    NaN         NaN       0   \n",
       "1            Lvl    AllPub  ...        0    NaN    NaN         NaN       0   \n",
       "2            Lvl    AllPub  ...        0    NaN    NaN         NaN       0   \n",
       "3            Lvl    AllPub  ...        0    NaN    NaN         NaN       0   \n",
       "4            Lvl    AllPub  ...        0    NaN    NaN         NaN       0   \n",
       "...          ...       ...  ...      ...    ...    ...         ...     ...   \n",
       "1455         Lvl    AllPub  ...        0    NaN    NaN         NaN       0   \n",
       "1456         Lvl    AllPub  ...        0    NaN  MnPrv         NaN       0   \n",
       "1457         Lvl    AllPub  ...        0    NaN  GdPrv        Shed    2500   \n",
       "1458         Lvl    AllPub  ...        0    NaN    NaN         NaN       0   \n",
       "1459         Lvl    AllPub  ...        0    NaN    NaN         NaN       0   \n",
       "\n",
       "     MoSold YrSold  SaleType  SaleCondition  SalePrice  \n",
       "0         2   2008        WD         Normal     208500  \n",
       "1         5   2007        WD         Normal     181500  \n",
       "2         9   2008        WD         Normal     223500  \n",
       "3         2   2006        WD        Abnorml     140000  \n",
       "4        12   2008        WD         Normal     250000  \n",
       "...     ...    ...       ...            ...        ...  \n",
       "1455      8   2007        WD         Normal     175000  \n",
       "1456      2   2010        WD         Normal     210000  \n",
       "1457      5   2010        WD         Normal     266500  \n",
       "1458      4   2010        WD         Normal     142125  \n",
       "1459      6   2008        WD         Normal     147500  \n",
       "\n",
       "[1460 rows x 81 columns]"
      ]
     },
     "execution_count": 4,
     "metadata": {},
     "output_type": "execute_result"
    }
   ],
   "source": [
    "# You can use this direct download link if you don't want to create a Kaggle account\n",
    "data = pd.read_csv(\"https://wagon-public-datasets.s3.amazonaws.com/houses_train_raw.csv\")\n",
    "data"
   ]
  },
  {
   "cell_type": "code",
   "execution_count": 5,
   "metadata": {
    "ExecuteTime": {
     "end_time": "2021-02-03T08:28:56.210320Z",
     "start_time": "2021-02-03T08:28:56.204853Z"
    }
   },
   "outputs": [
    {
     "data": {
      "text/plain": [
       "(1460, 80)"
      ]
     },
     "execution_count": 5,
     "metadata": {},
     "output_type": "execute_result"
    }
   ],
   "source": [
    "X = data.drop(columns='SalePrice')\n",
    "y = data.SalePrice\n",
    "X.shape"
   ]
  },
  {
   "cell_type": "markdown",
   "metadata": {},
   "source": [
    "# 🐣 BASELINE"
   ]
  },
  {
   "cell_type": "markdown",
   "metadata": {},
   "source": [
    "## Initial feature overview"
   ]
  },
  {
   "cell_type": "markdown",
   "metadata": {},
   "source": [
    "80 features is too much to deal with one-by-one for a first baseline pipeline! Let's treat them solely based on their `dtype`:\n",
    "\n",
    "❓ How many numerical features vs. categorical features do we have? "
   ]
  },
  {
   "cell_type": "code",
   "execution_count": 78,
   "metadata": {
    "ExecuteTime": {
     "end_time": "2021-02-03T08:28:59.700769Z",
     "start_time": "2021-02-03T08:28:59.692442Z"
    },
    "scrolled": true
   },
   "outputs": [
    {
     "data": {
      "text/plain": [
       "object     43\n",
       "int64      34\n",
       "float64     3\n",
       "dtype: int64"
      ]
     },
     "execution_count": 78,
     "metadata": {},
     "output_type": "execute_result"
    }
   ],
   "source": [
    "X.dtypes.value_counts()"
   ]
  },
  {
   "cell_type": "markdown",
   "metadata": {},
   "source": [
    "❓ Store the Series `feat_categorical_nunique` containing the number of **unique values** for each categorical feature in our training set. How many unique categories are there in total ?"
   ]
  },
  {
   "cell_type": "code",
   "execution_count": 79,
   "metadata": {
    "ExecuteTime": {
     "end_time": "2021-02-03T08:29:00.579358Z",
     "start_time": "2021-02-03T08:29:00.566973Z"
    }
   },
   "outputs": [],
   "source": [
    "feat_categorical_nunique = X.select_dtypes(include='object').nunique()"
   ]
  },
  {
   "cell_type": "code",
   "execution_count": 80,
   "metadata": {
    "ExecuteTime": {
     "end_time": "2021-02-03T08:29:01.356212Z",
     "start_time": "2021-02-03T08:29:01.352760Z"
    }
   },
   "outputs": [
    {
     "data": {
      "text/plain": [
       "252"
      ]
     },
     "execution_count": 80,
     "metadata": {},
     "output_type": "execute_result"
    }
   ],
   "source": [
    "feat_categorical_nunique.sum()"
   ]
  },
  {
   "cell_type": "markdown",
   "metadata": {},
   "source": [
    "🤔 If we were to `OneHotEncode` all categorical features, our feature matrix `X_preproc` would become pretty big and spare, with almost 300 (highly correlated) features for only 1400 observations. Ideally, we should aim at feeding our model with 50-100 features max (📚 Read this [rule of thumb](https://datascience.stackexchange.com/a/11480/98300))"
   ]
  },
  {
   "cell_type": "markdown",
   "metadata": {},
   "source": [
    "There are 2 main strategies to reduce the number of categorical features post-preprocessing:\n",
    "- **[Remove](https://scikit-learn.org/stable/modules/classes.html#module-sklearn.feature_selection)** features that bring too little explanation to our model. This may require statistical analysis of feature importance \n",
    "- **[Ordinally encode](https://scikit-learn.org/stable/modules/generated/sklearn.preprocessing.OrdinalEncoder.html)** (instead of one-hot-encode) categorical features into integers. However this forces a notion of \"order\" (1>2>3...) that can be detrimental if not set properly!"
   ]
  },
  {
   "cell_type": "markdown",
   "metadata": {},
   "source": [
    "❓ Plot the **histogram** of number of unique value per categorical feature. Do you see some quick wins?"
   ]
  },
  {
   "cell_type": "code",
   "execution_count": 82,
   "metadata": {},
   "outputs": [],
   "source": [
    "%matplotlib inline"
   ]
  },
  {
   "cell_type": "code",
   "execution_count": 83,
   "metadata": {
    "ExecuteTime": {
     "end_time": "2021-02-03T08:29:02.706410Z",
     "start_time": "2021-02-03T08:29:02.540040Z"
    }
   },
   "outputs": [
    {
     "data": {
      "text/plain": [
       "<AxesSubplot:>"
      ]
     },
     "execution_count": 83,
     "metadata": {},
     "output_type": "execute_result"
    },
    {
     "data": {
      "image/png": "[encoded data removed]",
      "text/plain": [
       "<Figure size 432x288 with 1 Axes>"
      ]
     },
     "metadata": {
      "needs_background": "light"
     },
     "output_type": "display_data"
    }
   ],
   "source": [
    "feat_categorical_nunique.hist()"
   ]
  },
  {
   "cell_type": "markdown",
   "metadata": {},
   "source": [
    "💡 As a starter, what about simply removing all features that have **7 unique values or more**, and one-hot-encode every others? Let's keep ordinal encoding and statistical feature selection for the next iteration.\n",
    "\n",
    "❓ Store features to OHE in a list `feat_categorical_small` below. How many features will be OHE?"
   ]
  },
  {
   "cell_type": "code",
   "execution_count": 84,
   "metadata": {
    "ExecuteTime": {
     "end_time": "2021-02-03T08:29:06.573333Z",
     "start_time": "2021-02-03T08:29:06.566047Z"
    }
   },
   "outputs": [],
   "source": [
    "# categorical features to one-hot-encode\n",
    "feat_categorical_small = list(feat_categorical_nunique[feat_categorical_nunique < 7].index)"
   ]
  },
  {
   "cell_type": "code",
   "execution_count": 85,
   "metadata": {},
   "outputs": [
    {
     "data": {
      "text/plain": [
       "['MSZoning',\n",
       " 'Street',\n",
       " 'Alley',\n",
       " 'LotShape',\n",
       " 'LandContour',\n",
       " 'Utilities',\n",
       " 'LotConfig',\n",
       " 'LandSlope',\n",
       " 'BldgType',\n",
       " 'RoofStyle',\n",
       " 'MasVnrType',\n",
       " 'ExterQual',\n",
       " 'ExterCond',\n",
       " 'Foundation',\n",
       " 'BsmtQual',\n",
       " 'BsmtCond',\n",
       " 'BsmtExposure',\n",
       " 'BsmtFinType1',\n",
       " 'BsmtFinType2',\n",
       " 'Heating',\n",
       " 'HeatingQC',\n",
       " 'CentralAir',\n",
       " 'Electrical',\n",
       " 'KitchenQual',\n",
       " 'FireplaceQu',\n",
       " 'GarageType',\n",
       " 'GarageFinish',\n",
       " 'GarageQual',\n",
       " 'GarageCond',\n",
       " 'PavedDrive',\n",
       " 'PoolQC',\n",
       " 'Fence',\n",
       " 'MiscFeature',\n",
       " 'SaleCondition']"
      ]
     },
     "execution_count": 85,
     "metadata": {},
     "output_type": "execute_result"
    }
   ],
   "source": [
    "feat_categorical_small"
   ]
  },
  {
   "cell_type": "code",
   "execution_count": 86,
   "metadata": {
    "ExecuteTime": {
     "end_time": "2021-02-03T08:29:07.410698Z",
     "start_time": "2021-02-03T08:29:07.407741Z"
    }
   },
   "outputs": [
    {
     "data": {
      "text/plain": [
       "34"
      ]
     },
     "execution_count": 86,
     "metadata": {},
     "output_type": "execute_result"
    }
   ],
   "source": [
    "len(feat_categorical_small)"
   ]
  },
  {
   "cell_type": "markdown",
   "metadata": {},
   "source": [
    "🧪 Test your code below (and clear the cell once it passed)"
   ]
  },
  {
   "cell_type": "code",
   "execution_count": 13,
   "metadata": {
    "ExecuteTime": {
     "end_time": "2021-02-03T08:29:10.601850Z",
     "start_time": "2021-02-03T08:29:08.693622Z"
    }
   },
   "outputs": [
    {
     "name": "stdout",
     "output_type": "stream",
     "text": [
      "\u001b[1m============================= test session starts ==============================\u001b[0m\n",
      "platform darwin -- Python 3.7.4, pytest-5.2.1, py-1.8.0, pluggy-0.13.0 -- /opt/anaconda3/bin/python\n",
      "cachedir: .pytest_cache\n",
      "rootdir: /Users/qiweihan/Google Drive/Macbook/Teaching/data curation/lectures/05-ML/07-Ensemble-Methods/01-Houses-Kaggle-Competition\n",
      "plugins: arraydiff-0.3, remotedata-0.3.2, doctestplus-0.4.0, openfiles-0.4.0\n",
      "\u001b[1mcollecting ... \u001b[0mcollected 1 item\n",
      "\n",
      "tests/test_features_overview.py::TestFeaturesOverview::test_feat_categorical_small \u001b[32mPASSED\u001b[0m\u001b[36m [100%]\u001b[0m\n",
      "\n",
      "\u001b[32m\u001b[1m============================== 1 passed in 0.02s ===============================\u001b[0m\n",
      "\n",
      "\n",
      "💯 You can commit your code:\n",
      "\n",
      "\u001b[1;32mgit\u001b[39m add tests/features_overview.pickle\n",
      "\n",
      "\u001b[32mgit\u001b[39m commit -m \u001b[33m'Completed features_overview step'\u001b[39m\n",
      "\n",
      "\u001b[32mgit\u001b[39m push origin master\n"
     ]
    }
   ],
   "source": [
    "from nbresult import ChallengeResult\n",
    "result = ChallengeResult('features_overview',\n",
    "    n=len(feat_categorical_small))\n",
    "result.write(); print(result.check())"
   ]
  },
  {
   "cell_type": "markdown",
   "metadata": {},
   "source": [
    "## Preprocessing pipeline - V1 minimal baseline"
   ]
  },
  {
   "cell_type": "markdown",
   "metadata": {},
   "source": [
    "---\n",
    "❓ Let's code the basic preprocessing pipeline described below. Save it under `preproc_baseline`.\n",
    "\n",
    "For categorical features\n",
    "- Simple-Impute with most frequent values\n",
    "- One-Hot-Encode features that have less than 7 unique values to start with\n",
    "- Drop all others features\n",
    "\n",
    "\n",
    "As for numerical features\n",
    "- Simple-Impute with strategy 'mean'\n",
    "- Min-Max Scale \n",
    "\n",
    "\n",
    "<details>\n",
    "    <summary>ℹ️ Pro tips</summary>\n",
    "\n",
    "If you are confident, you can try sklearn's shorter syntax `make_pipeline` or `make_column_transformer` instead of the longer syntax `Pipeline` or `ColumnTransformer` if you want to avoid giving names manually to every steps.\n",
    "</details>"
   ]
  },
  {
   "cell_type": "code",
   "execution_count": 14,
   "metadata": {
    "ExecuteTime": {
     "end_time": "2021-02-03T08:29:46.327429Z",
     "start_time": "2021-02-03T08:29:46.298030Z"
    }
   },
   "outputs": [
    {
     "data": {
      "text/html": [
       "<style>div.sk-top-container {color: black;background-color: white;}div.sk-toggleable {background-color: white;}label.sk-toggleable__label {cursor: pointer;display: block;width: 100%;margin-bottom: 0;padding: 0.2em 0.3em;box-sizing: border-box;text-align: center;}div.sk-toggleable__content {max-height: 0;max-width: 0;overflow: hidden;text-align: left;background-color: #f0f8ff;}div.sk-toggleable__content pre {margin: 0.2em;color: black;border-radius: 0.25em;background-color: #f0f8ff;}input.sk-toggleable__control:checked~div.sk-toggleable__content {max-height: 200px;max-width: 100%;overflow: auto;}div.sk-estimator input.sk-toggleable__control:checked~label.sk-toggleable__label {background-color: #d4ebff;}div.sk-label input.sk-toggleable__control:checked~label.sk-toggleable__label {background-color: #d4ebff;}input.sk-hidden--visually {border: 0;clip: rect(1px 1px 1px 1px);clip: rect(1px, 1px, 1px, 1px);height: 1px;margin: -1px;overflow: hidden;padding: 0;position: absolute;width: 1px;}div.sk-estimator {font-family: monospace;background-color: #f0f8ff;margin: 0.25em 0.25em;border: 1px dotted black;border-radius: 0.25em;box-sizing: border-box;}div.sk-estimator:hover {background-color: #d4ebff;}div.sk-parallel-item::after {content: \"\";width: 100%;border-bottom: 1px solid gray;flex-grow: 1;}div.sk-label:hover label.sk-toggleable__label {background-color: #d4ebff;}div.sk-serial::before {content: \"\";position: absolute;border-left: 1px solid gray;box-sizing: border-box;top: 2em;bottom: 0;left: 50%;}div.sk-serial {display: flex;flex-direction: column;align-items: center;background-color: white;}div.sk-item {z-index: 1;}div.sk-parallel {display: flex;align-items: stretch;justify-content: center;background-color: white;}div.sk-parallel-item {display: flex;flex-direction: column;position: relative;background-color: white;}div.sk-parallel-item:first-child::after {align-self: flex-end;width: 50%;}div.sk-parallel-item:last-child::after {align-self: flex-start;width: 50%;}div.sk-parallel-item:only-child::after {width: 0;}div.sk-dashed-wrapped {border: 1px dashed gray;margin: 0.2em;box-sizing: border-box;padding-bottom: 0.1em;background-color: white;position: relative;}div.sk-label label {font-family: monospace;font-weight: bold;background-color: white;display: inline-block;line-height: 1.2em;}div.sk-label-container {position: relative;z-index: 2;text-align: center;}div.sk-container {display: inline-block;position: relative;}</style><div class=\"sk-top-container\"><div class=\"sk-container\"><div class=\"sk-item sk-dashed-wrapped\"><div class=\"sk-label-container\"><div class=\"sk-label sk-toggleable\"><input class=\"sk-toggleable__control sk-hidden--visually\" id=\"b2884e1a-7230-4081-9bed-60fb634b326b\" type=\"checkbox\" ><label class=\"sk-toggleable__label\" for=\"b2884e1a-7230-4081-9bed-60fb634b326b\">ColumnTransformer</label><div class=\"sk-toggleable__content\"><pre>ColumnTransformer(transformers=[('pipeline-1',\n",
       "                                 Pipeline(steps=[('simpleimputer',\n",
       "                                                  SimpleImputer()),\n",
       "                                                 ('minmaxscaler',\n",
       "                                                  MinMaxScaler())]),\n",
       "                                 <sklearn.compose._column_transformer.make_column_selector object at 0x146eee290>),\n",
       "                                ('pipeline-2',\n",
       "                                 Pipeline(steps=[('simpleimputer',\n",
       "                                                  SimpleImputer(strategy='most_frequent')),\n",
       "                                                 ('onehotencoder',\n",
       "                                                  OneHotEncoder(handle_unknown='ignore...\n",
       "                                 ['MSZoning', 'Street', 'Alley', 'LotShape',\n",
       "                                  'LandContour', 'Utilities', 'LotConfig',\n",
       "                                  'LandSlope', 'BldgType', 'RoofStyle',\n",
       "                                  'MasVnrType', 'ExterQual', 'ExterCond',\n",
       "                                  'Foundation', 'BsmtQual', 'BsmtCond',\n",
       "                                  'BsmtExposure', 'BsmtFinType1',\n",
       "                                  'BsmtFinType2', 'Heating', 'HeatingQC',\n",
       "                                  'CentralAir', 'Electrical', 'KitchenQual',\n",
       "                                  'FireplaceQu', 'GarageType', 'GarageFinish',\n",
       "                                  'GarageQual', 'GarageCond', 'PavedDrive', ...])])</pre></div></div></div><div class=\"sk-parallel\"><div class=\"sk-parallel-item\"><div class=\"sk-item\"><div class=\"sk-label-container\"><div class=\"sk-label sk-toggleable\"><input class=\"sk-toggleable__control sk-hidden--visually\" id=\"9f919967-e2ac-4632-8a3a-f3cf2aea9851\" type=\"checkbox\" ><label class=\"sk-toggleable__label\" for=\"9f919967-e2ac-4632-8a3a-f3cf2aea9851\">pipeline-1</label><div class=\"sk-toggleable__content\"><pre><sklearn.compose._column_transformer.make_column_selector object at 0x146eee290></pre></div></div></div><div class=\"sk-serial\"><div class=\"sk-item\"><div class=\"sk-serial\"><div class=\"sk-item\"><div class=\"sk-estimator sk-toggleable\"><input class=\"sk-toggleable__control sk-hidden--visually\" id=\"e00b146e-ca3c-4269-8998-6b81c44343c2\" type=\"checkbox\" ><label class=\"sk-toggleable__label\" for=\"e00b146e-ca3c-4269-8998-6b81c44343c2\">SimpleImputer</label><div class=\"sk-toggleable__content\"><pre>SimpleImputer()</pre></div></div></div><div class=\"sk-item\"><div class=\"sk-estimator sk-toggleable\"><input class=\"sk-toggleable__control sk-hidden--visually\" id=\"14032d07-97e9-48cf-967f-eea4efb5ace1\" type=\"checkbox\" ><label class=\"sk-toggleable__label\" for=\"14032d07-97e9-48cf-967f-eea4efb5ace1\">MinMaxScaler</label><div class=\"sk-toggleable__content\"><pre>MinMaxScaler()</pre></div></div></div></div></div></div></div></div><div class=\"sk-parallel-item\"><div class=\"sk-item\"><div class=\"sk-label-container\"><div class=\"sk-label sk-toggleable\"><input class=\"sk-toggleable__control sk-hidden--visually\" id=\"b4f60676-a426-4274-be70-8f980f434429\" type=\"checkbox\" ><label class=\"sk-toggleable__label\" for=\"b4f60676-a426-4274-be70-8f980f434429\">pipeline-2</label><div class=\"sk-toggleable__content\"><pre>['MSZoning', 'Street', 'Alley', 'LotShape', 'LandContour', 'Utilities', 'LotConfig', 'LandSlope', 'BldgType', 'RoofStyle', 'MasVnrType', 'ExterQual', 'ExterCond', 'Foundation', 'BsmtQual', 'BsmtCond', 'BsmtExposure', 'BsmtFinType1', 'BsmtFinType2', 'Heating', 'HeatingQC', 'CentralAir', 'Electrical', 'KitchenQual', 'FireplaceQu', 'GarageType', 'GarageFinish', 'GarageQual', 'GarageCond', 'PavedDrive', 'PoolQC', 'Fence', 'MiscFeature', 'SaleCondition']</pre></div></div></div><div class=\"sk-serial\"><div class=\"sk-item\"><div class=\"sk-serial\"><div class=\"sk-item\"><div class=\"sk-estimator sk-toggleable\"><input class=\"sk-toggleable__control sk-hidden--visually\" id=\"aeb98abc-7885-48ce-9420-1449582c8f73\" type=\"checkbox\" ><label class=\"sk-toggleable__label\" for=\"aeb98abc-7885-48ce-9420-1449582c8f73\">SimpleImputer</label><div class=\"sk-toggleable__content\"><pre>SimpleImputer(strategy='most_frequent')</pre></div></div></div><div class=\"sk-item\"><div class=\"sk-estimator sk-toggleable\"><input class=\"sk-toggleable__control sk-hidden--visually\" id=\"9a6e16b2-1e7d-447a-8175-1cf1e2f4435c\" type=\"checkbox\" ><label class=\"sk-toggleable__label\" for=\"9a6e16b2-1e7d-447a-8175-1cf1e2f4435c\">OneHotEncoder</label><div class=\"sk-toggleable__content\"><pre>OneHotEncoder(handle_unknown='ignore')</pre></div></div></div></div></div></div></div></div></div></div></div></div>"
      ],
      "text/plain": [
       "ColumnTransformer(transformers=[('pipeline-1',\n",
       "                                 Pipeline(steps=[('simpleimputer',\n",
       "                                                  SimpleImputer()),\n",
       "                                                 ('minmaxscaler',\n",
       "                                                  MinMaxScaler())]),\n",
       "                                 <sklearn.compose._column_transformer.make_column_selector object at 0x146eee290>),\n",
       "                                ('pipeline-2',\n",
       "                                 Pipeline(steps=[('simpleimputer',\n",
       "                                                  SimpleImputer(strategy='most_frequent')),\n",
       "                                                 ('onehotencoder',\n",
       "                                                  OneHotEncoder(handle_unknown='ignore...\n",
       "                                 ['MSZoning', 'Street', 'Alley', 'LotShape',\n",
       "                                  'LandContour', 'Utilities', 'LotConfig',\n",
       "                                  'LandSlope', 'BldgType', 'RoofStyle',\n",
       "                                  'MasVnrType', 'ExterQual', 'ExterCond',\n",
       "                                  'Foundation', 'BsmtQual', 'BsmtCond',\n",
       "                                  'BsmtExposure', 'BsmtFinType1',\n",
       "                                  'BsmtFinType2', 'Heating', 'HeatingQC',\n",
       "                                  'CentralAir', 'Electrical', 'KitchenQual',\n",
       "                                  'FireplaceQu', 'GarageType', 'GarageFinish',\n",
       "                                  'GarageQual', 'GarageCond', 'PavedDrive', ...])])"
      ]
     },
     "execution_count": 14,
     "metadata": {},
     "output_type": "execute_result"
    }
   ],
   "source": [
    "# Dummy code your pipeline first, code it for real after\n",
    "# We need a Column Transformer made of 2 pipelines (1 for OHE, 1 for numerical)\n",
    "\n",
    "preproc_numerical_baseline = make_pipeline(\n",
    "    SimpleImputer(),\n",
    "    MinMaxScaler())\n",
    "\n",
    "preproc_categorical_baseline = make_pipeline(\n",
    "    SimpleImputer(strategy=\"most_frequent\"),\n",
    "    OneHotEncoder(handle_unknown=\"ignore\"))\n",
    "\n",
    "preproc_baseline = make_column_transformer(\n",
    "    (preproc_numerical_baseline, make_column_selector(dtype_include=[\"int64\", \"float64\"])),\n",
    "    (preproc_categorical_baseline, feat_categorical_small),\n",
    "    remainder=\"drop\")\n",
    "\n",
    "preproc_baseline"
   ]
  },
  {
   "cell_type": "code",
   "execution_count": 15,
   "metadata": {},
   "outputs": [
    {
     "data": {
      "text/html": [
       "<div>\n",
       "<style scoped>\n",
       "    .dataframe tbody tr th:only-of-type {\n",
       "        vertical-align: middle;\n",
       "    }\n",
       "\n",
       "    .dataframe tbody tr th {\n",
       "        vertical-align: top;\n",
       "    }\n",
       "\n",
       "    .dataframe thead th {\n",
       "        text-align: right;\n",
       "    }\n",
       "</style>\n",
       "<table border=\"1\" class=\"dataframe\">\n",
       "  <thead>\n",
       "    <tr style=\"text-align: right;\">\n",
       "      <th></th>\n",
       "      <th>Id</th>\n",
       "      <th>MSSubClass</th>\n",
       "      <th>MSZoning</th>\n",
       "      <th>LotFrontage</th>\n",
       "      <th>LotArea</th>\n",
       "      <th>Street</th>\n",
       "      <th>Alley</th>\n",
       "      <th>LotShape</th>\n",
       "      <th>LandContour</th>\n",
       "      <th>Utilities</th>\n",
       "      <th>...</th>\n",
       "      <th>ScreenPorch</th>\n",
       "      <th>PoolArea</th>\n",
       "      <th>PoolQC</th>\n",
       "      <th>Fence</th>\n",
       "      <th>MiscFeature</th>\n",
       "      <th>MiscVal</th>\n",
       "      <th>MoSold</th>\n",
       "      <th>YrSold</th>\n",
       "      <th>SaleType</th>\n",
       "      <th>SaleCondition</th>\n",
       "    </tr>\n",
       "  </thead>\n",
       "  <tbody>\n",
       "    <tr>\n",
       "      <th>0</th>\n",
       "      <td>1</td>\n",
       "      <td>60</td>\n",
       "      <td>RL</td>\n",
       "      <td>65.0</td>\n",
       "      <td>8450</td>\n",
       "      <td>Pave</td>\n",
       "      <td>NaN</td>\n",
       "      <td>Reg</td>\n",
       "      <td>Lvl</td>\n",
       "      <td>AllPub</td>\n",
       "      <td>...</td>\n",
       "      <td>0</td>\n",
       "      <td>0</td>\n",
       "      <td>NaN</td>\n",
       "      <td>NaN</td>\n",
       "      <td>NaN</td>\n",
       "      <td>0</td>\n",
       "      <td>2</td>\n",
       "      <td>2008</td>\n",
       "      <td>WD</td>\n",
       "      <td>Normal</td>\n",
       "    </tr>\n",
       "    <tr>\n",
       "      <th>1</th>\n",
       "      <td>2</td>\n",
       "      <td>20</td>\n",
       "      <td>RL</td>\n",
       "      <td>80.0</td>\n",
       "      <td>9600</td>\n",
       "      <td>Pave</td>\n",
       "      <td>NaN</td>\n",
       "      <td>Reg</td>\n",
       "      <td>Lvl</td>\n",
       "      <td>AllPub</td>\n",
       "      <td>...</td>\n",
       "      <td>0</td>\n",
       "      <td>0</td>\n",
       "      <td>NaN</td>\n",
       "      <td>NaN</td>\n",
       "      <td>NaN</td>\n",
       "      <td>0</td>\n",
       "      <td>5</td>\n",
       "      <td>2007</td>\n",
       "      <td>WD</td>\n",
       "      <td>Normal</td>\n",
       "    </tr>\n",
       "    <tr>\n",
       "      <th>2</th>\n",
       "      <td>3</td>\n",
       "      <td>60</td>\n",
       "      <td>RL</td>\n",
       "      <td>68.0</td>\n",
       "      <td>11250</td>\n",
       "      <td>Pave</td>\n",
       "      <td>NaN</td>\n",
       "      <td>IR1</td>\n",
       "      <td>Lvl</td>\n",
       "      <td>AllPub</td>\n",
       "      <td>...</td>\n",
       "      <td>0</td>\n",
       "      <td>0</td>\n",
       "      <td>NaN</td>\n",
       "      <td>NaN</td>\n",
       "      <td>NaN</td>\n",
       "      <td>0</td>\n",
       "      <td>9</td>\n",
       "      <td>2008</td>\n",
       "      <td>WD</td>\n",
       "      <td>Normal</td>\n",
       "    </tr>\n",
       "    <tr>\n",
       "      <th>3</th>\n",
       "      <td>4</td>\n",
       "      <td>70</td>\n",
       "      <td>RL</td>\n",
       "      <td>60.0</td>\n",
       "      <td>9550</td>\n",
       "      <td>Pave</td>\n",
       "      <td>NaN</td>\n",
       "      <td>IR1</td>\n",
       "      <td>Lvl</td>\n",
       "      <td>AllPub</td>\n",
       "      <td>...</td>\n",
       "      <td>0</td>\n",
       "      <td>0</td>\n",
       "      <td>NaN</td>\n",
       "      <td>NaN</td>\n",
       "      <td>NaN</td>\n",
       "      <td>0</td>\n",
       "      <td>2</td>\n",
       "      <td>2006</td>\n",
       "      <td>WD</td>\n",
       "      <td>Abnorml</td>\n",
       "    </tr>\n",
       "    <tr>\n",
       "      <th>4</th>\n",
       "      <td>5</td>\n",
       "      <td>60</td>\n",
       "      <td>RL</td>\n",
       "      <td>84.0</td>\n",
       "      <td>14260</td>\n",
       "      <td>Pave</td>\n",
       "      <td>NaN</td>\n",
       "      <td>IR1</td>\n",
       "      <td>Lvl</td>\n",
       "      <td>AllPub</td>\n",
       "      <td>...</td>\n",
       "      <td>0</td>\n",
       "      <td>0</td>\n",
       "      <td>NaN</td>\n",
       "      <td>NaN</td>\n",
       "      <td>NaN</td>\n",
       "      <td>0</td>\n",
       "      <td>12</td>\n",
       "      <td>2008</td>\n",
       "      <td>WD</td>\n",
       "      <td>Normal</td>\n",
       "    </tr>\n",
       "    <tr>\n",
       "      <th>...</th>\n",
       "      <td>...</td>\n",
       "      <td>...</td>\n",
       "      <td>...</td>\n",
       "      <td>...</td>\n",
       "      <td>...</td>\n",
       "      <td>...</td>\n",
       "      <td>...</td>\n",
       "      <td>...</td>\n",
       "      <td>...</td>\n",
       "      <td>...</td>\n",
       "      <td>...</td>\n",
       "      <td>...</td>\n",
       "      <td>...</td>\n",
       "      <td>...</td>\n",
       "      <td>...</td>\n",
       "      <td>...</td>\n",
       "      <td>...</td>\n",
       "      <td>...</td>\n",
       "      <td>...</td>\n",
       "      <td>...</td>\n",
       "      <td>...</td>\n",
       "    </tr>\n",
       "    <tr>\n",
       "      <th>1455</th>\n",
       "      <td>1456</td>\n",
       "      <td>60</td>\n",
       "      <td>RL</td>\n",
       "      <td>62.0</td>\n",
       "      <td>7917</td>\n",
       "      <td>Pave</td>\n",
       "      <td>NaN</td>\n",
       "      <td>Reg</td>\n",
       "      <td>Lvl</td>\n",
       "      <td>AllPub</td>\n",
       "      <td>...</td>\n",
       "      <td>0</td>\n",
       "      <td>0</td>\n",
       "      <td>NaN</td>\n",
       "      <td>NaN</td>\n",
       "      <td>NaN</td>\n",
       "      <td>0</td>\n",
       "      <td>8</td>\n",
       "      <td>2007</td>\n",
       "      <td>WD</td>\n",
       "      <td>Normal</td>\n",
       "    </tr>\n",
       "    <tr>\n",
       "      <th>1456</th>\n",
       "      <td>1457</td>\n",
       "      <td>20</td>\n",
       "      <td>RL</td>\n",
       "      <td>85.0</td>\n",
       "      <td>13175</td>\n",
       "      <td>Pave</td>\n",
       "      <td>NaN</td>\n",
       "      <td>Reg</td>\n",
       "      <td>Lvl</td>\n",
       "      <td>AllPub</td>\n",
       "      <td>...</td>\n",
       "      <td>0</td>\n",
       "      <td>0</td>\n",
       "      <td>NaN</td>\n",
       "      <td>MnPrv</td>\n",
       "      <td>NaN</td>\n",
       "      <td>0</td>\n",
       "      <td>2</td>\n",
       "      <td>2010</td>\n",
       "      <td>WD</td>\n",
       "      <td>Normal</td>\n",
       "    </tr>\n",
       "    <tr>\n",
       "      <th>1457</th>\n",
       "      <td>1458</td>\n",
       "      <td>70</td>\n",
       "      <td>RL</td>\n",
       "      <td>66.0</td>\n",
       "      <td>9042</td>\n",
       "      <td>Pave</td>\n",
       "      <td>NaN</td>\n",
       "      <td>Reg</td>\n",
       "      <td>Lvl</td>\n",
       "      <td>AllPub</td>\n",
       "      <td>...</td>\n",
       "      <td>0</td>\n",
       "      <td>0</td>\n",
       "      <td>NaN</td>\n",
       "      <td>GdPrv</td>\n",
       "      <td>Shed</td>\n",
       "      <td>2500</td>\n",
       "      <td>5</td>\n",
       "      <td>2010</td>\n",
       "      <td>WD</td>\n",
       "      <td>Normal</td>\n",
       "    </tr>\n",
       "    <tr>\n",
       "      <th>1458</th>\n",
       "      <td>1459</td>\n",
       "      <td>20</td>\n",
       "      <td>RL</td>\n",
       "      <td>68.0</td>\n",
       "      <td>9717</td>\n",
       "      <td>Pave</td>\n",
       "      <td>NaN</td>\n",
       "      <td>Reg</td>\n",
       "      <td>Lvl</td>\n",
       "      <td>AllPub</td>\n",
       "      <td>...</td>\n",
       "      <td>0</td>\n",
       "      <td>0</td>\n",
       "      <td>NaN</td>\n",
       "      <td>NaN</td>\n",
       "      <td>NaN</td>\n",
       "      <td>0</td>\n",
       "      <td>4</td>\n",
       "      <td>2010</td>\n",
       "      <td>WD</td>\n",
       "      <td>Normal</td>\n",
       "    </tr>\n",
       "    <tr>\n",
       "      <th>1459</th>\n",
       "      <td>1460</td>\n",
       "      <td>20</td>\n",
       "      <td>RL</td>\n",
       "      <td>75.0</td>\n",
       "      <td>9937</td>\n",
       "      <td>Pave</td>\n",
       "      <td>NaN</td>\n",
       "      <td>Reg</td>\n",
       "      <td>Lvl</td>\n",
       "      <td>AllPub</td>\n",
       "      <td>...</td>\n",
       "      <td>0</td>\n",
       "      <td>0</td>\n",
       "      <td>NaN</td>\n",
       "      <td>NaN</td>\n",
       "      <td>NaN</td>\n",
       "      <td>0</td>\n",
       "      <td>6</td>\n",
       "      <td>2008</td>\n",
       "      <td>WD</td>\n",
       "      <td>Normal</td>\n",
       "    </tr>\n",
       "  </tbody>\n",
       "</table>\n",
       "<p>1460 rows × 80 columns</p>\n",
       "</div>"
      ],
      "text/plain": [
       "        Id  MSSubClass MSZoning  LotFrontage  LotArea Street Alley LotShape  \\\n",
       "0        1          60       RL         65.0     8450   Pave   NaN      Reg   \n",
       "1        2          20       RL         80.0     9600   Pave   NaN      Reg   \n",
       "2        3          60       RL         68.0    11250   Pave   NaN      IR1   \n",
       "3        4          70       RL         60.0     9550   Pave   NaN      IR1   \n",
       "4        5          60       RL         84.0    14260   Pave   NaN      IR1   \n",
       "...    ...         ...      ...          ...      ...    ...   ...      ...   \n",
       "1455  1456          60       RL         62.0     7917   Pave   NaN      Reg   \n",
       "1456  1457          20       RL         85.0    13175   Pave   NaN      Reg   \n",
       "1457  1458          70       RL         66.0     9042   Pave   NaN      Reg   \n",
       "1458  1459          20       RL         68.0     9717   Pave   NaN      Reg   \n",
       "1459  1460          20       RL         75.0     9937   Pave   NaN      Reg   \n",
       "\n",
       "     LandContour Utilities  ... ScreenPorch PoolArea PoolQC  Fence  \\\n",
       "0            Lvl    AllPub  ...           0        0    NaN    NaN   \n",
       "1            Lvl    AllPub  ...           0        0    NaN    NaN   \n",
       "2            Lvl    AllPub  ...           0        0    NaN    NaN   \n",
       "3            Lvl    AllPub  ...           0        0    NaN    NaN   \n",
       "4            Lvl    AllPub  ...           0        0    NaN    NaN   \n",
       "...          ...       ...  ...         ...      ...    ...    ...   \n",
       "1455         Lvl    AllPub  ...           0        0    NaN    NaN   \n",
       "1456         Lvl    AllPub  ...           0        0    NaN  MnPrv   \n",
       "1457         Lvl    AllPub  ...           0        0    NaN  GdPrv   \n",
       "1458         Lvl    AllPub  ...           0        0    NaN    NaN   \n",
       "1459         Lvl    AllPub  ...           0        0    NaN    NaN   \n",
       "\n",
       "     MiscFeature MiscVal MoSold  YrSold  SaleType  SaleCondition  \n",
       "0            NaN       0      2    2008        WD         Normal  \n",
       "1            NaN       0      5    2007        WD         Normal  \n",
       "2            NaN       0      9    2008        WD         Normal  \n",
       "3            NaN       0      2    2006        WD        Abnorml  \n",
       "4            NaN       0     12    2008        WD         Normal  \n",
       "...          ...     ...    ...     ...       ...            ...  \n",
       "1455         NaN       0      8    2007        WD         Normal  \n",
       "1456         NaN       0      2    2010        WD         Normal  \n",
       "1457        Shed    2500      5    2010        WD         Normal  \n",
       "1458         NaN       0      4    2010        WD         Normal  \n",
       "1459         NaN       0      6    2008        WD         Normal  \n",
       "\n",
       "[1460 rows x 80 columns]"
      ]
     },
     "execution_count": 15,
     "metadata": {},
     "output_type": "execute_result"
    }
   ],
   "source": [
    "X"
   ]
  },
  {
   "cell_type": "markdown",
   "metadata": {},
   "source": [
    "❓ Look at the **shape** of your preprocessed dataframe."
   ]
  },
  {
   "cell_type": "code",
   "execution_count": 16,
   "metadata": {
    "ExecuteTime": {
     "end_time": "2021-02-03T08:29:48.945399Z",
     "start_time": "2021-02-03T08:29:48.899742Z"
    }
   },
   "outputs": [
    {
     "data": {
      "text/plain": [
       "(1460, 184)"
      ]
     },
     "execution_count": 16,
     "metadata": {},
     "output_type": "execute_result"
    }
   ],
   "source": [
    "shape_preproc_baseline = preproc_baseline.fit_transform(X).shape\n",
    "shape_preproc_baseline"
   ]
  },
  {
   "cell_type": "markdown",
   "metadata": {},
   "source": [
    "🧪 Test your code below"
   ]
  },
  {
   "cell_type": "code",
   "execution_count": 17,
   "metadata": {
    "ExecuteTime": {
     "end_time": "2021-02-03T08:29:51.189687Z",
     "start_time": "2021-02-03T08:29:50.059279Z"
    }
   },
   "outputs": [
    {
     "name": "stdout",
     "output_type": "stream",
     "text": [
      "\u001b[1m============================= test session starts ==============================\u001b[0m\n",
      "platform darwin -- Python 3.7.4, pytest-5.2.1, py-1.8.0, pluggy-0.13.0 -- /opt/anaconda3/bin/python\n",
      "cachedir: .pytest_cache\n",
      "rootdir: /Users/qiweihan/Google Drive/Macbook/Teaching/data curation/lectures/05-ML/07-Ensemble-Methods/01-Houses-Kaggle-Competition\n",
      "plugins: arraydiff-0.3, remotedata-0.3.2, doctestplus-0.4.0, openfiles-0.4.0\n",
      "\u001b[1mcollecting ... \u001b[0mcollected 1 item\n",
      "\n",
      "tests/test_preproc_baseline.py::TestPreprocBaseline::test_shape \u001b[32mPASSED\u001b[0m\u001b[36m   [100%]\u001b[0m\n",
      "\n",
      "\u001b[32m\u001b[1m============================== 1 passed in 0.08s ===============================\u001b[0m\n",
      "\n",
      "\n",
      "💯 You can commit your code:\n",
      "\n",
      "\u001b[1;32mgit\u001b[39m add tests/preproc_baseline.pickle\n",
      "\n",
      "\u001b[32mgit\u001b[39m commit -m \u001b[33m'Completed preproc_baseline step'\u001b[39m\n",
      "\n",
      "\u001b[32mgit\u001b[39m push origin master\n"
     ]
    }
   ],
   "source": [
    "from nbresult import ChallengeResult\n",
    "result = ChallengeResult('preproc_baseline',\n",
    "    shape=shape_preproc_baseline)\n",
    "result.write()\n",
    "print(result.check())"
   ]
  },
  {
   "cell_type": "markdown",
   "metadata": {},
   "source": [
    "## Model baseline"
   ]
  },
  {
   "cell_type": "markdown",
   "metadata": {},
   "source": [
    "❓ Pipe a basic Ridge regressor to your `preproc_baseline` and store it to `pipe_baseline` variable."
   ]
  },
  {
   "cell_type": "code",
   "execution_count": 18,
   "metadata": {
    "ExecuteTime": {
     "end_time": "2021-02-03T08:29:52.307918Z",
     "start_time": "2021-02-03T08:29:52.248129Z"
    }
   },
   "outputs": [
    {
     "data": {
      "text/html": [
       "<style>div.sk-top-container {color: black;background-color: white;}div.sk-toggleable {background-color: white;}label.sk-toggleable__label {cursor: pointer;display: block;width: 100%;margin-bottom: 0;padding: 0.2em 0.3em;box-sizing: border-box;text-align: center;}div.sk-toggleable__content {max-height: 0;max-width: 0;overflow: hidden;text-align: left;background-color: #f0f8ff;}div.sk-toggleable__content pre {margin: 0.2em;color: black;border-radius: 0.25em;background-color: #f0f8ff;}input.sk-toggleable__control:checked~div.sk-toggleable__content {max-height: 200px;max-width: 100%;overflow: auto;}div.sk-estimator input.sk-toggleable__control:checked~label.sk-toggleable__label {background-color: #d4ebff;}div.sk-label input.sk-toggleable__control:checked~label.sk-toggleable__label {background-color: #d4ebff;}input.sk-hidden--visually {border: 0;clip: rect(1px 1px 1px 1px);clip: rect(1px, 1px, 1px, 1px);height: 1px;margin: -1px;overflow: hidden;padding: 0;position: absolute;width: 1px;}div.sk-estimator {font-family: monospace;background-color: #f0f8ff;margin: 0.25em 0.25em;border: 1px dotted black;border-radius: 0.25em;box-sizing: border-box;}div.sk-estimator:hover {background-color: #d4ebff;}div.sk-parallel-item::after {content: \"\";width: 100%;border-bottom: 1px solid gray;flex-grow: 1;}div.sk-label:hover label.sk-toggleable__label {background-color: #d4ebff;}div.sk-serial::before {content: \"\";position: absolute;border-left: 1px solid gray;box-sizing: border-box;top: 2em;bottom: 0;left: 50%;}div.sk-serial {display: flex;flex-direction: column;align-items: center;background-color: white;}div.sk-item {z-index: 1;}div.sk-parallel {display: flex;align-items: stretch;justify-content: center;background-color: white;}div.sk-parallel-item {display: flex;flex-direction: column;position: relative;background-color: white;}div.sk-parallel-item:first-child::after {align-self: flex-end;width: 50%;}div.sk-parallel-item:last-child::after {align-self: flex-start;width: 50%;}div.sk-parallel-item:only-child::after {width: 0;}div.sk-dashed-wrapped {border: 1px dashed gray;margin: 0.2em;box-sizing: border-box;padding-bottom: 0.1em;background-color: white;position: relative;}div.sk-label label {font-family: monospace;font-weight: bold;background-color: white;display: inline-block;line-height: 1.2em;}div.sk-label-container {position: relative;z-index: 2;text-align: center;}div.sk-container {display: inline-block;position: relative;}</style><div class=\"sk-top-container\"><div class=\"sk-container\"><div class=\"sk-item sk-dashed-wrapped\"><div class=\"sk-label-container\"><div class=\"sk-label sk-toggleable\"><input class=\"sk-toggleable__control sk-hidden--visually\" id=\"ea701fff-35ca-46ba-ad8c-4465fef84624\" type=\"checkbox\" ><label class=\"sk-toggleable__label\" for=\"ea701fff-35ca-46ba-ad8c-4465fef84624\">Pipeline</label><div class=\"sk-toggleable__content\"><pre>Pipeline(steps=[('columntransformer',\n",
       "                 ColumnTransformer(transformers=[('pipeline-1',\n",
       "                                                  Pipeline(steps=[('simpleimputer',\n",
       "                                                                   SimpleImputer()),\n",
       "                                                                  ('minmaxscaler',\n",
       "                                                                   MinMaxScaler())]),\n",
       "                                                  <sklearn.compose._column_transformer.make_column_selector object at 0x146eee290>),\n",
       "                                                 ('pipeline-2',\n",
       "                                                  Pipeline(steps=[('simpleimputer',\n",
       "                                                                   SimpleImputer(strategy='most_frequent')),\n",
       "                                                                  ('onehotencoder'...\n",
       "                                                   'LandContour', 'Utilities',\n",
       "                                                   'LotConfig', 'LandSlope',\n",
       "                                                   'BldgType', 'RoofStyle',\n",
       "                                                   'MasVnrType', 'ExterQual',\n",
       "                                                   'ExterCond', 'Foundation',\n",
       "                                                   'BsmtQual', 'BsmtCond',\n",
       "                                                   'BsmtExposure',\n",
       "                                                   'BsmtFinType1',\n",
       "                                                   'BsmtFinType2', 'Heating',\n",
       "                                                   'HeatingQC', 'CentralAir',\n",
       "                                                   'Electrical', 'KitchenQual',\n",
       "                                                   'FireplaceQu', 'GarageType',\n",
       "                                                   'GarageFinish', 'GarageQual',\n",
       "                                                   'GarageCond', 'PavedDrive', ...])])),\n",
       "                ('ridge', Ridge())])</pre></div></div></div><div class=\"sk-serial\"><div class=\"sk-item sk-dashed-wrapped\"><div class=\"sk-label-container\"><div class=\"sk-label sk-toggleable\"><input class=\"sk-toggleable__control sk-hidden--visually\" id=\"dc9f4543-6480-4fdf-abd9-511da8746d10\" type=\"checkbox\" ><label class=\"sk-toggleable__label\" for=\"dc9f4543-6480-4fdf-abd9-511da8746d10\">columntransformer: ColumnTransformer</label><div class=\"sk-toggleable__content\"><pre>ColumnTransformer(transformers=[('pipeline-1',\n",
       "                                 Pipeline(steps=[('simpleimputer',\n",
       "                                                  SimpleImputer()),\n",
       "                                                 ('minmaxscaler',\n",
       "                                                  MinMaxScaler())]),\n",
       "                                 <sklearn.compose._column_transformer.make_column_selector object at 0x146eee290>),\n",
       "                                ('pipeline-2',\n",
       "                                 Pipeline(steps=[('simpleimputer',\n",
       "                                                  SimpleImputer(strategy='most_frequent')),\n",
       "                                                 ('onehotencoder',\n",
       "                                                  OneHotEncoder(handle_unknown='ignore...\n",
       "                                 ['MSZoning', 'Street', 'Alley', 'LotShape',\n",
       "                                  'LandContour', 'Utilities', 'LotConfig',\n",
       "                                  'LandSlope', 'BldgType', 'RoofStyle',\n",
       "                                  'MasVnrType', 'ExterQual', 'ExterCond',\n",
       "                                  'Foundation', 'BsmtQual', 'BsmtCond',\n",
       "                                  'BsmtExposure', 'BsmtFinType1',\n",
       "                                  'BsmtFinType2', 'Heating', 'HeatingQC',\n",
       "                                  'CentralAir', 'Electrical', 'KitchenQual',\n",
       "                                  'FireplaceQu', 'GarageType', 'GarageFinish',\n",
       "                                  'GarageQual', 'GarageCond', 'PavedDrive', ...])])</pre></div></div></div><div class=\"sk-parallel\"><div class=\"sk-parallel-item\"><div class=\"sk-item\"><div class=\"sk-label-container\"><div class=\"sk-label sk-toggleable\"><input class=\"sk-toggleable__control sk-hidden--visually\" id=\"eceb9057-8c5f-42a3-a10e-f2aab8d1d473\" type=\"checkbox\" ><label class=\"sk-toggleable__label\" for=\"eceb9057-8c5f-42a3-a10e-f2aab8d1d473\">pipeline-1</label><div class=\"sk-toggleable__content\"><pre><sklearn.compose._column_transformer.make_column_selector object at 0x146eee290></pre></div></div></div><div class=\"sk-serial\"><div class=\"sk-item\"><div class=\"sk-serial\"><div class=\"sk-item\"><div class=\"sk-estimator sk-toggleable\"><input class=\"sk-toggleable__control sk-hidden--visually\" id=\"ca682022-6e3d-47c4-8fa7-b770d90a5dfc\" type=\"checkbox\" ><label class=\"sk-toggleable__label\" for=\"ca682022-6e3d-47c4-8fa7-b770d90a5dfc\">SimpleImputer</label><div class=\"sk-toggleable__content\"><pre>SimpleImputer()</pre></div></div></div><div class=\"sk-item\"><div class=\"sk-estimator sk-toggleable\"><input class=\"sk-toggleable__control sk-hidden--visually\" id=\"8e3fc0b0-218e-4e40-92e4-67f942a354c2\" type=\"checkbox\" ><label class=\"sk-toggleable__label\" for=\"8e3fc0b0-218e-4e40-92e4-67f942a354c2\">MinMaxScaler</label><div class=\"sk-toggleable__content\"><pre>MinMaxScaler()</pre></div></div></div></div></div></div></div></div><div class=\"sk-parallel-item\"><div class=\"sk-item\"><div class=\"sk-label-container\"><div class=\"sk-label sk-toggleable\"><input class=\"sk-toggleable__control sk-hidden--visually\" id=\"ac79af4c-f805-41b4-a5ed-9f8f8095655a\" type=\"checkbox\" ><label class=\"sk-toggleable__label\" for=\"ac79af4c-f805-41b4-a5ed-9f8f8095655a\">pipeline-2</label><div class=\"sk-toggleable__content\"><pre>['MSZoning', 'Street', 'Alley', 'LotShape', 'LandContour', 'Utilities', 'LotConfig', 'LandSlope', 'BldgType', 'RoofStyle', 'MasVnrType', 'ExterQual', 'ExterCond', 'Foundation', 'BsmtQual', 'BsmtCond', 'BsmtExposure', 'BsmtFinType1', 'BsmtFinType2', 'Heating', 'HeatingQC', 'CentralAir', 'Electrical', 'KitchenQual', 'FireplaceQu', 'GarageType', 'GarageFinish', 'GarageQual', 'GarageCond', 'PavedDrive', 'PoolQC', 'Fence', 'MiscFeature', 'SaleCondition']</pre></div></div></div><div class=\"sk-serial\"><div class=\"sk-item\"><div class=\"sk-serial\"><div class=\"sk-item\"><div class=\"sk-estimator sk-toggleable\"><input class=\"sk-toggleable__control sk-hidden--visually\" id=\"bdba7423-f262-4adf-a6aa-861f7af3ba46\" type=\"checkbox\" ><label class=\"sk-toggleable__label\" for=\"bdba7423-f262-4adf-a6aa-861f7af3ba46\">SimpleImputer</label><div class=\"sk-toggleable__content\"><pre>SimpleImputer(strategy='most_frequent')</pre></div></div></div><div class=\"sk-item\"><div class=\"sk-estimator sk-toggleable\"><input class=\"sk-toggleable__control sk-hidden--visually\" id=\"8203002a-2fe9-4ede-9ac3-a788f3777278\" type=\"checkbox\" ><label class=\"sk-toggleable__label\" for=\"8203002a-2fe9-4ede-9ac3-a788f3777278\">OneHotEncoder</label><div class=\"sk-toggleable__content\"><pre>OneHotEncoder(handle_unknown='ignore')</pre></div></div></div></div></div></div></div></div></div></div><div class=\"sk-item\"><div class=\"sk-estimator sk-toggleable\"><input class=\"sk-toggleable__control sk-hidden--visually\" id=\"3099e156-9bc8-4e1f-9f1a-81f078e1a454\" type=\"checkbox\" ><label class=\"sk-toggleable__label\" for=\"3099e156-9bc8-4e1f-9f1a-81f078e1a454\">Ridge</label><div class=\"sk-toggleable__content\"><pre>Ridge()</pre></div></div></div></div></div></div></div>"
      ],
      "text/plain": [
       "Pipeline(steps=[('columntransformer',\n",
       "                 ColumnTransformer(transformers=[('pipeline-1',\n",
       "                                                  Pipeline(steps=[('simpleimputer',\n",
       "                                                                   SimpleImputer()),\n",
       "                                                                  ('minmaxscaler',\n",
       "                                                                   MinMaxScaler())]),\n",
       "                                                  <sklearn.compose._column_transformer.make_column_selector object at 0x146eee290>),\n",
       "                                                 ('pipeline-2',\n",
       "                                                  Pipeline(steps=[('simpleimputer',\n",
       "                                                                   SimpleImputer(strategy='most_frequent')),\n",
       "                                                                  ('onehotencoder'...\n",
       "                                                   'LandContour', 'Utilities',\n",
       "                                                   'LotConfig', 'LandSlope',\n",
       "                                                   'BldgType', 'RoofStyle',\n",
       "                                                   'MasVnrType', 'ExterQual',\n",
       "                                                   'ExterCond', 'Foundation',\n",
       "                                                   'BsmtQual', 'BsmtCond',\n",
       "                                                   'BsmtExposure',\n",
       "                                                   'BsmtFinType1',\n",
       "                                                   'BsmtFinType2', 'Heating',\n",
       "                                                   'HeatingQC', 'CentralAir',\n",
       "                                                   'Electrical', 'KitchenQual',\n",
       "                                                   'FireplaceQu', 'GarageType',\n",
       "                                                   'GarageFinish', 'GarageQual',\n",
       "                                                   'GarageCond', 'PavedDrive', ...])])),\n",
       "                ('ridge', Ridge())])"
      ]
     },
     "execution_count": 18,
     "metadata": {},
     "output_type": "execute_result"
    }
   ],
   "source": [
    "pipe_baseline = make_pipeline(preproc_baseline, Ridge())\n",
    "pipe_baseline"
   ]
  },
  {
   "cell_type": "markdown",
   "metadata": {},
   "source": [
    "❓ Read the Kaggle [contest evaluation rules](https://www.kaggle.com/c/house-prices-advanced-regression-techniques/overview/evaluation) \n",
    "- Which performance metric do you need? Is it readily available in sklearn?\n",
    "- Create a scorer using [`make_scorer`](https://scikit-learn.org/stable/modules/generated/sklearn.metrics.make_scorer.html) and store it into a variable named `rmsle`\n",
    "- Create also the negative score `rmsle_neg` which is best when _maximized_. This will come handy later as `GridSearchCV` requires a score to _maximize_"
   ]
  },
  {
   "cell_type": "code",
   "execution_count": 19,
   "metadata": {
    "ExecuteTime": {
     "end_time": "2021-02-03T08:29:53.775668Z",
     "start_time": "2021-02-03T08:29:53.771800Z"
    }
   },
   "outputs": [],
   "source": [
    "# OPTION 1: recode it all manually\n",
    "\n",
    "def root_mean_squared_log_error(y_true, y_pred):\n",
    "    t = np.array(y_true)\n",
    "    p = np.array(y_pred)\n",
    "    log_error = np.log(1+t) - np.log(1+p)\n",
    "    return ((log_error**2).mean())**0.5\n",
    "\n",
    "# This is our metric to minimize\n",
    "rmsle = make_scorer(root_mean_squared_log_error)\n",
    "\n",
    "# This is our score to maximize\n",
    "rmsle_neg = make_scorer(lambda y_true, y_pred: -1 * root_mean_squared_log_error(y_true, y_pred))"
   ]
  },
  {
   "cell_type": "code",
   "execution_count": 20,
   "metadata": {
    "ExecuteTime": {
     "end_time": "2021-02-03T08:48:45.109516Z",
     "start_time": "2021-02-03T08:48:45.105549Z"
    }
   },
   "outputs": [],
   "source": [
    "# OPTION 2 - reuse sklearn \"mean_squared_log_error\"\n",
    "from sklearn.metrics import mean_squared_log_error\n",
    "from sklearn.metrics import make_scorer\n",
    "\n",
    "# This is our metric to minimize\n",
    "rmsle = make_scorer(lambda y_true, y_pred: mean_squared_log_error(y_true, y_pred)**0.5)\n",
    "\n",
    "# This is our score to maximize\n",
    "rmsle_neg = make_scorer(lambda y_true, y_pred: -1 * mean_squared_log_error(y_true, y_pred)**0.5)\n",
    "# Equivalent formulation\n",
    "rmsle_neg = make_scorer(\n",
    "    lambda y_true, y_pred: mean_squared_log_error(y_true, y_pred)**0.5,\n",
    "    greater_is_better=False\n",
    ")"
   ]
  },
  {
   "cell_type": "markdown",
   "metadata": {},
   "source": [
    "❓5-fold cross_validate your `pipe_baseline` using this metric to get a first glance at your baseline perf.    \n",
    "Store your mean score as `score_baseline`"
   ]
  },
  {
   "cell_type": "code",
   "execution_count": 21,
   "metadata": {
    "ExecuteTime": {
     "end_time": "2021-02-03T08:49:03.350254Z",
     "start_time": "2021-02-03T08:49:03.089381Z"
    },
    "scrolled": true
   },
   "outputs": [
    {
     "data": {
      "text/plain": [
       "0.16631913339626228"
      ]
     },
     "execution_count": 21,
     "metadata": {},
     "output_type": "execute_result"
    }
   ],
   "source": [
    "score_baseline = cross_val_score(pipe_baseline, X, y, cv=5, scoring=rmsle).mean()\n",
    "score_baseline"
   ]
  },
  {
   "cell_type": "markdown",
   "metadata": {},
   "source": [
    "## Predict baseline"
   ]
  },
  {
   "cell_type": "markdown",
   "metadata": {},
   "source": [
    "❓ Predict `y_pred_baseline` from the Kaggle `test.csv` dataset you stored in the `data` folder."
   ]
  },
  {
   "cell_type": "code",
   "execution_count": 22,
   "metadata": {
    "ExecuteTime": {
     "end_time": "2021-02-03T08:29:58.984163Z",
     "start_time": "2021-02-03T08:29:58.586080Z"
    }
   },
   "outputs": [
    {
     "data": {
      "text/plain": [
       "array([112477.54057081, 135486.3973944 , 173832.72670314, ...,\n",
       "       154353.09990011, 108603.88104356, 232334.67441937])"
      ]
     },
     "execution_count": 22,
     "metadata": {},
     "output_type": "execute_result"
    }
   ],
   "source": [
    "X_test = pd.read_csv(\"https://wagon-public-datasets.s3.amazonaws.com/houses_test_raw.csv\")\n",
    "\n",
    "# Predict y_pred_baseline\n",
    "pipe_baseline.fit(X,y)\n",
    "y_pred_baseline = pipe_baseline.predict(X_test)\n",
    "y_pred_baseline"
   ]
  },
  {
   "cell_type": "markdown",
   "metadata": {},
   "source": [
    "❓ Finally, store your CSV ready to be submitted as `submission_baseline.csv` in the `data` folder. Read carefully the Kaggle required format and test it below (you don't need to submit this baseline online for now)."
   ]
  },
  {
   "cell_type": "code",
   "execution_count": 23,
   "metadata": {
    "ExecuteTime": {
     "end_time": "2021-02-03T08:30:00.911236Z",
     "start_time": "2021-02-03T08:30:00.904484Z"
    }
   },
   "outputs": [
    {
     "data": {
      "text/html": [
       "<div>\n",
       "<style scoped>\n",
       "    .dataframe tbody tr th:only-of-type {\n",
       "        vertical-align: middle;\n",
       "    }\n",
       "\n",
       "    .dataframe tbody tr th {\n",
       "        vertical-align: top;\n",
       "    }\n",
       "\n",
       "    .dataframe thead th {\n",
       "        text-align: right;\n",
       "    }\n",
       "</style>\n",
       "<table border=\"1\" class=\"dataframe\">\n",
       "  <thead>\n",
       "    <tr style=\"text-align: right;\">\n",
       "      <th></th>\n",
       "      <th>Id</th>\n",
       "      <th>SalePrice</th>\n",
       "    </tr>\n",
       "  </thead>\n",
       "  <tbody>\n",
       "    <tr>\n",
       "      <th>0</th>\n",
       "      <td>1461</td>\n",
       "      <td>112477.540571</td>\n",
       "    </tr>\n",
       "  </tbody>\n",
       "</table>\n",
       "</div>"
      ],
      "text/plain": [
       "     Id      SalePrice\n",
       "0  1461  112477.540571"
      ]
     },
     "execution_count": 23,
     "metadata": {},
     "output_type": "execute_result"
    }
   ],
   "source": [
    "results = pd.concat([X_test[\"Id\"], pd.Series(y_pred_baseline, name=\"SalePrice\")], axis=1)\n",
    "results.head(1)"
   ]
  },
  {
   "cell_type": "code",
   "execution_count": 24,
   "metadata": {
    "ExecuteTime": {
     "end_time": "2021-02-03T08:30:03.227239Z",
     "start_time": "2021-02-03T08:30:02.841040Z"
    }
   },
   "outputs": [],
   "source": [
    "# Export to Kaggle format submission in the `data` folder\n",
    "results.to_csv(\"data/submission_baseline.csv\", header=True, index=False)"
   ]
  },
  {
   "cell_type": "markdown",
   "metadata": {},
   "source": [
    "🧪 Test your code"
   ]
  },
  {
   "cell_type": "code",
   "execution_count": 25,
   "metadata": {
    "ExecuteTime": {
     "end_time": "2021-02-03T08:30:06.294037Z",
     "start_time": "2021-02-03T08:30:05.002420Z"
    }
   },
   "outputs": [
    {
     "name": "stdout",
     "output_type": "stream",
     "text": [
      "\u001b[1m============================= test session starts ==============================\u001b[0m\n",
      "platform darwin -- Python 3.7.4, pytest-5.2.1, py-1.8.0, pluggy-0.13.0 -- /opt/anaconda3/bin/python\n",
      "cachedir: .pytest_cache\n",
      "rootdir: /Users/qiweihan/Google Drive/Macbook/Teaching/data curation/lectures/05-ML/07-Ensemble-Methods/01-Houses-Kaggle-Competition\n",
      "plugins: arraydiff-0.3, remotedata-0.3.2, doctestplus-0.4.0, openfiles-0.4.0\n",
      "\u001b[1mcollecting ... \u001b[0mcollected 4 items\n",
      "\n",
      "tests/test_submission_baseline.py::TestSubmissionBaseline::test_score_baseline \u001b[32mPASSED\u001b[0m\u001b[36m [ 25%]\u001b[0m\n",
      "tests/test_submission_baseline.py::TestSubmissionBaseline::test_submission_columns \u001b[32mPASSED\u001b[0m\u001b[36m [ 50%]\u001b[0m\n",
      "tests/test_submission_baseline.py::TestSubmissionBaseline::test_submission_dtypes \u001b[32mPASSED\u001b[0m\u001b[36m [ 75%]\u001b[0m\n",
      "tests/test_submission_baseline.py::TestSubmissionBaseline::test_submission_shape \u001b[32mPASSED\u001b[0m\u001b[36m [100%]\u001b[0m\n",
      "\n",
      "\u001b[32m\u001b[1m============================== 4 passed in 0.02s ===============================\u001b[0m\n",
      "\n",
      "\n",
      "💯 You can commit your code:\n",
      "\n",
      "\u001b[1;32mgit\u001b[39m add tests/submission_baseline.pickle\n",
      "\n",
      "\u001b[32mgit\u001b[39m commit -m \u001b[33m'Completed submission_baseline step'\u001b[39m\n",
      "\n",
      "\u001b[32mgit\u001b[39m push origin master\n"
     ]
    }
   ],
   "source": [
    "from nbresult import ChallengeResult\n",
    "tmp = pd.read_csv(\"data/submission_baseline.csv\")\n",
    "result = ChallengeResult('submission_baseline',\n",
    "    score_baseline = score_baseline,\n",
    "    submission_shape = tmp.shape,\n",
    "    submission_columns = list(tmp.columns),\n",
    "    submission_dtypes = str(list(tmp.dtypes)),\n",
    ")\n",
    "result.write()\n",
    "print(result.check())"
   ]
  },
  {
   "cell_type": "markdown",
   "metadata": {},
   "source": [
    "# 🏋️‍♀️ ITERATIONS "
   ]
  },
  {
   "cell_type": "markdown",
   "metadata": {},
   "source": [
    "🎉 🎉 Congratulation for having fully pipelined a basline model! You will see now how easier it is to iterate and improve performance 🚀\n",
    "\n",
    "- Your goal is to improve your prediction and submit it by **16h30 max online**\n",
    "- We suggested you some improvements below\n",
    "- **Pick up your fights** and **incrementally** improve your pipeline as you see fit"
   ]
  },
  {
   "cell_type": "markdown",
   "metadata": {},
   "source": [
    "**Models**\n",
    "\n",
    "- Linear Models: fine-tune regularization ?\n",
    "- **Tree-based ensembles (must try today)**: Probably the best suited for many categorical-features problems\n",
    "- Stacking !\n",
    "- ...\n",
    "\n",
    "**Preprocessing** (once your first ensemble models works)\n",
    "\n",
    "- Ordinal Encoding of categorical features with a hidden notion of order in their values (e.g. \"bad\", \"average\", good\")\n",
    "- Statistical Feature Selection to remove useless features (avoid overfitting and reduce train time)\n",
    "- Predict log(SalePrice) instead?\n",
    "- ..."
   ]
  },
  {
   "cell_type": "markdown",
   "metadata": {},
   "source": [
    "## Preprocessing Iteration (⚠️ come back here after your first Ensemble model)\n",
    "\n",
    "⏩ Collapse me if you don't use me!"
   ]
  },
  {
   "cell_type": "markdown",
   "metadata": {
    "heading_collapsed": true
   },
   "source": [
    "### Ordinal Encoding (1h)"
   ]
  },
  {
   "cell_type": "markdown",
   "metadata": {
    "hidden": true
   },
   "source": [
    "❓ Look at the following feature below. Couldn't it be encoded numerically in a wise manner?\n",
    "```\n",
    "ExterQual: Evaluates the quality of the material on the exterior \n",
    "\t\t\n",
    "       Ex\tExcellent\n",
    "       Gd\tGood\n",
    "       TA\tAverage/Typical\n",
    "       Fa\tFair\n",
    "       Po\tPoor\n",
    "```"
   ]
  },
  {
   "cell_type": "markdown",
   "metadata": {
    "hidden": true
   },
   "source": [
    "💡 Luckily, the `OrdinalEncoder` and its argument `categories`  allows us to do just that. Check it out below and make sure to understand how ths works"
   ]
  },
  {
   "cell_type": "code",
   "execution_count": 26,
   "metadata": {
    "ExecuteTime": {
     "end_time": "2021-02-02T15:51:51.765333Z",
     "start_time": "2021-02-02T15:51:51.758709Z"
    },
    "hidden": true
   },
   "outputs": [
    {
     "data": {
      "text/plain": [
       "array([[ 0.,  0.],\n",
       "       [ 2.,  2.],\n",
       "       [ 0., -1.]])"
      ]
     },
     "execution_count": 26,
     "metadata": {},
     "output_type": "execute_result"
    }
   ],
   "source": [
    "# Define specific order for features\n",
    "# Note: if you change this order, it will change the output for .transform()\n",
    "feature_A_sorted_values = ['bad', 'average', 'good'] \n",
    "feature_B_sorted_values = ['dirty', 'clean', 'new']\n",
    "\n",
    "encoder = OrdinalEncoder(\n",
    "    categories=[\n",
    "        feature_A_sorted_values,\n",
    "        feature_B_sorted_values\n",
    "    ],\n",
    "    handle_unknown=\"use_encoded_value\",\n",
    "    unknown_value=-1\n",
    ")\n",
    "\n",
    "# Just some random training data\n",
    "XX = [\n",
    "    ['good', 'dirty'],\n",
    "    ['bad', 'new'],\n",
    "    ['average', 'clean'],\n",
    "]\n",
    "\n",
    "encoder.fit(XX)\n",
    "\n",
    "encoder.transform([\n",
    "        ['bad', \"dirty\"],\n",
    "        ['good', 'new'],\n",
    "        ['bad', 'oooops never seen this label before']\n",
    "])"
   ]
  },
  {
   "cell_type": "markdown",
   "metadata": {
    "hidden": true
   },
   "source": [
    "---\n",
    "❓ **Your turn**: split your categorical preprocessor into\n",
    "\n",
    "- `preproc_ordinal` to ordinally encode **some features** of your choice (**do a quick iteration first**)\n",
    "- `preproc_nominal` to one hot encode the other ones\n",
    "\n",
    "\n",
    "<details>\n",
    "    <summary>Hints</summary>\n",
    "\n",
    "- You won't be able to avoid hard-coding names and ordered values of features! Be tidy!\n",
    "- It's a good practice to sort alphabetically your features to avoid bad surprises\n",
    "</details>"
   ]
  },
  {
   "cell_type": "code",
   "execution_count": 27,
   "metadata": {
    "ExecuteTime": {
     "end_time": "2021-02-02T16:11:15.997343Z",
     "start_time": "2021-02-02T16:11:15.977031Z"
    },
    "hidden": true
   },
   "outputs": [
    {
     "data": {
      "text/html": [
       "<style>div.sk-top-container {color: black;background-color: white;}div.sk-toggleable {background-color: white;}label.sk-toggleable__label {cursor: pointer;display: block;width: 100%;margin-bottom: 0;padding: 0.2em 0.3em;box-sizing: border-box;text-align: center;}div.sk-toggleable__content {max-height: 0;max-width: 0;overflow: hidden;text-align: left;background-color: #f0f8ff;}div.sk-toggleable__content pre {margin: 0.2em;color: black;border-radius: 0.25em;background-color: #f0f8ff;}input.sk-toggleable__control:checked~div.sk-toggleable__content {max-height: 200px;max-width: 100%;overflow: auto;}div.sk-estimator input.sk-toggleable__control:checked~label.sk-toggleable__label {background-color: #d4ebff;}div.sk-label input.sk-toggleable__control:checked~label.sk-toggleable__label {background-color: #d4ebff;}input.sk-hidden--visually {border: 0;clip: rect(1px 1px 1px 1px);clip: rect(1px, 1px, 1px, 1px);height: 1px;margin: -1px;overflow: hidden;padding: 0;position: absolute;width: 1px;}div.sk-estimator {font-family: monospace;background-color: #f0f8ff;margin: 0.25em 0.25em;border: 1px dotted black;border-radius: 0.25em;box-sizing: border-box;}div.sk-estimator:hover {background-color: #d4ebff;}div.sk-parallel-item::after {content: \"\";width: 100%;border-bottom: 1px solid gray;flex-grow: 1;}div.sk-label:hover label.sk-toggleable__label {background-color: #d4ebff;}div.sk-serial::before {content: \"\";position: absolute;border-left: 1px solid gray;box-sizing: border-box;top: 2em;bottom: 0;left: 50%;}div.sk-serial {display: flex;flex-direction: column;align-items: center;background-color: white;}div.sk-item {z-index: 1;}div.sk-parallel {display: flex;align-items: stretch;justify-content: center;background-color: white;}div.sk-parallel-item {display: flex;flex-direction: column;position: relative;background-color: white;}div.sk-parallel-item:first-child::after {align-self: flex-end;width: 50%;}div.sk-parallel-item:last-child::after {align-self: flex-start;width: 50%;}div.sk-parallel-item:only-child::after {width: 0;}div.sk-dashed-wrapped {border: 1px dashed gray;margin: 0.2em;box-sizing: border-box;padding-bottom: 0.1em;background-color: white;position: relative;}div.sk-label label {font-family: monospace;font-weight: bold;background-color: white;display: inline-block;line-height: 1.2em;}div.sk-label-container {position: relative;z-index: 2;text-align: center;}div.sk-container {display: inline-block;position: relative;}</style><div class=\"sk-top-container\"><div class=\"sk-container\"><div class=\"sk-item sk-dashed-wrapped\"><div class=\"sk-label-container\"><div class=\"sk-label sk-toggleable\"><input class=\"sk-toggleable__control sk-hidden--visually\" id=\"caf535d4-fe89-4640-963c-9a4d06025edd\" type=\"checkbox\" ><label class=\"sk-toggleable__label\" for=\"caf535d4-fe89-4640-963c-9a4d06025edd\">Pipeline</label><div class=\"sk-toggleable__content\"><pre>Pipeline(steps=[('simpleimputer',\n",
       "                 SimpleImputer(fill_value='missing', strategy='constant')),\n",
       "                ('ordinalencoder',\n",
       "                 OrdinalEncoder(categories=[['missing', 'Po', 'Fa', 'TA', 'Gd'],\n",
       "                                            ['missing', 'No', 'Mn', 'Av', 'Gd'],\n",
       "                                            ['missing', 'Unf', 'LwQ', 'Rec',\n",
       "                                             'BLQ', 'ALQ', 'GLQ'],\n",
       "                                            ['missing', 'Unf', 'LwQ', 'Rec',\n",
       "                                             'BLQ', 'ALQ', 'GLQ'],\n",
       "                                            ['missing', 'Fa', 'TA', 'Gd', 'Ex'],\n",
       "                                            ['missing', 'Mix', 'FuseP...\n",
       "                                            ['missing', 'Po', 'Fa', 'TA', 'Gd',\n",
       "                                             'Ex'],\n",
       "                                            ['missing', 'Po', 'Fa', 'TA', 'Gd',\n",
       "                                             'Ex'],\n",
       "                                            ['missing', 'Fa', 'TA', 'Gd', 'Ex'],\n",
       "                                            ['missing', 'Low', 'Bnk', 'HLS',\n",
       "                                             'Lvl'],\n",
       "                                            ['missing', 'Sev', 'Mod', 'Gtl'],\n",
       "                                            ['missing', 'IR3', 'IR2', 'IR1',\n",
       "                                             'Reg'],\n",
       "                                            ['missing', 'N', 'P', 'Y'],\n",
       "                                            ['missing', 'Fa', 'Gd', 'Ex']],\n",
       "                                dtype=<class 'numpy.int64'>,\n",
       "                                handle_unknown='use_encoded_value',\n",
       "                                unknown_value=-1)),\n",
       "                ('minmaxscaler', MinMaxScaler())])</pre></div></div></div><div class=\"sk-serial\"><div class=\"sk-item\"><div class=\"sk-estimator sk-toggleable\"><input class=\"sk-toggleable__control sk-hidden--visually\" id=\"37782caa-de0e-4cd8-a71f-f81e4f240b13\" type=\"checkbox\" ><label class=\"sk-toggleable__label\" for=\"37782caa-de0e-4cd8-a71f-f81e4f240b13\">SimpleImputer</label><div class=\"sk-toggleable__content\"><pre>SimpleImputer(fill_value='missing', strategy='constant')</pre></div></div></div><div class=\"sk-item\"><div class=\"sk-estimator sk-toggleable\"><input class=\"sk-toggleable__control sk-hidden--visually\" id=\"bceb1cc2-6649-4646-bcdc-f640c400fba5\" type=\"checkbox\" ><label class=\"sk-toggleable__label\" for=\"bceb1cc2-6649-4646-bcdc-f640c400fba5\">OrdinalEncoder</label><div class=\"sk-toggleable__content\"><pre>OrdinalEncoder(categories=[['missing', 'Po', 'Fa', 'TA', 'Gd'],\n",
       "                           ['missing', 'No', 'Mn', 'Av', 'Gd'],\n",
       "                           ['missing', 'Unf', 'LwQ', 'Rec', 'BLQ', 'ALQ',\n",
       "                            'GLQ'],\n",
       "                           ['missing', 'Unf', 'LwQ', 'Rec', 'BLQ', 'ALQ',\n",
       "                            'GLQ'],\n",
       "                           ['missing', 'Fa', 'TA', 'Gd', 'Ex'],\n",
       "                           ['missing', 'Mix', 'FuseP', 'FuseF', 'FuseA',\n",
       "                            'SBrkr'],\n",
       "                           ['missing', 'Po', 'Fa', 'TA', 'Gd', 'Ex'],\n",
       "                           ['missing', 'Fa', 'TA', 'Gd', 'Ex'],\n",
       "                           ['missing', '...\n",
       "                           ['missing', 'Unf', 'RFn', 'Fin'],\n",
       "                           ['missing', 'Po', 'Fa', 'TA', 'Gd', 'Ex'],\n",
       "                           ['missing', 'Po', 'Fa', 'TA', 'Gd', 'Ex'],\n",
       "                           ['missing', 'Fa', 'TA', 'Gd', 'Ex'],\n",
       "                           ['missing', 'Low', 'Bnk', 'HLS', 'Lvl'],\n",
       "                           ['missing', 'Sev', 'Mod', 'Gtl'],\n",
       "                           ['missing', 'IR3', 'IR2', 'IR1', 'Reg'],\n",
       "                           ['missing', 'N', 'P', 'Y'],\n",
       "                           ['missing', 'Fa', 'Gd', 'Ex']],\n",
       "               dtype=<class 'numpy.int64'>, handle_unknown='use_encoded_value',\n",
       "               unknown_value=-1)</pre></div></div></div><div class=\"sk-item\"><div class=\"sk-estimator sk-toggleable\"><input class=\"sk-toggleable__control sk-hidden--visually\" id=\"519e3438-2e13-482e-900f-dfbd5f64ee3b\" type=\"checkbox\" ><label class=\"sk-toggleable__label\" for=\"519e3438-2e13-482e-900f-dfbd5f64ee3b\">MinMaxScaler</label><div class=\"sk-toggleable__content\"><pre>MinMaxScaler()</pre></div></div></div></div></div></div></div>"
      ],
      "text/plain": [
       "Pipeline(steps=[('simpleimputer',\n",
       "                 SimpleImputer(fill_value='missing', strategy='constant')),\n",
       "                ('ordinalencoder',\n",
       "                 OrdinalEncoder(categories=[['missing', 'Po', 'Fa', 'TA', 'Gd'],\n",
       "                                            ['missing', 'No', 'Mn', 'Av', 'Gd'],\n",
       "                                            ['missing', 'Unf', 'LwQ', 'Rec',\n",
       "                                             'BLQ', 'ALQ', 'GLQ'],\n",
       "                                            ['missing', 'Unf', 'LwQ', 'Rec',\n",
       "                                             'BLQ', 'ALQ', 'GLQ'],\n",
       "                                            ['missing', 'Fa', 'TA', 'Gd', 'Ex'],\n",
       "                                            ['missing', 'Mix', 'FuseP...\n",
       "                                            ['missing', 'Po', 'Fa', 'TA', 'Gd',\n",
       "                                             'Ex'],\n",
       "                                            ['missing', 'Po', 'Fa', 'TA', 'Gd',\n",
       "                                             'Ex'],\n",
       "                                            ['missing', 'Fa', 'TA', 'Gd', 'Ex'],\n",
       "                                            ['missing', 'Low', 'Bnk', 'HLS',\n",
       "                                             'Lvl'],\n",
       "                                            ['missing', 'Sev', 'Mod', 'Gtl'],\n",
       "                                            ['missing', 'IR3', 'IR2', 'IR1',\n",
       "                                             'Reg'],\n",
       "                                            ['missing', 'N', 'P', 'Y'],\n",
       "                                            ['missing', 'Fa', 'Gd', 'Ex']],\n",
       "                                dtype=<class 'numpy.int64'>,\n",
       "                                handle_unknown='use_encoded_value',\n",
       "                                unknown_value=-1)),\n",
       "                ('minmaxscaler', MinMaxScaler())])"
      ]
     },
     "execution_count": 27,
     "metadata": {},
     "output_type": "execute_result"
    }
   ],
   "source": [
    "feat_ordinal_dict = {\n",
    "    # considers \"missing\" as \"neutral\"\n",
    "    \"BsmtCond\": ['missing', 'Po', 'Fa', 'TA', 'Gd'],\n",
    "    \"BsmtExposure\": ['missing', 'No', 'Mn', 'Av', 'Gd'],\n",
    "    \"BsmtFinType1\": ['missing', 'Unf', 'LwQ', 'Rec', 'BLQ', 'ALQ', 'GLQ'],\n",
    "    \"BsmtFinType2\": ['missing', 'Unf', 'LwQ', 'Rec', 'BLQ', 'ALQ', 'GLQ'],\n",
    "    \"BsmtQual\": ['missing', 'Fa', 'TA', 'Gd', 'Ex'],\n",
    "    \"Electrical\": ['missing', 'Mix', 'FuseP', 'FuseF', 'FuseA', 'SBrkr'],\n",
    "    \"ExterCond\": ['missing', 'Po', 'Fa', 'TA', 'Gd', 'Ex'],\n",
    "    \"ExterQual\": ['missing', 'Fa', 'TA', 'Gd', 'Ex'],\n",
    "    \"Fence\": ['missing', 'MnWw', 'GdWo', 'MnPrv', 'GdPrv'],\n",
    "    \"FireplaceQu\": ['missing', 'Po', 'Fa', 'TA', 'Gd', 'Ex'],\n",
    "    \"Functional\": ['missing', 'Sev', 'Maj2', 'Maj1', 'Mod', 'Min2', 'Min1', 'Typ'],\n",
    "    \"GarageCond\": ['missing', 'Po', 'Fa', 'TA', 'Gd', 'Ex'],\n",
    "    \"GarageFinish\": ['missing', 'Unf', 'RFn', 'Fin'],\n",
    "    \"GarageQual\": ['missing', 'Po', 'Fa', 'TA', 'Gd', 'Ex'],\n",
    "    \"HeatingQC\": ['missing', 'Po', 'Fa', 'TA', 'Gd', 'Ex'],\n",
    "    \"KitchenQual\": ['missing', 'Fa', 'TA', 'Gd', 'Ex'],\n",
    "    \"LandContour\": ['missing', 'Low', 'Bnk', 'HLS', 'Lvl'],\n",
    "    \"LandSlope\": ['missing', 'Sev', 'Mod', 'Gtl'],\n",
    "    \"LotShape\": ['missing', 'IR3', 'IR2', 'IR1', 'Reg'],\n",
    "    \"PavedDrive\": ['missing', 'N', 'P', 'Y'],\n",
    "    \"PoolQC\": ['missing', 'Fa', 'Gd', 'Ex'],\n",
    "}\n",
    "\n",
    "feat_ordinal = sorted(feat_ordinal_dict.keys()) # sort alphabetically\n",
    "feat_ordinal_values_sorted = [feat_ordinal_dict[i] for i in feat_ordinal]\n",
    "\n",
    "encoder_ordinal = OrdinalEncoder(\n",
    "    categories=feat_ordinal_values_sorted,\n",
    "    dtype= np.int64,\n",
    "    handle_unknown=\"use_encoded_value\",\n",
    "    unknown_value=-1 # Considers unknown values as worse than \"missing\"\n",
    ")\n",
    "\n",
    "preproc_ordinal = make_pipeline(\n",
    "    SimpleImputer(strategy=\"constant\", fill_value=\"missing\"),\n",
    "    encoder_ordinal,\n",
    "    MinMaxScaler()\n",
    ")\n",
    "\n",
    "preproc_ordinal"
   ]
  },
  {
   "cell_type": "code",
   "execution_count": 28,
   "metadata": {
    "ExecuteTime": {
     "end_time": "2021-02-02T15:51:51.785829Z",
     "start_time": "2021-02-02T15:51:51.779916Z"
    },
    "hidden": true
   },
   "outputs": [],
   "source": [
    "# Define numerical feature once-for-all\n",
    "feat_numerical = sorted(X.select_dtypes(include=[\"int64\", \"float64\"]).columns)\n",
    "\n",
    "preproc_numerical = make_pipeline(\n",
    "    KNNImputer(),\n",
    "    MinMaxScaler()\n",
    ")"
   ]
  },
  {
   "cell_type": "code",
   "execution_count": 29,
   "metadata": {
    "ExecuteTime": {
     "end_time": "2021-02-02T15:51:51.793489Z",
     "start_time": "2021-02-02T15:51:51.788999Z"
    },
    "hidden": true
   },
   "outputs": [],
   "source": [
    "# Define nominal features to one-hot-encode as the remaining ones (non numerical, non ordinal)\n",
    "feat_nominal = sorted(list(set(X.columns) - set(feat_numerical) - set(feat_ordinal)))\n",
    "\n",
    "preproc_nominal = make_pipeline(\n",
    "    SimpleImputer(strategy=\"most_frequent\"),\n",
    "    OneHotEncoder(handle_unknown=\"ignore\")\n",
    ")"
   ]
  },
  {
   "cell_type": "code",
   "execution_count": 30,
   "metadata": {
    "ExecuteTime": {
     "end_time": "2021-02-02T15:51:51.844620Z",
     "start_time": "2021-02-02T15:51:51.795606Z"
    },
    "hidden": true
   },
   "outputs": [
    {
     "data": {
      "text/html": [
       "<style>div.sk-top-container {color: black;background-color: white;}div.sk-toggleable {background-color: white;}label.sk-toggleable__label {cursor: pointer;display: block;width: 100%;margin-bottom: 0;padding: 0.2em 0.3em;box-sizing: border-box;text-align: center;}div.sk-toggleable__content {max-height: 0;max-width: 0;overflow: hidden;text-align: left;background-color: #f0f8ff;}div.sk-toggleable__content pre {margin: 0.2em;color: black;border-radius: 0.25em;background-color: #f0f8ff;}input.sk-toggleable__control:checked~div.sk-toggleable__content {max-height: 200px;max-width: 100%;overflow: auto;}div.sk-estimator input.sk-toggleable__control:checked~label.sk-toggleable__label {background-color: #d4ebff;}div.sk-label input.sk-toggleable__control:checked~label.sk-toggleable__label {background-color: #d4ebff;}input.sk-hidden--visually {border: 0;clip: rect(1px 1px 1px 1px);clip: rect(1px, 1px, 1px, 1px);height: 1px;margin: -1px;overflow: hidden;padding: 0;position: absolute;width: 1px;}div.sk-estimator {font-family: monospace;background-color: #f0f8ff;margin: 0.25em 0.25em;border: 1px dotted black;border-radius: 0.25em;box-sizing: border-box;}div.sk-estimator:hover {background-color: #d4ebff;}div.sk-parallel-item::after {content: \"\";width: 100%;border-bottom: 1px solid gray;flex-grow: 1;}div.sk-label:hover label.sk-toggleable__label {background-color: #d4ebff;}div.sk-serial::before {content: \"\";position: absolute;border-left: 1px solid gray;box-sizing: border-box;top: 2em;bottom: 0;left: 50%;}div.sk-serial {display: flex;flex-direction: column;align-items: center;background-color: white;}div.sk-item {z-index: 1;}div.sk-parallel {display: flex;align-items: stretch;justify-content: center;background-color: white;}div.sk-parallel-item {display: flex;flex-direction: column;position: relative;background-color: white;}div.sk-parallel-item:first-child::after {align-self: flex-end;width: 50%;}div.sk-parallel-item:last-child::after {align-self: flex-start;width: 50%;}div.sk-parallel-item:only-child::after {width: 0;}div.sk-dashed-wrapped {border: 1px dashed gray;margin: 0.2em;box-sizing: border-box;padding-bottom: 0.1em;background-color: white;position: relative;}div.sk-label label {font-family: monospace;font-weight: bold;background-color: white;display: inline-block;line-height: 1.2em;}div.sk-label-container {position: relative;z-index: 2;text-align: center;}div.sk-container {display: inline-block;position: relative;}</style><div class=\"sk-top-container\"><div class=\"sk-container\"><div class=\"sk-item sk-dashed-wrapped\"><div class=\"sk-label-container\"><div class=\"sk-label sk-toggleable\"><input class=\"sk-toggleable__control sk-hidden--visually\" id=\"928f0b19-bf37-4725-91af-98f89059c953\" type=\"checkbox\" ><label class=\"sk-toggleable__label\" for=\"928f0b19-bf37-4725-91af-98f89059c953\">ColumnTransformer</label><div class=\"sk-toggleable__content\"><pre>ColumnTransformer(transformers=[('pipeline-1',\n",
       "                                 Pipeline(steps=[('knnimputer', KNNImputer()),\n",
       "                                                 ('minmaxscaler',\n",
       "                                                  MinMaxScaler())]),\n",
       "                                 <sklearn.compose._column_transformer.make_column_selector object at 0x1470e8c50>),\n",
       "                                ('pipeline-2',\n",
       "                                 Pipeline(steps=[('simpleimputer',\n",
       "                                                  SimpleImputer(fill_value='missing',\n",
       "                                                                strategy='constant')),\n",
       "                                                 ('ordinalencoder',\n",
       "                                                  OrdinalEncoder(categories...\n",
       "                                                  SimpleImputer(strategy='most_frequent')),\n",
       "                                                 ('onehotencoder',\n",
       "                                                  OneHotEncoder(handle_unknown='ignore'))]),\n",
       "                                 ['Alley', 'BldgType', 'CentralAir',\n",
       "                                  'Condition1', 'Condition2', 'Exterior1st',\n",
       "                                  'Exterior2nd', 'Foundation', 'GarageType',\n",
       "                                  'Heating', 'HouseStyle', 'LotConfig',\n",
       "                                  'MSZoning', 'MasVnrType', 'MiscFeature',\n",
       "                                  'Neighborhood', 'RoofMatl', 'RoofStyle',\n",
       "                                  'SaleCondition', 'SaleType', 'Street',\n",
       "                                  'Utilities'])])</pre></div></div></div><div class=\"sk-parallel\"><div class=\"sk-parallel-item\"><div class=\"sk-item\"><div class=\"sk-label-container\"><div class=\"sk-label sk-toggleable\"><input class=\"sk-toggleable__control sk-hidden--visually\" id=\"33e7c14e-d363-4590-be99-78f7286557ea\" type=\"checkbox\" ><label class=\"sk-toggleable__label\" for=\"33e7c14e-d363-4590-be99-78f7286557ea\">pipeline-1</label><div class=\"sk-toggleable__content\"><pre><sklearn.compose._column_transformer.make_column_selector object at 0x1470e8c50></pre></div></div></div><div class=\"sk-serial\"><div class=\"sk-item\"><div class=\"sk-serial\"><div class=\"sk-item\"><div class=\"sk-estimator sk-toggleable\"><input class=\"sk-toggleable__control sk-hidden--visually\" id=\"881d7266-0491-483a-a50c-af28abe992e0\" type=\"checkbox\" ><label class=\"sk-toggleable__label\" for=\"881d7266-0491-483a-a50c-af28abe992e0\">KNNImputer</label><div class=\"sk-toggleable__content\"><pre>KNNImputer()</pre></div></div></div><div class=\"sk-item\"><div class=\"sk-estimator sk-toggleable\"><input class=\"sk-toggleable__control sk-hidden--visually\" id=\"881920b4-cdcb-4ea9-a9b1-4214f5fafbfb\" type=\"checkbox\" ><label class=\"sk-toggleable__label\" for=\"881920b4-cdcb-4ea9-a9b1-4214f5fafbfb\">MinMaxScaler</label><div class=\"sk-toggleable__content\"><pre>MinMaxScaler()</pre></div></div></div></div></div></div></div></div><div class=\"sk-parallel-item\"><div class=\"sk-item\"><div class=\"sk-label-container\"><div class=\"sk-label sk-toggleable\"><input class=\"sk-toggleable__control sk-hidden--visually\" id=\"9b1ee638-1f01-4b3b-b9ea-863527b3cefe\" type=\"checkbox\" ><label class=\"sk-toggleable__label\" for=\"9b1ee638-1f01-4b3b-b9ea-863527b3cefe\">pipeline-2</label><div class=\"sk-toggleable__content\"><pre>['BsmtCond', 'BsmtExposure', 'BsmtFinType1', 'BsmtFinType2', 'BsmtQual', 'Electrical', 'ExterCond', 'ExterQual', 'Fence', 'FireplaceQu', 'Functional', 'GarageCond', 'GarageFinish', 'GarageQual', 'HeatingQC', 'KitchenQual', 'LandContour', 'LandSlope', 'LotShape', 'PavedDrive', 'PoolQC']</pre></div></div></div><div class=\"sk-serial\"><div class=\"sk-item\"><div class=\"sk-serial\"><div class=\"sk-item\"><div class=\"sk-estimator sk-toggleable\"><input class=\"sk-toggleable__control sk-hidden--visually\" id=\"eaef5d45-63a8-45a2-906a-83e9d1685e4a\" type=\"checkbox\" ><label class=\"sk-toggleable__label\" for=\"eaef5d45-63a8-45a2-906a-83e9d1685e4a\">SimpleImputer</label><div class=\"sk-toggleable__content\"><pre>SimpleImputer(fill_value='missing', strategy='constant')</pre></div></div></div><div class=\"sk-item\"><div class=\"sk-estimator sk-toggleable\"><input class=\"sk-toggleable__control sk-hidden--visually\" id=\"761b9ab9-fa95-4e6f-9003-ae52f1841cc4\" type=\"checkbox\" ><label class=\"sk-toggleable__label\" for=\"761b9ab9-fa95-4e6f-9003-ae52f1841cc4\">OrdinalEncoder</label><div class=\"sk-toggleable__content\"><pre>OrdinalEncoder(categories=[['missing', 'Po', 'Fa', 'TA', 'Gd'],\n",
       "                           ['missing', 'No', 'Mn', 'Av', 'Gd'],\n",
       "                           ['missing', 'Unf', 'LwQ', 'Rec', 'BLQ', 'ALQ',\n",
       "                            'GLQ'],\n",
       "                           ['missing', 'Unf', 'LwQ', 'Rec', 'BLQ', 'ALQ',\n",
       "                            'GLQ'],\n",
       "                           ['missing', 'Fa', 'TA', 'Gd', 'Ex'],\n",
       "                           ['missing', 'Mix', 'FuseP', 'FuseF', 'FuseA',\n",
       "                            'SBrkr'],\n",
       "                           ['missing', 'Po', 'Fa', 'TA', 'Gd', 'Ex'],\n",
       "                           ['missing', 'Fa', 'TA', 'Gd', 'Ex'],\n",
       "                           ['missing', '...\n",
       "                           ['missing', 'Unf', 'RFn', 'Fin'],\n",
       "                           ['missing', 'Po', 'Fa', 'TA', 'Gd', 'Ex'],\n",
       "                           ['missing', 'Po', 'Fa', 'TA', 'Gd', 'Ex'],\n",
       "                           ['missing', 'Fa', 'TA', 'Gd', 'Ex'],\n",
       "                           ['missing', 'Low', 'Bnk', 'HLS', 'Lvl'],\n",
       "                           ['missing', 'Sev', 'Mod', 'Gtl'],\n",
       "                           ['missing', 'IR3', 'IR2', 'IR1', 'Reg'],\n",
       "                           ['missing', 'N', 'P', 'Y'],\n",
       "                           ['missing', 'Fa', 'Gd', 'Ex']],\n",
       "               dtype=<class 'numpy.int64'>, handle_unknown='use_encoded_value',\n",
       "               unknown_value=-1)</pre></div></div></div><div class=\"sk-item\"><div class=\"sk-estimator sk-toggleable\"><input class=\"sk-toggleable__control sk-hidden--visually\" id=\"8fcfd07e-ec92-4907-8f9f-90d49c87e738\" type=\"checkbox\" ><label class=\"sk-toggleable__label\" for=\"8fcfd07e-ec92-4907-8f9f-90d49c87e738\">MinMaxScaler</label><div class=\"sk-toggleable__content\"><pre>MinMaxScaler()</pre></div></div></div></div></div></div></div></div><div class=\"sk-parallel-item\"><div class=\"sk-item\"><div class=\"sk-label-container\"><div class=\"sk-label sk-toggleable\"><input class=\"sk-toggleable__control sk-hidden--visually\" id=\"0e12773a-1a00-4619-88dd-5f0069585207\" type=\"checkbox\" ><label class=\"sk-toggleable__label\" for=\"0e12773a-1a00-4619-88dd-5f0069585207\">pipeline-3</label><div class=\"sk-toggleable__content\"><pre>['Alley', 'BldgType', 'CentralAir', 'Condition1', 'Condition2', 'Exterior1st', 'Exterior2nd', 'Foundation', 'GarageType', 'Heating', 'HouseStyle', 'LotConfig', 'MSZoning', 'MasVnrType', 'MiscFeature', 'Neighborhood', 'RoofMatl', 'RoofStyle', 'SaleCondition', 'SaleType', 'Street', 'Utilities']</pre></div></div></div><div class=\"sk-serial\"><div class=\"sk-item\"><div class=\"sk-serial\"><div class=\"sk-item\"><div class=\"sk-estimator sk-toggleable\"><input class=\"sk-toggleable__control sk-hidden--visually\" id=\"4a010c86-d773-4431-94cc-94544111010f\" type=\"checkbox\" ><label class=\"sk-toggleable__label\" for=\"4a010c86-d773-4431-94cc-94544111010f\">SimpleImputer</label><div class=\"sk-toggleable__content\"><pre>SimpleImputer(strategy='most_frequent')</pre></div></div></div><div class=\"sk-item\"><div class=\"sk-estimator sk-toggleable\"><input class=\"sk-toggleable__control sk-hidden--visually\" id=\"18202b97-ebac-4d02-afba-faad921d358e\" type=\"checkbox\" ><label class=\"sk-toggleable__label\" for=\"18202b97-ebac-4d02-afba-faad921d358e\">OneHotEncoder</label><div class=\"sk-toggleable__content\"><pre>OneHotEncoder(handle_unknown='ignore')</pre></div></div></div></div></div></div></div></div></div></div></div></div>"
      ],
      "text/plain": [
       "ColumnTransformer(transformers=[('pipeline-1',\n",
       "                                 Pipeline(steps=[('knnimputer', KNNImputer()),\n",
       "                                                 ('minmaxscaler',\n",
       "                                                  MinMaxScaler())]),\n",
       "                                 <sklearn.compose._column_transformer.make_column_selector object at 0x1470e8c50>),\n",
       "                                ('pipeline-2',\n",
       "                                 Pipeline(steps=[('simpleimputer',\n",
       "                                                  SimpleImputer(fill_value='missing',\n",
       "                                                                strategy='constant')),\n",
       "                                                 ('ordinalencoder',\n",
       "                                                  OrdinalEncoder(categories...\n",
       "                                                  SimpleImputer(strategy='most_frequent')),\n",
       "                                                 ('onehotencoder',\n",
       "                                                  OneHotEncoder(handle_unknown='ignore'))]),\n",
       "                                 ['Alley', 'BldgType', 'CentralAir',\n",
       "                                  'Condition1', 'Condition2', 'Exterior1st',\n",
       "                                  'Exterior2nd', 'Foundation', 'GarageType',\n",
       "                                  'Heating', 'HouseStyle', 'LotConfig',\n",
       "                                  'MSZoning', 'MasVnrType', 'MiscFeature',\n",
       "                                  'Neighborhood', 'RoofMatl', 'RoofStyle',\n",
       "                                  'SaleCondition', 'SaleType', 'Street',\n",
       "                                  'Utilities'])])"
      ]
     },
     "execution_count": 30,
     "metadata": {},
     "output_type": "execute_result"
    }
   ],
   "source": [
    "preproc = make_column_transformer(\n",
    "    (preproc_numerical, make_column_selector(dtype_include=[\"int64\", \"float64\"])),\n",
    "    (preproc_ordinal, feat_ordinal),\n",
    "    (preproc_nominal, feat_nominal),\n",
    "    remainder=\"drop\")\n",
    "\n",
    "preproc\n"
   ]
  },
  {
   "cell_type": "code",
   "execution_count": 31,
   "metadata": {
    "ExecuteTime": {
     "end_time": "2021-02-02T15:51:51.940090Z",
     "start_time": "2021-02-02T15:51:51.847015Z"
    },
    "hidden": true
   },
   "outputs": [
    {
     "data": {
      "text/plain": [
       "(1460, 217)"
      ]
     },
     "execution_count": 31,
     "metadata": {},
     "output_type": "execute_result"
    }
   ],
   "source": [
    "preproc.fit_transform(X).shape"
   ]
  },
  {
   "cell_type": "markdown",
   "metadata": {
    "heading_collapsed": true
   },
   "source": [
    "### Target engineering (15 min)"
   ]
  },
  {
   "cell_type": "markdown",
   "metadata": {
    "hidden": true
   },
   "source": [
    "❓ We are asked to minimize the RMS**L**E. Why don't we transform our target to directly predict its log?\n",
    "- Check-out historgram of your target `y`. Normally distributed variables should be easier to predict with linear models. \n",
    "- Create `y_log` and your new performance metrics\n",
    "- Don't forget at the end to take the exponential of your predictions!"
   ]
  },
  {
   "cell_type": "code",
   "execution_count": 32,
   "metadata": {
    "ExecuteTime": {
     "end_time": "2021-02-02T15:51:52.314746Z",
     "start_time": "2021-02-02T15:51:51.942808Z"
    },
    "hidden": true
   },
   "outputs": [
    {
     "data": {
      "text/plain": [
       "<AxesSubplot:xlabel='SalePrice', ylabel='Count'>"
      ]
     },
     "execution_count": 32,
     "metadata": {},
     "output_type": "execute_result"
    }
   ],
   "source": [
    "y_log = np.log(y)\n",
    "plt.figure(figsize=(15,3))\n",
    "plt.subplot(1,2,1)\n",
    "sns.histplot(y)\n",
    "plt.subplot(1,2,2)\n",
    "sns.histplot(y_log, color='green')"
   ]
  },
  {
   "cell_type": "code",
   "execution_count": 33,
   "metadata": {
    "ExecuteTime": {
     "end_time": "2021-02-02T15:51:52.319555Z",
     "start_time": "2021-02-02T15:51:52.316674Z"
    },
    "hidden": true
   },
   "outputs": [],
   "source": [
    "# Create your new scorer to minimize\n",
    "from sklearn.metrics import mean_squared_error\n",
    "rmse = make_scorer(lambda y_true, y_pred: mean_squared_error(y_true, y_pred)**0.5)\n",
    "\n",
    "# Create your new scorer to maximize\n",
    "rmse_neg = make_scorer(lambda y_true, y_pred: -1 * mean_squared_error(y_true, y_pred)**0.5)"
   ]
  },
  {
   "cell_type": "markdown",
   "metadata": {},
   "source": [
    "### Statistical Feature Selection (1h)"
   ]
  },
  {
   "cell_type": "markdown",
   "metadata": {},
   "source": [
    "Our goal is to remove the least interesting features, to limit overfitting and shorten training time.  \n",
    "Choose one of the 3 options below"
   ]
  },
  {
   "cell_type": "markdown",
   "metadata": {
    "heading_collapsed": true
   },
   "source": [
    "#### (option 1 - recommended) univariate feature selection based on relationship with target `y`"
   ]
  },
  {
   "cell_type": "markdown",
   "metadata": {
    "hidden": true
   },
   "source": [
    "❓ We will use sklearn's [feature selection](https://scikit-learn.org/stable/modules/classes.html#module-sklearn.feature_selection) tools directly in your pipeline.\n",
    "- Add a `SelectPercentile` filter (coupled with `mutual_info_regression` for the statistical test to use) at the end of your `preproc` pipeline.\n",
    "- This will filter-out features that, - taken individually - least explain your target!  "
   ]
  },
  {
   "cell_type": "code",
   "execution_count": 34,
   "metadata": {
    "ExecuteTime": {
     "end_time": "2021-02-02T16:22:25.630839Z",
     "start_time": "2021-02-02T16:22:25.498541Z"
    },
    "hidden": true
   },
   "outputs": [
    {
     "data": {
      "text/html": [
       "<style>div.sk-top-container {color: black;background-color: white;}div.sk-toggleable {background-color: white;}label.sk-toggleable__label {cursor: pointer;display: block;width: 100%;margin-bottom: 0;padding: 0.2em 0.3em;box-sizing: border-box;text-align: center;}div.sk-toggleable__content {max-height: 0;max-width: 0;overflow: hidden;text-align: left;background-color: #f0f8ff;}div.sk-toggleable__content pre {margin: 0.2em;color: black;border-radius: 0.25em;background-color: #f0f8ff;}input.sk-toggleable__control:checked~div.sk-toggleable__content {max-height: 200px;max-width: 100%;overflow: auto;}div.sk-estimator input.sk-toggleable__control:checked~label.sk-toggleable__label {background-color: #d4ebff;}div.sk-label input.sk-toggleable__control:checked~label.sk-toggleable__label {background-color: #d4ebff;}input.sk-hidden--visually {border: 0;clip: rect(1px 1px 1px 1px);clip: rect(1px, 1px, 1px, 1px);height: 1px;margin: -1px;overflow: hidden;padding: 0;position: absolute;width: 1px;}div.sk-estimator {font-family: monospace;background-color: #f0f8ff;margin: 0.25em 0.25em;border: 1px dotted black;border-radius: 0.25em;box-sizing: border-box;}div.sk-estimator:hover {background-color: #d4ebff;}div.sk-parallel-item::after {content: \"\";width: 100%;border-bottom: 1px solid gray;flex-grow: 1;}div.sk-label:hover label.sk-toggleable__label {background-color: #d4ebff;}div.sk-serial::before {content: \"\";position: absolute;border-left: 1px solid gray;box-sizing: border-box;top: 2em;bottom: 0;left: 50%;}div.sk-serial {display: flex;flex-direction: column;align-items: center;background-color: white;}div.sk-item {z-index: 1;}div.sk-parallel {display: flex;align-items: stretch;justify-content: center;background-color: white;}div.sk-parallel-item {display: flex;flex-direction: column;position: relative;background-color: white;}div.sk-parallel-item:first-child::after {align-self: flex-end;width: 50%;}div.sk-parallel-item:last-child::after {align-self: flex-start;width: 50%;}div.sk-parallel-item:only-child::after {width: 0;}div.sk-dashed-wrapped {border: 1px dashed gray;margin: 0.2em;box-sizing: border-box;padding-bottom: 0.1em;background-color: white;position: relative;}div.sk-label label {font-family: monospace;font-weight: bold;background-color: white;display: inline-block;line-height: 1.2em;}div.sk-label-container {position: relative;z-index: 2;text-align: center;}div.sk-container {display: inline-block;position: relative;}</style><div class=\"sk-top-container\"><div class=\"sk-container\"><div class=\"sk-item sk-dashed-wrapped\"><div class=\"sk-label-container\"><div class=\"sk-label sk-toggleable\"><input class=\"sk-toggleable__control sk-hidden--visually\" id=\"c870cefa-9fb9-412b-94f1-096b6157b268\" type=\"checkbox\" ><label class=\"sk-toggleable__label\" for=\"c870cefa-9fb9-412b-94f1-096b6157b268\">Pipeline</label><div class=\"sk-toggleable__content\"><pre>Pipeline(steps=[('columntransformer',\n",
       "                 ColumnTransformer(transformers=[('pipeline-1',\n",
       "                                                  Pipeline(steps=[('knnimputer',\n",
       "                                                                   KNNImputer()),\n",
       "                                                                  ('minmaxscaler',\n",
       "                                                                   MinMaxScaler())]),\n",
       "                                                  <sklearn.compose._column_transformer.make_column_selector object at 0x146797f90>),\n",
       "                                                 ('pipeline-2',\n",
       "                                                  Pipeline(steps=[('simpleimputer',\n",
       "                                                                   SimpleImputer(fill_value='missing',\n",
       "                                                                                 strategy='constant')),\n",
       "                                                                  ('ordi...\n",
       "                                                   'CentralAir', 'Condition1',\n",
       "                                                   'Condition2', 'Exterior1st',\n",
       "                                                   'Exterior2nd', 'Foundation',\n",
       "                                                   'GarageType', 'Heating',\n",
       "                                                   'HouseStyle', 'LotConfig',\n",
       "                                                   'MSZoning', 'MasVnrType',\n",
       "                                                   'MiscFeature',\n",
       "                                                   'Neighborhood', 'RoofMatl',\n",
       "                                                   'RoofStyle', 'SaleCondition',\n",
       "                                                   'SaleType', 'Street',\n",
       "                                                   'Utilities'])])),\n",
       "                ('selectpercentile',\n",
       "                 SelectPercentile(percentile=50,\n",
       "                                  score_func=<function mutual_info_regression at 0x1467afd40>))])</pre></div></div></div><div class=\"sk-serial\"><div class=\"sk-item sk-dashed-wrapped\"><div class=\"sk-label-container\"><div class=\"sk-label sk-toggleable\"><input class=\"sk-toggleable__control sk-hidden--visually\" id=\"ff07364c-8549-45eb-bdfc-313d7523a4ca\" type=\"checkbox\" ><label class=\"sk-toggleable__label\" for=\"ff07364c-8549-45eb-bdfc-313d7523a4ca\">columntransformer: ColumnTransformer</label><div class=\"sk-toggleable__content\"><pre>ColumnTransformer(transformers=[('pipeline-1',\n",
       "                                 Pipeline(steps=[('knnimputer', KNNImputer()),\n",
       "                                                 ('minmaxscaler',\n",
       "                                                  MinMaxScaler())]),\n",
       "                                 <sklearn.compose._column_transformer.make_column_selector object at 0x146797f90>),\n",
       "                                ('pipeline-2',\n",
       "                                 Pipeline(steps=[('simpleimputer',\n",
       "                                                  SimpleImputer(fill_value='missing',\n",
       "                                                                strategy='constant')),\n",
       "                                                 ('ordinalencoder',\n",
       "                                                  OrdinalEncoder(categories...\n",
       "                                                  SimpleImputer(strategy='most_frequent')),\n",
       "                                                 ('onehotencoder',\n",
       "                                                  OneHotEncoder(handle_unknown='ignore'))]),\n",
       "                                 ['Alley', 'BldgType', 'CentralAir',\n",
       "                                  'Condition1', 'Condition2', 'Exterior1st',\n",
       "                                  'Exterior2nd', 'Foundation', 'GarageType',\n",
       "                                  'Heating', 'HouseStyle', 'LotConfig',\n",
       "                                  'MSZoning', 'MasVnrType', 'MiscFeature',\n",
       "                                  'Neighborhood', 'RoofMatl', 'RoofStyle',\n",
       "                                  'SaleCondition', 'SaleType', 'Street',\n",
       "                                  'Utilities'])])</pre></div></div></div><div class=\"sk-parallel\"><div class=\"sk-parallel-item\"><div class=\"sk-item\"><div class=\"sk-label-container\"><div class=\"sk-label sk-toggleable\"><input class=\"sk-toggleable__control sk-hidden--visually\" id=\"0fb60d25-6711-4ec4-9bee-084e677e3d1f\" type=\"checkbox\" ><label class=\"sk-toggleable__label\" for=\"0fb60d25-6711-4ec4-9bee-084e677e3d1f\">pipeline-1</label><div class=\"sk-toggleable__content\"><pre><sklearn.compose._column_transformer.make_column_selector object at 0x146797f90></pre></div></div></div><div class=\"sk-serial\"><div class=\"sk-item\"><div class=\"sk-serial\"><div class=\"sk-item\"><div class=\"sk-estimator sk-toggleable\"><input class=\"sk-toggleable__control sk-hidden--visually\" id=\"a0fd7f89-a9f1-403a-acf7-4cba50307536\" type=\"checkbox\" ><label class=\"sk-toggleable__label\" for=\"a0fd7f89-a9f1-403a-acf7-4cba50307536\">KNNImputer</label><div class=\"sk-toggleable__content\"><pre>KNNImputer()</pre></div></div></div><div class=\"sk-item\"><div class=\"sk-estimator sk-toggleable\"><input class=\"sk-toggleable__control sk-hidden--visually\" id=\"be4b4859-09c7-4ae0-90b4-7d42a631b232\" type=\"checkbox\" ><label class=\"sk-toggleable__label\" for=\"be4b4859-09c7-4ae0-90b4-7d42a631b232\">MinMaxScaler</label><div class=\"sk-toggleable__content\"><pre>MinMaxScaler()</pre></div></div></div></div></div></div></div></div><div class=\"sk-parallel-item\"><div class=\"sk-item\"><div class=\"sk-label-container\"><div class=\"sk-label sk-toggleable\"><input class=\"sk-toggleable__control sk-hidden--visually\" id=\"4e9f6d39-2c89-42c1-b399-5f63cdc342b3\" type=\"checkbox\" ><label class=\"sk-toggleable__label\" for=\"4e9f6d39-2c89-42c1-b399-5f63cdc342b3\">pipeline-2</label><div class=\"sk-toggleable__content\"><pre>['BsmtCond', 'BsmtExposure', 'BsmtFinType1', 'BsmtFinType2', 'BsmtQual', 'Electrical', 'ExterCond', 'ExterQual', 'Fence', 'FireplaceQu', 'Functional', 'GarageCond', 'GarageFinish', 'GarageQual', 'HeatingQC', 'KitchenQual', 'LandContour', 'LandSlope', 'LotShape', 'PavedDrive', 'PoolQC']</pre></div></div></div><div class=\"sk-serial\"><div class=\"sk-item\"><div class=\"sk-serial\"><div class=\"sk-item\"><div class=\"sk-estimator sk-toggleable\"><input class=\"sk-toggleable__control sk-hidden--visually\" id=\"04535905-0424-4db9-989a-3bf01b687598\" type=\"checkbox\" ><label class=\"sk-toggleable__label\" for=\"04535905-0424-4db9-989a-3bf01b687598\">SimpleImputer</label><div class=\"sk-toggleable__content\"><pre>SimpleImputer(fill_value='missing', strategy='constant')</pre></div></div></div><div class=\"sk-item\"><div class=\"sk-estimator sk-toggleable\"><input class=\"sk-toggleable__control sk-hidden--visually\" id=\"3ee41c48-c820-42ea-97f5-70fc3eb811a3\" type=\"checkbox\" ><label class=\"sk-toggleable__label\" for=\"3ee41c48-c820-42ea-97f5-70fc3eb811a3\">OrdinalEncoder</label><div class=\"sk-toggleable__content\"><pre>OrdinalEncoder(categories=[['missing', 'Po', 'Fa', 'TA', 'Gd'],\n",
       "                           ['missing', 'No', 'Mn', 'Av', 'Gd'],\n",
       "                           ['missing', 'Unf', 'LwQ', 'Rec', 'BLQ', 'ALQ',\n",
       "                            'GLQ'],\n",
       "                           ['missing', 'Unf', 'LwQ', 'Rec', 'BLQ', 'ALQ',\n",
       "                            'GLQ'],\n",
       "                           ['missing', 'Fa', 'TA', 'Gd', 'Ex'],\n",
       "                           ['missing', 'Mix', 'FuseP', 'FuseF', 'FuseA',\n",
       "                            'SBrkr'],\n",
       "                           ['missing', 'Po', 'Fa', 'TA', 'Gd', 'Ex'],\n",
       "                           ['missing', 'Fa', 'TA', 'Gd', 'Ex'],\n",
       "                           ['missing', '...\n",
       "                           ['missing', 'Unf', 'RFn', 'Fin'],\n",
       "                           ['missing', 'Po', 'Fa', 'TA', 'Gd', 'Ex'],\n",
       "                           ['missing', 'Po', 'Fa', 'TA', 'Gd', 'Ex'],\n",
       "                           ['missing', 'Fa', 'TA', 'Gd', 'Ex'],\n",
       "                           ['missing', 'Low', 'Bnk', 'HLS', 'Lvl'],\n",
       "                           ['missing', 'Sev', 'Mod', 'Gtl'],\n",
       "                           ['missing', 'IR3', 'IR2', 'IR1', 'Reg'],\n",
       "                           ['missing', 'N', 'P', 'Y'],\n",
       "                           ['missing', 'Fa', 'Gd', 'Ex']],\n",
       "               dtype=<class 'numpy.int64'>, handle_unknown='use_encoded_value',\n",
       "               unknown_value=-1)</pre></div></div></div><div class=\"sk-item\"><div class=\"sk-estimator sk-toggleable\"><input class=\"sk-toggleable__control sk-hidden--visually\" id=\"ed228859-861a-4c81-8bcf-8ff8d7e16624\" type=\"checkbox\" ><label class=\"sk-toggleable__label\" for=\"ed228859-861a-4c81-8bcf-8ff8d7e16624\">MinMaxScaler</label><div class=\"sk-toggleable__content\"><pre>MinMaxScaler()</pre></div></div></div></div></div></div></div></div><div class=\"sk-parallel-item\"><div class=\"sk-item\"><div class=\"sk-label-container\"><div class=\"sk-label sk-toggleable\"><input class=\"sk-toggleable__control sk-hidden--visually\" id=\"173fc0cd-2c51-49e8-b048-2d3c492cf717\" type=\"checkbox\" ><label class=\"sk-toggleable__label\" for=\"173fc0cd-2c51-49e8-b048-2d3c492cf717\">pipeline-3</label><div class=\"sk-toggleable__content\"><pre>['Alley', 'BldgType', 'CentralAir', 'Condition1', 'Condition2', 'Exterior1st', 'Exterior2nd', 'Foundation', 'GarageType', 'Heating', 'HouseStyle', 'LotConfig', 'MSZoning', 'MasVnrType', 'MiscFeature', 'Neighborhood', 'RoofMatl', 'RoofStyle', 'SaleCondition', 'SaleType', 'Street', 'Utilities']</pre></div></div></div><div class=\"sk-serial\"><div class=\"sk-item\"><div class=\"sk-serial\"><div class=\"sk-item\"><div class=\"sk-estimator sk-toggleable\"><input class=\"sk-toggleable__control sk-hidden--visually\" id=\"fb37444a-9da6-4c69-91bd-0eed26810b84\" type=\"checkbox\" ><label class=\"sk-toggleable__label\" for=\"fb37444a-9da6-4c69-91bd-0eed26810b84\">SimpleImputer</label><div class=\"sk-toggleable__content\"><pre>SimpleImputer(strategy='most_frequent')</pre></div></div></div><div class=\"sk-item\"><div class=\"sk-estimator sk-toggleable\"><input class=\"sk-toggleable__control sk-hidden--visually\" id=\"b016ddf2-1adf-4464-a243-ee7d335b6b03\" type=\"checkbox\" ><label class=\"sk-toggleable__label\" for=\"b016ddf2-1adf-4464-a243-ee7d335b6b03\">OneHotEncoder</label><div class=\"sk-toggleable__content\"><pre>OneHotEncoder(handle_unknown='ignore')</pre></div></div></div></div></div></div></div></div></div></div><div class=\"sk-item\"><div class=\"sk-estimator sk-toggleable\"><input class=\"sk-toggleable__control sk-hidden--visually\" id=\"41131bcd-03ed-4c88-b61c-7831513100c2\" type=\"checkbox\" ><label class=\"sk-toggleable__label\" for=\"41131bcd-03ed-4c88-b61c-7831513100c2\">SelectPercentile</label><div class=\"sk-toggleable__content\"><pre>SelectPercentile(percentile=50,\n",
       "                 score_func=<function mutual_info_regression at 0x1467afd40>)</pre></div></div></div></div></div></div></div>"
      ],
      "text/plain": [
       "Pipeline(steps=[('columntransformer',\n",
       "                 ColumnTransformer(transformers=[('pipeline-1',\n",
       "                                                  Pipeline(steps=[('knnimputer',\n",
       "                                                                   KNNImputer()),\n",
       "                                                                  ('minmaxscaler',\n",
       "                                                                   MinMaxScaler())]),\n",
       "                                                  <sklearn.compose._column_transformer.make_column_selector object at 0x146797f90>),\n",
       "                                                 ('pipeline-2',\n",
       "                                                  Pipeline(steps=[('simpleimputer',\n",
       "                                                                   SimpleImputer(fill_value='missing',\n",
       "                                                                                 strategy='constant')),\n",
       "                                                                  ('ordi...\n",
       "                                                   'CentralAir', 'Condition1',\n",
       "                                                   'Condition2', 'Exterior1st',\n",
       "                                                   'Exterior2nd', 'Foundation',\n",
       "                                                   'GarageType', 'Heating',\n",
       "                                                   'HouseStyle', 'LotConfig',\n",
       "                                                   'MSZoning', 'MasVnrType',\n",
       "                                                   'MiscFeature',\n",
       "                                                   'Neighborhood', 'RoofMatl',\n",
       "                                                   'RoofStyle', 'SaleCondition',\n",
       "                                                   'SaleType', 'Street',\n",
       "                                                   'Utilities'])])),\n",
       "                ('selectpercentile',\n",
       "                 SelectPercentile(percentile=50,\n",
       "                                  score_func=<function mutual_info_regression at 0x1467afd40>))])"
      ]
     },
     "execution_count": 34,
     "metadata": {},
     "output_type": "execute_result"
    }
   ],
   "source": [
    "from sklearn.feature_selection import SelectPercentile, mutual_info_regression\n",
    "\n",
    "preproc_transformer = make_column_transformer(\n",
    "    (preproc_numerical, make_column_selector(dtype_include=[\"int64\", \"float64\"])),\n",
    "    (preproc_ordinal, feat_ordinal),\n",
    "    (preproc_nominal, feat_nominal),\n",
    "    remainder=\"drop\")\n",
    "\n",
    "preproc_selector = SelectPercentile(\n",
    "    mutual_info_regression,\n",
    "    percentile=50, # keep only 50% of all features\n",
    ")\n",
    "\n",
    "preproc = make_pipeline(\n",
    "    preproc_transformer,\n",
    "    preproc_selector\n",
    ")\n",
    "preproc"
   ]
  },
  {
   "cell_type": "code",
   "execution_count": 35,
   "metadata": {
    "ExecuteTime": {
     "end_time": "2021-02-02T15:51:53.686210Z",
     "start_time": "2021-02-02T15:51:52.321912Z"
    },
    "hidden": true
   },
   "outputs": [
    {
     "data": {
      "text/plain": [
       "(1460, 108)"
      ]
     },
     "execution_count": 35,
     "metadata": {},
     "output_type": "execute_result"
    }
   ],
   "source": [
    "preproc.fit_transform(X,y_log).shape"
   ]
  },
  {
   "cell_type": "code",
   "execution_count": 36,
   "metadata": {
    "ExecuteTime": {
     "end_time": "2021-02-02T15:51:53.691865Z",
     "start_time": "2021-02-02T15:51:53.689131Z"
    },
    "hidden": true
   },
   "outputs": [],
   "source": [
    "# TODO: Create a Solution"
   ]
  },
  {
   "cell_type": "markdown",
   "metadata": {
    "heading_collapsed": true
   },
   "source": [
    "#### (option 2) multivariate feature selection based their common relationship with target `y`"
   ]
  },
  {
   "cell_type": "markdown",
   "metadata": {
    "hidden": true
   },
   "source": [
    "❓ We will use sklearn's [feature selection](https://scikit-learn.org/stable/modules/classes.html#module-sklearn.feature_selection) tools directly in your pipeline.\n",
    "- Add a `SequentialFeatureSelector` at the end of your `preproc` pipeline.\n",
    "- This will recursively filter-out least important features according to `feature_permutation` importance!  \n",
    "- Probably overkill for such small dataset!"
   ]
  },
  {
   "cell_type": "code",
   "execution_count": 37,
   "metadata": {
    "hidden": true
   },
   "outputs": [],
   "source": [
    "# TODO: Create a Solution"
   ]
  },
  {
   "cell_type": "markdown",
   "metadata": {},
   "source": [
    "#### (option 3) Filter based only on the properties of `X` ?"
   ]
  },
  {
   "cell_type": "code",
   "execution_count": null,
   "metadata": {},
   "outputs": [],
   "source": []
  },
  {
   "cell_type": "markdown",
   "metadata": {},
   "source": [
    "❓ Use Pearson's correlation combined with a heatmap...\n",
    "- to check visually whether some **numerical** features almost entirely explain others. \n",
    "- Then, create a \"filter\" in your pipeline that removes any correlated below a certain threshold"
   ]
  },
  {
   "cell_type": "code",
   "execution_count": 38,
   "metadata": {
    "ExecuteTime": {
     "end_time": "2021-02-02T15:51:54.082453Z",
     "start_time": "2021-02-02T15:51:53.693772Z"
    }
   },
   "outputs": [],
   "source": [
    "corr_num = X[feat_numerical].corr()\n",
    "sns.heatmap(corr_num, cmap='coolwarm');"
   ]
  },
  {
   "cell_type": "code",
   "execution_count": 39,
   "metadata": {
    "ExecuteTime": {
     "end_time": "2021-02-02T15:51:54.086492Z",
     "start_time": "2021-02-02T15:51:54.084287Z"
    }
   },
   "outputs": [],
   "source": [
    "# TODO(solution): Incorporate this filtering into the pipeline by creating custom encoder class"
   ]
  },
  {
   "cell_type": "markdown",
   "metadata": {},
   "source": [
    "❓ Use [Spearman's rank correlation](https://en.wikipedia.org/wiki/Spearman%27s_rank_correlation_coefficient) combined with a heatmap...\n",
    "- to whether some **ordinally encoded** features are almost entirely \"ordered\" similarily than others\n",
    "- Then, create a \"filter\" in your pipeline that removes any ordinal features correlated below a certain threshold"
   ]
  },
  {
   "cell_type": "code",
   "execution_count": 40,
   "metadata": {
    "ExecuteTime": {
     "end_time": "2021-02-02T16:15:24.793937Z",
     "start_time": "2021-02-02T16:15:24.470732Z"
    }
   },
   "outputs": [],
   "source": [
    "X_ordinally_encoded = pd.DataFrame(preproc_ordinal.fit_transform(X[feat_ordinal]))\n",
    "sns.heatmap(X_ordinally_encoded.corr(method='spearman'), cmap='coolwarm');"
   ]
  },
  {
   "cell_type": "code",
   "execution_count": 41,
   "metadata": {
    "ExecuteTime": {
     "end_time": "2021-02-02T15:51:54.378627Z",
     "start_time": "2021-02-02T15:51:54.376048Z"
    }
   },
   "outputs": [],
   "source": [
    "# TODO(solution): Incorporate filtering into the pipeline by creating custom encoder class"
   ]
  },
  {
   "cell_type": "markdown",
   "metadata": {},
   "source": [
    "❓ Another way to filter out feature relies solely on removing those with the lowest variance.  \n",
    "- Think about it: a feature which only takes one value is useless (and has a variance of 0).  \n",
    "- Try to add a `VarianceThreshold` to the end of your pipeline"
   ]
  },
  {
   "cell_type": "code",
   "execution_count": 42,
   "metadata": {
    "ExecuteTime": {
     "end_time": "2021-02-02T15:51:55.851008Z",
     "start_time": "2021-02-02T15:51:54.380639Z"
    }
   },
   "outputs": [
    {
     "data": {
      "text/plain": [
       "Text(0.5, 1.0, 'Number of Feature Remaining')"
      ]
     },
     "execution_count": 42,
     "metadata": {},
     "output_type": "execute_result"
    }
   ],
   "source": [
    "from sklearn.feature_selection import VarianceThreshold\n",
    "\n",
    "def number_feature_remaining(cutoff=0):\n",
    "    preproc_transformer = make_column_transformer(\n",
    "        (preproc_numerical, feat_numerical),\n",
    "        (preproc_ordinal, feat_ordinal),\n",
    "        (preproc_nominal, feat_nominal),\n",
    "        remainder=\"drop\")\n",
    "\n",
    "    preproc_selector = VarianceThreshold(cutoff)\n",
    "\n",
    "    preproc = make_pipeline(\n",
    "        preproc_transformer,\n",
    "        preproc_selector)\n",
    "\n",
    "    return preproc.fit_transform(X).shape[1]\n",
    "\n",
    "cutoff_values = np.arange(0, 0.2, 0.01)\n",
    "plt.plot(cutoff_values, [number_feature_remaining(t) for t in cutoff_values], marker='x')\n",
    "plt.xlabel(\"feature variance cutoff\")\n",
    "plt.title(\"Number of Feature Remaining\")"
   ]
  },
  {
   "cell_type": "code",
   "execution_count": 43,
   "metadata": {
    "ExecuteTime": {
     "end_time": "2021-02-02T15:51:55.855088Z",
     "start_time": "2021-02-02T15:51:55.853045Z"
    }
   },
   "outputs": [],
   "source": [
    "# ☝️ We could decide to put a 0.025 threshold on the categorical features to divide their number by more than half"
   ]
  },
  {
   "cell_type": "markdown",
   "metadata": {},
   "source": [
    "### Final preproc pipeline\n",
    "❓ store here your final version of the preproc pipeline"
   ]
  },
  {
   "cell_type": "code",
   "execution_count": 44,
   "metadata": {
    "ExecuteTime": {
     "end_time": "2021-02-02T19:56:27.306869Z",
     "start_time": "2021-02-02T19:56:27.161247Z"
    }
   },
   "outputs": [
    {
     "data": {
      "text/html": [
       "<style>div.sk-top-container {color: black;background-color: white;}div.sk-toggleable {background-color: white;}label.sk-toggleable__label {cursor: pointer;display: block;width: 100%;margin-bottom: 0;padding: 0.2em 0.3em;box-sizing: border-box;text-align: center;}div.sk-toggleable__content {max-height: 0;max-width: 0;overflow: hidden;text-align: left;background-color: #f0f8ff;}div.sk-toggleable__content pre {margin: 0.2em;color: black;border-radius: 0.25em;background-color: #f0f8ff;}input.sk-toggleable__control:checked~div.sk-toggleable__content {max-height: 200px;max-width: 100%;overflow: auto;}div.sk-estimator input.sk-toggleable__control:checked~label.sk-toggleable__label {background-color: #d4ebff;}div.sk-label input.sk-toggleable__control:checked~label.sk-toggleable__label {background-color: #d4ebff;}input.sk-hidden--visually {border: 0;clip: rect(1px 1px 1px 1px);clip: rect(1px, 1px, 1px, 1px);height: 1px;margin: -1px;overflow: hidden;padding: 0;position: absolute;width: 1px;}div.sk-estimator {font-family: monospace;background-color: #f0f8ff;margin: 0.25em 0.25em;border: 1px dotted black;border-radius: 0.25em;box-sizing: border-box;}div.sk-estimator:hover {background-color: #d4ebff;}div.sk-parallel-item::after {content: \"\";width: 100%;border-bottom: 1px solid gray;flex-grow: 1;}div.sk-label:hover label.sk-toggleable__label {background-color: #d4ebff;}div.sk-serial::before {content: \"\";position: absolute;border-left: 1px solid gray;box-sizing: border-box;top: 2em;bottom: 0;left: 50%;}div.sk-serial {display: flex;flex-direction: column;align-items: center;background-color: white;}div.sk-item {z-index: 1;}div.sk-parallel {display: flex;align-items: stretch;justify-content: center;background-color: white;}div.sk-parallel-item {display: flex;flex-direction: column;position: relative;background-color: white;}div.sk-parallel-item:first-child::after {align-self: flex-end;width: 50%;}div.sk-parallel-item:last-child::after {align-self: flex-start;width: 50%;}div.sk-parallel-item:only-child::after {width: 0;}div.sk-dashed-wrapped {border: 1px dashed gray;margin: 0.2em;box-sizing: border-box;padding-bottom: 0.1em;background-color: white;position: relative;}div.sk-label label {font-family: monospace;font-weight: bold;background-color: white;display: inline-block;line-height: 1.2em;}div.sk-label-container {position: relative;z-index: 2;text-align: center;}div.sk-container {display: inline-block;position: relative;}</style><div class=\"sk-top-container\"><div class=\"sk-container\"><div class=\"sk-item sk-dashed-wrapped\"><div class=\"sk-label-container\"><div class=\"sk-label sk-toggleable\"><input class=\"sk-toggleable__control sk-hidden--visually\" id=\"cbc28cb8-2c9c-4926-a741-fba821d441c6\" type=\"checkbox\" ><label class=\"sk-toggleable__label\" for=\"cbc28cb8-2c9c-4926-a741-fba821d441c6\">Pipeline</label><div class=\"sk-toggleable__content\"><pre>Pipeline(steps=[('columntransformer',\n",
       "                 ColumnTransformer(transformers=[('pipeline-1',\n",
       "                                                  Pipeline(steps=[('knnimputer',\n",
       "                                                                   KNNImputer()),\n",
       "                                                                  ('minmaxscaler',\n",
       "                                                                   MinMaxScaler())]),\n",
       "                                                  <sklearn.compose._column_transformer.make_column_selector object at 0x14694d210>),\n",
       "                                                 ('pipeline-2',\n",
       "                                                  Pipeline(steps=[('simpleimputer',\n",
       "                                                                   SimpleImputer(fill_value='missing',\n",
       "                                                                                 strategy='constant')),\n",
       "                                                                  ('ordi...\n",
       "                                                   'CentralAir', 'Condition1',\n",
       "                                                   'Condition2', 'Exterior1st',\n",
       "                                                   'Exterior2nd', 'Foundation',\n",
       "                                                   'GarageType', 'Heating',\n",
       "                                                   'HouseStyle', 'LotConfig',\n",
       "                                                   'MSZoning', 'MasVnrType',\n",
       "                                                   'MiscFeature',\n",
       "                                                   'Neighborhood', 'RoofMatl',\n",
       "                                                   'RoofStyle', 'SaleCondition',\n",
       "                                                   'SaleType', 'Street',\n",
       "                                                   'Utilities'])])),\n",
       "                ('selectpercentile',\n",
       "                 SelectPercentile(percentile=75,\n",
       "                                  score_func=<function mutual_info_regression at 0x1467afd40>))])</pre></div></div></div><div class=\"sk-serial\"><div class=\"sk-item sk-dashed-wrapped\"><div class=\"sk-label-container\"><div class=\"sk-label sk-toggleable\"><input class=\"sk-toggleable__control sk-hidden--visually\" id=\"57c870f4-e323-46fc-8c9b-3e25b21d01c3\" type=\"checkbox\" ><label class=\"sk-toggleable__label\" for=\"57c870f4-e323-46fc-8c9b-3e25b21d01c3\">columntransformer: ColumnTransformer</label><div class=\"sk-toggleable__content\"><pre>ColumnTransformer(transformers=[('pipeline-1',\n",
       "                                 Pipeline(steps=[('knnimputer', KNNImputer()),\n",
       "                                                 ('minmaxscaler',\n",
       "                                                  MinMaxScaler())]),\n",
       "                                 <sklearn.compose._column_transformer.make_column_selector object at 0x14694d210>),\n",
       "                                ('pipeline-2',\n",
       "                                 Pipeline(steps=[('simpleimputer',\n",
       "                                                  SimpleImputer(fill_value='missing',\n",
       "                                                                strategy='constant')),\n",
       "                                                 ('ordinalencoder',\n",
       "                                                  OrdinalEncoder(categories...\n",
       "                                                  SimpleImputer(strategy='most_frequent')),\n",
       "                                                 ('onehotencoder',\n",
       "                                                  OneHotEncoder(handle_unknown='ignore'))]),\n",
       "                                 ['Alley', 'BldgType', 'CentralAir',\n",
       "                                  'Condition1', 'Condition2', 'Exterior1st',\n",
       "                                  'Exterior2nd', 'Foundation', 'GarageType',\n",
       "                                  'Heating', 'HouseStyle', 'LotConfig',\n",
       "                                  'MSZoning', 'MasVnrType', 'MiscFeature',\n",
       "                                  'Neighborhood', 'RoofMatl', 'RoofStyle',\n",
       "                                  'SaleCondition', 'SaleType', 'Street',\n",
       "                                  'Utilities'])])</pre></div></div></div><div class=\"sk-parallel\"><div class=\"sk-parallel-item\"><div class=\"sk-item\"><div class=\"sk-label-container\"><div class=\"sk-label sk-toggleable\"><input class=\"sk-toggleable__control sk-hidden--visually\" id=\"450bf8e7-9e30-44f3-ba06-7079df264022\" type=\"checkbox\" ><label class=\"sk-toggleable__label\" for=\"450bf8e7-9e30-44f3-ba06-7079df264022\">pipeline-1</label><div class=\"sk-toggleable__content\"><pre><sklearn.compose._column_transformer.make_column_selector object at 0x14694d210></pre></div></div></div><div class=\"sk-serial\"><div class=\"sk-item\"><div class=\"sk-serial\"><div class=\"sk-item\"><div class=\"sk-estimator sk-toggleable\"><input class=\"sk-toggleable__control sk-hidden--visually\" id=\"dadcb385-c7b7-4960-a441-a1cc290534a7\" type=\"checkbox\" ><label class=\"sk-toggleable__label\" for=\"dadcb385-c7b7-4960-a441-a1cc290534a7\">KNNImputer</label><div class=\"sk-toggleable__content\"><pre>KNNImputer()</pre></div></div></div><div class=\"sk-item\"><div class=\"sk-estimator sk-toggleable\"><input class=\"sk-toggleable__control sk-hidden--visually\" id=\"3ed60a91-1dda-4221-9b07-06ee84254fab\" type=\"checkbox\" ><label class=\"sk-toggleable__label\" for=\"3ed60a91-1dda-4221-9b07-06ee84254fab\">MinMaxScaler</label><div class=\"sk-toggleable__content\"><pre>MinMaxScaler()</pre></div></div></div></div></div></div></div></div><div class=\"sk-parallel-item\"><div class=\"sk-item\"><div class=\"sk-label-container\"><div class=\"sk-label sk-toggleable\"><input class=\"sk-toggleable__control sk-hidden--visually\" id=\"b18a1ef9-fc02-4dcf-903d-ed57dfecbe50\" type=\"checkbox\" ><label class=\"sk-toggleable__label\" for=\"b18a1ef9-fc02-4dcf-903d-ed57dfecbe50\">pipeline-2</label><div class=\"sk-toggleable__content\"><pre>['BsmtCond', 'BsmtExposure', 'BsmtFinType1', 'BsmtFinType2', 'BsmtQual', 'Electrical', 'ExterCond', 'ExterQual', 'Fence', 'FireplaceQu', 'Functional', 'GarageCond', 'GarageFinish', 'GarageQual', 'HeatingQC', 'KitchenQual', 'LandContour', 'LandSlope', 'LotShape', 'PavedDrive', 'PoolQC']</pre></div></div></div><div class=\"sk-serial\"><div class=\"sk-item\"><div class=\"sk-serial\"><div class=\"sk-item\"><div class=\"sk-estimator sk-toggleable\"><input class=\"sk-toggleable__control sk-hidden--visually\" id=\"90281909-05ec-49eb-bff6-f4f508701c8b\" type=\"checkbox\" ><label class=\"sk-toggleable__label\" for=\"90281909-05ec-49eb-bff6-f4f508701c8b\">SimpleImputer</label><div class=\"sk-toggleable__content\"><pre>SimpleImputer(fill_value='missing', strategy='constant')</pre></div></div></div><div class=\"sk-item\"><div class=\"sk-estimator sk-toggleable\"><input class=\"sk-toggleable__control sk-hidden--visually\" id=\"3f13a832-a54b-4042-9262-6763593bac14\" type=\"checkbox\" ><label class=\"sk-toggleable__label\" for=\"3f13a832-a54b-4042-9262-6763593bac14\">OrdinalEncoder</label><div class=\"sk-toggleable__content\"><pre>OrdinalEncoder(categories=[['missing', 'Po', 'Fa', 'TA', 'Gd'],\n",
       "                           ['missing', 'No', 'Mn', 'Av', 'Gd'],\n",
       "                           ['missing', 'Unf', 'LwQ', 'Rec', 'BLQ', 'ALQ',\n",
       "                            'GLQ'],\n",
       "                           ['missing', 'Unf', 'LwQ', 'Rec', 'BLQ', 'ALQ',\n",
       "                            'GLQ'],\n",
       "                           ['missing', 'Fa', 'TA', 'Gd', 'Ex'],\n",
       "                           ['missing', 'Mix', 'FuseP', 'FuseF', 'FuseA',\n",
       "                            'SBrkr'],\n",
       "                           ['missing', 'Po', 'Fa', 'TA', 'Gd', 'Ex'],\n",
       "                           ['missing', 'Fa', 'TA', 'Gd', 'Ex'],\n",
       "                           ['missing', '...\n",
       "                           ['missing', 'Unf', 'RFn', 'Fin'],\n",
       "                           ['missing', 'Po', 'Fa', 'TA', 'Gd', 'Ex'],\n",
       "                           ['missing', 'Po', 'Fa', 'TA', 'Gd', 'Ex'],\n",
       "                           ['missing', 'Fa', 'TA', 'Gd', 'Ex'],\n",
       "                           ['missing', 'Low', 'Bnk', 'HLS', 'Lvl'],\n",
       "                           ['missing', 'Sev', 'Mod', 'Gtl'],\n",
       "                           ['missing', 'IR3', 'IR2', 'IR1', 'Reg'],\n",
       "                           ['missing', 'N', 'P', 'Y'],\n",
       "                           ['missing', 'Fa', 'Gd', 'Ex']],\n",
       "               dtype=<class 'numpy.int64'>, handle_unknown='use_encoded_value',\n",
       "               unknown_value=-1)</pre></div></div></div><div class=\"sk-item\"><div class=\"sk-estimator sk-toggleable\"><input class=\"sk-toggleable__control sk-hidden--visually\" id=\"b23b89c8-a0a6-45a2-b804-08c7529720c6\" type=\"checkbox\" ><label class=\"sk-toggleable__label\" for=\"b23b89c8-a0a6-45a2-b804-08c7529720c6\">MinMaxScaler</label><div class=\"sk-toggleable__content\"><pre>MinMaxScaler()</pre></div></div></div></div></div></div></div></div><div class=\"sk-parallel-item\"><div class=\"sk-item\"><div class=\"sk-label-container\"><div class=\"sk-label sk-toggleable\"><input class=\"sk-toggleable__control sk-hidden--visually\" id=\"cca5abc3-3435-4292-a22c-b9188b8700df\" type=\"checkbox\" ><label class=\"sk-toggleable__label\" for=\"cca5abc3-3435-4292-a22c-b9188b8700df\">pipeline-3</label><div class=\"sk-toggleable__content\"><pre>['Alley', 'BldgType', 'CentralAir', 'Condition1', 'Condition2', 'Exterior1st', 'Exterior2nd', 'Foundation', 'GarageType', 'Heating', 'HouseStyle', 'LotConfig', 'MSZoning', 'MasVnrType', 'MiscFeature', 'Neighborhood', 'RoofMatl', 'RoofStyle', 'SaleCondition', 'SaleType', 'Street', 'Utilities']</pre></div></div></div><div class=\"sk-serial\"><div class=\"sk-item\"><div class=\"sk-serial\"><div class=\"sk-item\"><div class=\"sk-estimator sk-toggleable\"><input class=\"sk-toggleable__control sk-hidden--visually\" id=\"b046cf3d-a34d-44e9-9f8c-ce8222b32634\" type=\"checkbox\" ><label class=\"sk-toggleable__label\" for=\"b046cf3d-a34d-44e9-9f8c-ce8222b32634\">SimpleImputer</label><div class=\"sk-toggleable__content\"><pre>SimpleImputer(strategy='most_frequent')</pre></div></div></div><div class=\"sk-item\"><div class=\"sk-estimator sk-toggleable\"><input class=\"sk-toggleable__control sk-hidden--visually\" id=\"c6226ff2-68a3-4af7-b6a2-c71a1622c621\" type=\"checkbox\" ><label class=\"sk-toggleable__label\" for=\"c6226ff2-68a3-4af7-b6a2-c71a1622c621\">OneHotEncoder</label><div class=\"sk-toggleable__content\"><pre>OneHotEncoder(handle_unknown='ignore')</pre></div></div></div></div></div></div></div></div></div></div><div class=\"sk-item\"><div class=\"sk-estimator sk-toggleable\"><input class=\"sk-toggleable__control sk-hidden--visually\" id=\"ec68a167-a24d-46af-8d6f-14877e5059d2\" type=\"checkbox\" ><label class=\"sk-toggleable__label\" for=\"ec68a167-a24d-46af-8d6f-14877e5059d2\">SelectPercentile</label><div class=\"sk-toggleable__content\"><pre>SelectPercentile(percentile=75,\n",
       "                 score_func=<function mutual_info_regression at 0x1467afd40>)</pre></div></div></div></div></div></div></div>"
      ],
      "text/plain": [
       "Pipeline(steps=[('columntransformer',\n",
       "                 ColumnTransformer(transformers=[('pipeline-1',\n",
       "                                                  Pipeline(steps=[('knnimputer',\n",
       "                                                                   KNNImputer()),\n",
       "                                                                  ('minmaxscaler',\n",
       "                                                                   MinMaxScaler())]),\n",
       "                                                  <sklearn.compose._column_transformer.make_column_selector object at 0x14694d210>),\n",
       "                                                 ('pipeline-2',\n",
       "                                                  Pipeline(steps=[('simpleimputer',\n",
       "                                                                   SimpleImputer(fill_value='missing',\n",
       "                                                                                 strategy='constant')),\n",
       "                                                                  ('ordi...\n",
       "                                                   'CentralAir', 'Condition1',\n",
       "                                                   'Condition2', 'Exterior1st',\n",
       "                                                   'Exterior2nd', 'Foundation',\n",
       "                                                   'GarageType', 'Heating',\n",
       "                                                   'HouseStyle', 'LotConfig',\n",
       "                                                   'MSZoning', 'MasVnrType',\n",
       "                                                   'MiscFeature',\n",
       "                                                   'Neighborhood', 'RoofMatl',\n",
       "                                                   'RoofStyle', 'SaleCondition',\n",
       "                                                   'SaleType', 'Street',\n",
       "                                                   'Utilities'])])),\n",
       "                ('selectpercentile',\n",
       "                 SelectPercentile(percentile=75,\n",
       "                                  score_func=<function mutual_info_regression at 0x1467afd40>))])"
      ]
     },
     "execution_count": 44,
     "metadata": {},
     "output_type": "execute_result"
    }
   ],
   "source": [
    "encoder_ordinal = OrdinalEncoder(\n",
    "    categories=feat_ordinal_values_sorted,\n",
    "    dtype= np.int64,\n",
    "    handle_unknown=\"use_encoded_value\",\n",
    "    unknown_value=-1 # Considers unknown values as worse than \"missing\"\n",
    ")\n",
    "\n",
    "preproc_ordinal = make_pipeline(\n",
    "    SimpleImputer(strategy=\"constant\", fill_value=\"missing\"),\n",
    "    encoder_ordinal,\n",
    "    MinMaxScaler()\n",
    ")\n",
    "\n",
    "preproc_numerical = make_pipeline(\n",
    "    KNNImputer(),\n",
    "    MinMaxScaler()\n",
    ")\n",
    "\n",
    "preproc_transformer = make_column_transformer(\n",
    "    (preproc_numerical, make_column_selector(dtype_include=[\"int64\", \"float64\"])),\n",
    "    (preproc_ordinal, feat_ordinal),\n",
    "    (preproc_nominal, feat_nominal),\n",
    "    remainder=\"drop\")\n",
    "\n",
    "preproc_selector = SelectPercentile(\n",
    "    mutual_info_regression,\n",
    "    percentile=75, # keep only 75% of all features\n",
    ")\n",
    "\n",
    "preproc = make_pipeline(\n",
    "    preproc_transformer,\n",
    "    preproc_selector\n",
    ")\n",
    "preproc"
   ]
  },
  {
   "cell_type": "code",
   "execution_count": 52,
   "metadata": {
    "ExecuteTime": {
     "end_time": "2021-02-02T19:56:54.908255Z",
     "start_time": "2021-02-02T19:56:52.218680Z"
    }
   },
   "outputs": [
    {
     "data": {
      "text/plain": [
       "(1460, 162)"
      ]
     },
     "execution_count": 52,
     "metadata": {},
     "output_type": "execute_result"
    }
   ],
   "source": [
    "# Check shape\n",
    "preproc_fitted = preproc.fit(X,y)\n",
    "preproc_fitted_log = preproc.fit(X,y_log)\n",
    "preproc_fitted_log.transform(X).shape"
   ]
  },
  {
   "cell_type": "code",
   "execution_count": 50,
   "metadata": {},
   "outputs": [
    {
     "data": {
      "text/html": [
       "<style>div.sk-top-container {color: black;background-color: white;}div.sk-toggleable {background-color: white;}label.sk-toggleable__label {cursor: pointer;display: block;width: 100%;margin-bottom: 0;padding: 0.2em 0.3em;box-sizing: border-box;text-align: center;}div.sk-toggleable__content {max-height: 0;max-width: 0;overflow: hidden;text-align: left;background-color: #f0f8ff;}div.sk-toggleable__content pre {margin: 0.2em;color: black;border-radius: 0.25em;background-color: #f0f8ff;}input.sk-toggleable__control:checked~div.sk-toggleable__content {max-height: 200px;max-width: 100%;overflow: auto;}div.sk-estimator input.sk-toggleable__control:checked~label.sk-toggleable__label {background-color: #d4ebff;}div.sk-label input.sk-toggleable__control:checked~label.sk-toggleable__label {background-color: #d4ebff;}input.sk-hidden--visually {border: 0;clip: rect(1px 1px 1px 1px);clip: rect(1px, 1px, 1px, 1px);height: 1px;margin: -1px;overflow: hidden;padding: 0;position: absolute;width: 1px;}div.sk-estimator {font-family: monospace;background-color: #f0f8ff;margin: 0.25em 0.25em;border: 1px dotted black;border-radius: 0.25em;box-sizing: border-box;}div.sk-estimator:hover {background-color: #d4ebff;}div.sk-parallel-item::after {content: \"\";width: 100%;border-bottom: 1px solid gray;flex-grow: 1;}div.sk-label:hover label.sk-toggleable__label {background-color: #d4ebff;}div.sk-serial::before {content: \"\";position: absolute;border-left: 1px solid gray;box-sizing: border-box;top: 2em;bottom: 0;left: 50%;}div.sk-serial {display: flex;flex-direction: column;align-items: center;background-color: white;}div.sk-item {z-index: 1;}div.sk-parallel {display: flex;align-items: stretch;justify-content: center;background-color: white;}div.sk-parallel-item {display: flex;flex-direction: column;position: relative;background-color: white;}div.sk-parallel-item:first-child::after {align-self: flex-end;width: 50%;}div.sk-parallel-item:last-child::after {align-self: flex-start;width: 50%;}div.sk-parallel-item:only-child::after {width: 0;}div.sk-dashed-wrapped {border: 1px dashed gray;margin: 0.2em;box-sizing: border-box;padding-bottom: 0.1em;background-color: white;position: relative;}div.sk-label label {font-family: monospace;font-weight: bold;background-color: white;display: inline-block;line-height: 1.2em;}div.sk-label-container {position: relative;z-index: 2;text-align: center;}div.sk-container {display: inline-block;position: relative;}</style><div class=\"sk-top-container\"><div class=\"sk-container\"><div class=\"sk-item sk-dashed-wrapped\"><div class=\"sk-label-container\"><div class=\"sk-label sk-toggleable\"><input class=\"sk-toggleable__control sk-hidden--visually\" id=\"2abfd191-9af9-40f5-af7c-d90f58787df7\" type=\"checkbox\" ><label class=\"sk-toggleable__label\" for=\"2abfd191-9af9-40f5-af7c-d90f58787df7\">Pipeline</label><div class=\"sk-toggleable__content\"><pre>Pipeline(steps=[('columntransformer',\n",
       "                 ColumnTransformer(transformers=[('pipeline-1',\n",
       "                                                  Pipeline(steps=[('knnimputer',\n",
       "                                                                   KNNImputer()),\n",
       "                                                                  ('minmaxscaler',\n",
       "                                                                   MinMaxScaler())]),\n",
       "                                                  <sklearn.compose._column_transformer.make_column_selector object at 0x14694d210>),\n",
       "                                                 ('pipeline-2',\n",
       "                                                  Pipeline(steps=[('simpleimputer',\n",
       "                                                                   SimpleImputer(fill_value='missing',\n",
       "                                                                                 strategy='constant')),\n",
       "                                                                  ('ordi...\n",
       "                                                   'CentralAir', 'Condition1',\n",
       "                                                   'Condition2', 'Exterior1st',\n",
       "                                                   'Exterior2nd', 'Foundation',\n",
       "                                                   'GarageType', 'Heating',\n",
       "                                                   'HouseStyle', 'LotConfig',\n",
       "                                                   'MSZoning', 'MasVnrType',\n",
       "                                                   'MiscFeature',\n",
       "                                                   'Neighborhood', 'RoofMatl',\n",
       "                                                   'RoofStyle', 'SaleCondition',\n",
       "                                                   'SaleType', 'Street',\n",
       "                                                   'Utilities'])])),\n",
       "                ('selectpercentile',\n",
       "                 SelectPercentile(percentile=75,\n",
       "                                  score_func=<function mutual_info_regression at 0x1467afd40>))])</pre></div></div></div><div class=\"sk-serial\"><div class=\"sk-item sk-dashed-wrapped\"><div class=\"sk-label-container\"><div class=\"sk-label sk-toggleable\"><input class=\"sk-toggleable__control sk-hidden--visually\" id=\"8027284f-5ab3-44a2-960d-4eabb2dc8f36\" type=\"checkbox\" ><label class=\"sk-toggleable__label\" for=\"8027284f-5ab3-44a2-960d-4eabb2dc8f36\">columntransformer: ColumnTransformer</label><div class=\"sk-toggleable__content\"><pre>ColumnTransformer(transformers=[('pipeline-1',\n",
       "                                 Pipeline(steps=[('knnimputer', KNNImputer()),\n",
       "                                                 ('minmaxscaler',\n",
       "                                                  MinMaxScaler())]),\n",
       "                                 <sklearn.compose._column_transformer.make_column_selector object at 0x14694d210>),\n",
       "                                ('pipeline-2',\n",
       "                                 Pipeline(steps=[('simpleimputer',\n",
       "                                                  SimpleImputer(fill_value='missing',\n",
       "                                                                strategy='constant')),\n",
       "                                                 ('ordinalencoder',\n",
       "                                                  OrdinalEncoder(categories...\n",
       "                                                  SimpleImputer(strategy='most_frequent')),\n",
       "                                                 ('onehotencoder',\n",
       "                                                  OneHotEncoder(handle_unknown='ignore'))]),\n",
       "                                 ['Alley', 'BldgType', 'CentralAir',\n",
       "                                  'Condition1', 'Condition2', 'Exterior1st',\n",
       "                                  'Exterior2nd', 'Foundation', 'GarageType',\n",
       "                                  'Heating', 'HouseStyle', 'LotConfig',\n",
       "                                  'MSZoning', 'MasVnrType', 'MiscFeature',\n",
       "                                  'Neighborhood', 'RoofMatl', 'RoofStyle',\n",
       "                                  'SaleCondition', 'SaleType', 'Street',\n",
       "                                  'Utilities'])])</pre></div></div></div><div class=\"sk-parallel\"><div class=\"sk-parallel-item\"><div class=\"sk-item\"><div class=\"sk-label-container\"><div class=\"sk-label sk-toggleable\"><input class=\"sk-toggleable__control sk-hidden--visually\" id=\"92ed1470-b4df-4b97-9f3e-e2bb89eca3db\" type=\"checkbox\" ><label class=\"sk-toggleable__label\" for=\"92ed1470-b4df-4b97-9f3e-e2bb89eca3db\">pipeline-1</label><div class=\"sk-toggleable__content\"><pre><sklearn.compose._column_transformer.make_column_selector object at 0x14694d210></pre></div></div></div><div class=\"sk-serial\"><div class=\"sk-item\"><div class=\"sk-serial\"><div class=\"sk-item\"><div class=\"sk-estimator sk-toggleable\"><input class=\"sk-toggleable__control sk-hidden--visually\" id=\"7856ec30-3717-4a0d-8b50-45e2a8362f6d\" type=\"checkbox\" ><label class=\"sk-toggleable__label\" for=\"7856ec30-3717-4a0d-8b50-45e2a8362f6d\">KNNImputer</label><div class=\"sk-toggleable__content\"><pre>KNNImputer()</pre></div></div></div><div class=\"sk-item\"><div class=\"sk-estimator sk-toggleable\"><input class=\"sk-toggleable__control sk-hidden--visually\" id=\"8ddfbb8f-30aa-4a15-abe1-58e52b99e0f7\" type=\"checkbox\" ><label class=\"sk-toggleable__label\" for=\"8ddfbb8f-30aa-4a15-abe1-58e52b99e0f7\">MinMaxScaler</label><div class=\"sk-toggleable__content\"><pre>MinMaxScaler()</pre></div></div></div></div></div></div></div></div><div class=\"sk-parallel-item\"><div class=\"sk-item\"><div class=\"sk-label-container\"><div class=\"sk-label sk-toggleable\"><input class=\"sk-toggleable__control sk-hidden--visually\" id=\"53c40fa8-e5c6-4335-81d9-3d95388e0391\" type=\"checkbox\" ><label class=\"sk-toggleable__label\" for=\"53c40fa8-e5c6-4335-81d9-3d95388e0391\">pipeline-2</label><div class=\"sk-toggleable__content\"><pre>['BsmtCond', 'BsmtExposure', 'BsmtFinType1', 'BsmtFinType2', 'BsmtQual', 'Electrical', 'ExterCond', 'ExterQual', 'Fence', 'FireplaceQu', 'Functional', 'GarageCond', 'GarageFinish', 'GarageQual', 'HeatingQC', 'KitchenQual', 'LandContour', 'LandSlope', 'LotShape', 'PavedDrive', 'PoolQC']</pre></div></div></div><div class=\"sk-serial\"><div class=\"sk-item\"><div class=\"sk-serial\"><div class=\"sk-item\"><div class=\"sk-estimator sk-toggleable\"><input class=\"sk-toggleable__control sk-hidden--visually\" id=\"60f622db-7c9f-4c69-a44b-6e6a7b19f8a5\" type=\"checkbox\" ><label class=\"sk-toggleable__label\" for=\"60f622db-7c9f-4c69-a44b-6e6a7b19f8a5\">SimpleImputer</label><div class=\"sk-toggleable__content\"><pre>SimpleImputer(fill_value='missing', strategy='constant')</pre></div></div></div><div class=\"sk-item\"><div class=\"sk-estimator sk-toggleable\"><input class=\"sk-toggleable__control sk-hidden--visually\" id=\"91f74dda-5cfa-4dff-a41f-a380657fa2ec\" type=\"checkbox\" ><label class=\"sk-toggleable__label\" for=\"91f74dda-5cfa-4dff-a41f-a380657fa2ec\">OrdinalEncoder</label><div class=\"sk-toggleable__content\"><pre>OrdinalEncoder(categories=[['missing', 'Po', 'Fa', 'TA', 'Gd'],\n",
       "                           ['missing', 'No', 'Mn', 'Av', 'Gd'],\n",
       "                           ['missing', 'Unf', 'LwQ', 'Rec', 'BLQ', 'ALQ',\n",
       "                            'GLQ'],\n",
       "                           ['missing', 'Unf', 'LwQ', 'Rec', 'BLQ', 'ALQ',\n",
       "                            'GLQ'],\n",
       "                           ['missing', 'Fa', 'TA', 'Gd', 'Ex'],\n",
       "                           ['missing', 'Mix', 'FuseP', 'FuseF', 'FuseA',\n",
       "                            'SBrkr'],\n",
       "                           ['missing', 'Po', 'Fa', 'TA', 'Gd', 'Ex'],\n",
       "                           ['missing', 'Fa', 'TA', 'Gd', 'Ex'],\n",
       "                           ['missing', '...\n",
       "                           ['missing', 'Unf', 'RFn', 'Fin'],\n",
       "                           ['missing', 'Po', 'Fa', 'TA', 'Gd', 'Ex'],\n",
       "                           ['missing', 'Po', 'Fa', 'TA', 'Gd', 'Ex'],\n",
       "                           ['missing', 'Fa', 'TA', 'Gd', 'Ex'],\n",
       "                           ['missing', 'Low', 'Bnk', 'HLS', 'Lvl'],\n",
       "                           ['missing', 'Sev', 'Mod', 'Gtl'],\n",
       "                           ['missing', 'IR3', 'IR2', 'IR1', 'Reg'],\n",
       "                           ['missing', 'N', 'P', 'Y'],\n",
       "                           ['missing', 'Fa', 'Gd', 'Ex']],\n",
       "               dtype=<class 'numpy.int64'>, handle_unknown='use_encoded_value',\n",
       "               unknown_value=-1)</pre></div></div></div><div class=\"sk-item\"><div class=\"sk-estimator sk-toggleable\"><input class=\"sk-toggleable__control sk-hidden--visually\" id=\"2b734c96-2bf2-4d59-a566-4eec90ad756d\" type=\"checkbox\" ><label class=\"sk-toggleable__label\" for=\"2b734c96-2bf2-4d59-a566-4eec90ad756d\">MinMaxScaler</label><div class=\"sk-toggleable__content\"><pre>MinMaxScaler()</pre></div></div></div></div></div></div></div></div><div class=\"sk-parallel-item\"><div class=\"sk-item\"><div class=\"sk-label-container\"><div class=\"sk-label sk-toggleable\"><input class=\"sk-toggleable__control sk-hidden--visually\" id=\"e632eb6d-0144-4665-90d4-645a6e53078d\" type=\"checkbox\" ><label class=\"sk-toggleable__label\" for=\"e632eb6d-0144-4665-90d4-645a6e53078d\">pipeline-3</label><div class=\"sk-toggleable__content\"><pre>['Alley', 'BldgType', 'CentralAir', 'Condition1', 'Condition2', 'Exterior1st', 'Exterior2nd', 'Foundation', 'GarageType', 'Heating', 'HouseStyle', 'LotConfig', 'MSZoning', 'MasVnrType', 'MiscFeature', 'Neighborhood', 'RoofMatl', 'RoofStyle', 'SaleCondition', 'SaleType', 'Street', 'Utilities']</pre></div></div></div><div class=\"sk-serial\"><div class=\"sk-item\"><div class=\"sk-serial\"><div class=\"sk-item\"><div class=\"sk-estimator sk-toggleable\"><input class=\"sk-toggleable__control sk-hidden--visually\" id=\"56d51f4d-fea4-48d5-91a6-3a031b742627\" type=\"checkbox\" ><label class=\"sk-toggleable__label\" for=\"56d51f4d-fea4-48d5-91a6-3a031b742627\">SimpleImputer</label><div class=\"sk-toggleable__content\"><pre>SimpleImputer(strategy='most_frequent')</pre></div></div></div><div class=\"sk-item\"><div class=\"sk-estimator sk-toggleable\"><input class=\"sk-toggleable__control sk-hidden--visually\" id=\"8525164b-0d90-41f5-ac3b-3c4bf453d51b\" type=\"checkbox\" ><label class=\"sk-toggleable__label\" for=\"8525164b-0d90-41f5-ac3b-3c4bf453d51b\">OneHotEncoder</label><div class=\"sk-toggleable__content\"><pre>OneHotEncoder(handle_unknown='ignore')</pre></div></div></div></div></div></div></div></div></div></div><div class=\"sk-item\"><div class=\"sk-estimator sk-toggleable\"><input class=\"sk-toggleable__control sk-hidden--visually\" id=\"01f015a6-32b1-4004-b58c-5310815287c5\" type=\"checkbox\" ><label class=\"sk-toggleable__label\" for=\"01f015a6-32b1-4004-b58c-5310815287c5\">SelectPercentile</label><div class=\"sk-toggleable__content\"><pre>SelectPercentile(percentile=75,\n",
       "                 score_func=<function mutual_info_regression at 0x1467afd40>)</pre></div></div></div></div></div></div></div>"
      ],
      "text/plain": [
       "Pipeline(steps=[('columntransformer',\n",
       "                 ColumnTransformer(transformers=[('pipeline-1',\n",
       "                                                  Pipeline(steps=[('knnimputer',\n",
       "                                                                   KNNImputer()),\n",
       "                                                                  ('minmaxscaler',\n",
       "                                                                   MinMaxScaler())]),\n",
       "                                                  <sklearn.compose._column_transformer.make_column_selector object at 0x14694d210>),\n",
       "                                                 ('pipeline-2',\n",
       "                                                  Pipeline(steps=[('simpleimputer',\n",
       "                                                                   SimpleImputer(fill_value='missing',\n",
       "                                                                                 strategy='constant')),\n",
       "                                                                  ('ordi...\n",
       "                                                   'CentralAir', 'Condition1',\n",
       "                                                   'Condition2', 'Exterior1st',\n",
       "                                                   'Exterior2nd', 'Foundation',\n",
       "                                                   'GarageType', 'Heating',\n",
       "                                                   'HouseStyle', 'LotConfig',\n",
       "                                                   'MSZoning', 'MasVnrType',\n",
       "                                                   'MiscFeature',\n",
       "                                                   'Neighborhood', 'RoofMatl',\n",
       "                                                   'RoofStyle', 'SaleCondition',\n",
       "                                                   'SaleType', 'Street',\n",
       "                                                   'Utilities'])])),\n",
       "                ('selectpercentile',\n",
       "                 SelectPercentile(percentile=75,\n",
       "                                  score_func=<function mutual_info_regression at 0x1467afd40>))])"
      ]
     },
     "execution_count": 50,
     "metadata": {},
     "output_type": "execute_result"
    }
   ],
   "source": [
    "preproc_fitted_log"
   ]
  },
  {
   "cell_type": "code",
   "execution_count": null,
   "metadata": {
    "ExecuteTime": {
     "end_time": "2021-02-02T14:35:00.627591Z",
     "start_time": "2021-02-02T14:35:00.625674Z"
    }
   },
   "outputs": [],
   "source": [
    "# # TODO: treat cyclical features\n",
    "# feat_cyclical = sorted([\n",
    "#     \"MoSold\"  # Month Sold (MM)\n",
    "# ])"
   ]
  },
  {
   "cell_type": "markdown",
   "metadata": {},
   "source": [
    "## Models Iteration"
   ]
  },
  {
   "cell_type": "code",
   "execution_count": 62,
   "metadata": {
    "ExecuteTime": {
     "end_time": "2021-02-02T16:38:15.247160Z",
     "start_time": "2021-02-02T16:38:15.242960Z"
    }
   },
   "outputs": [],
   "source": [
    "# SOLUTION\n",
    "allow_grid_searching = True # use True to activate girdsearch in the notebook cells below\n",
    "\n",
    "# Cache the preprocessing step of the pipeline\n",
    "from tempfile import mkdtemp\n",
    "from shutil import rmtree\n",
    "cachedir = mkdtemp()"
   ]
  },
  {
   "cell_type": "markdown",
   "metadata": {},
   "source": [
    "### Linear Models (Lasso, Ridge, ElasticNet, SGDRegressor...)"
   ]
  },
  {
   "cell_type": "code",
   "execution_count": 48,
   "metadata": {
    "ExecuteTime": {
     "end_time": "2021-02-02T14:35:17.835446Z",
     "start_time": "2021-02-02T14:35:09.968375Z"
    }
   },
   "outputs": [
    {
     "data": {
      "text/plain": [
       "0.17878363233675326"
      ]
     },
     "execution_count": 48,
     "metadata": {},
     "output_type": "execute_result"
    }
   ],
   "source": [
    "# Ridge with normal target\n",
    "model = Ridge()\n",
    "pipe_ridge = make_pipeline(preproc, model, memory=cachedir)\n",
    "cross_val_score(pipe_ridge, X, y, cv=5, scoring=rmsle).mean()"
   ]
  },
  {
   "cell_type": "code",
   "execution_count": 64,
   "metadata": {
    "ExecuteTime": {
     "end_time": "2021-02-02T14:35:30.454053Z",
     "start_time": "2021-02-02T14:35:22.584735Z"
    }
   },
   "outputs": [
    {
     "data": {
      "text/plain": [
       "0.010706795518841747"
      ]
     },
     "execution_count": 64,
     "metadata": {},
     "output_type": "execute_result"
    }
   ],
   "source": [
    "# Rige with log-target (much better)\n",
    "model = Ridge()\n",
    "pipe_ridge = make_pipeline(preproc, model, memory=cachedir)\n",
    "cross_val_score(pipe_ridge, X, y_log, cv=5, scoring=rmsle).mean()"
   ]
  },
  {
   "cell_type": "code",
   "execution_count": 66,
   "metadata": {
    "ExecuteTime": {
     "end_time": "2021-01-27T14:09:20.772585Z",
     "start_time": "2021-01-27T14:09:12.610979Z"
    }
   },
   "outputs": [
    {
     "name": "stdout",
     "output_type": "stream",
     "text": [
      "Fitting 5 folds for each of 20 candidates, totalling 100 fits\n",
      "{'ridge__alpha': 0.5}\n",
      "0.17952625403440298\n"
     ]
    }
   ],
   "source": [
    "# GridSearch the Ridge regularization\n",
    "if allow_grid_searching:\n",
    "    param_grid =  {'ridge__alpha': np.linspace(0.5,2,num=20)}\n",
    "    search_ridge = GridSearchCV(pipe_ridge, param_grid=param_grid, \n",
    "                              cv=5, n_jobs=-1, verbose=2, scoring=rmsle)\n",
    "\n",
    "    search_ridge.fit(X, y);\n",
    "    print(search_ridge.best_params_)\n",
    "    print(search_ridge.best_score_)"
   ]
  },
  {
   "cell_type": "markdown",
   "metadata": {},
   "source": [
    "### KNN"
   ]
  },
  {
   "cell_type": "code",
   "execution_count": 59,
   "metadata": {
    "ExecuteTime": {
     "end_time": "2021-02-02T14:35:38.117678Z",
     "start_time": "2021-02-02T14:35:38.113812Z"
    }
   },
   "outputs": [],
   "source": [
    "model = KNeighborsRegressor()\n",
    "pipe_knn = make_pipeline(preproc, model)"
   ]
  },
  {
   "cell_type": "code",
   "execution_count": 68,
   "metadata": {
    "ExecuteTime": {
     "end_time": "2021-02-02T14:35:50.232332Z",
     "start_time": "2021-02-02T14:35:44.377583Z"
    }
   },
   "outputs": [
    {
     "data": {
      "text/plain": [
       "0.015667332414697248"
      ]
     },
     "execution_count": 68,
     "metadata": {},
     "output_type": "execute_result"
    }
   ],
   "source": [
    "scores = cross_val_score(pipe_knn, X, y_log, cv=5, scoring=rmsle)\n",
    "scores.mean()"
   ]
  },
  {
   "cell_type": "code",
   "execution_count": 69,
   "metadata": {
    "ExecuteTime": {
     "end_time": "2021-01-27T14:04:43.665867Z",
     "start_time": "2021-01-27T14:04:32.256784Z"
    }
   },
   "outputs": [
    {
     "name": "stdout",
     "output_type": "stream",
     "text": [
      "Fitting 3 folds for each of 11 candidates, totalling 33 fits\n",
      "{'kneighborsregressor__n_neighbors': 30}\n"
     ]
    }
   ],
   "source": [
    "# GridSearch the KNN\n",
    "if allow_grid_searching:\n",
    "    param_grid =  {'kneighborsregressor__n_neighbors': [3,4,5,6,7,8,9,10,15,20,30]}\n",
    "    search_knn = GridSearchCV(pipe_knn, param_grid=param_grid, \n",
    "                              cv=3, n_jobs=-1, verbose=2, scoring=rmsle)\n",
    "\n",
    "    search_knn.fit(X, y_log);\n",
    "    print(search_knn.best_params_)\n",
    "    search_knn.best_score_"
   ]
  },
  {
   "cell_type": "code",
   "execution_count": 87,
   "metadata": {},
   "outputs": [
    {
     "data": {
      "text/plain": [
       "0.01736532474809854"
      ]
     },
     "execution_count": 87,
     "metadata": {},
     "output_type": "execute_result"
    }
   ],
   "source": [
    "search_knn.best_score_"
   ]
  },
  {
   "cell_type": "markdown",
   "metadata": {},
   "source": [
    "### SVM"
   ]
  },
  {
   "cell_type": "code",
   "execution_count": 70,
   "metadata": {
    "ExecuteTime": {
     "end_time": "2021-01-27T14:04:48.070692Z",
     "start_time": "2021-01-27T14:04:46.464403Z"
    }
   },
   "outputs": [
    {
     "data": {
      "text/plain": [
       "0.010659967298044064"
      ]
     },
     "execution_count": 70,
     "metadata": {},
     "output_type": "execute_result"
    }
   ],
   "source": [
    "model = SVR(kernel='linear')\n",
    "pipe_svm = make_pipeline(preproc, model, memory=cachedir)\n",
    "cross_val_score(pipe_svm, X, y_log, cv=5, scoring=rmsle).mean()"
   ]
  },
  {
   "cell_type": "code",
   "execution_count": 71,
   "metadata": {
    "ExecuteTime": {
     "end_time": "2021-01-27T14:04:51.940541Z",
     "start_time": "2021-01-27T14:04:50.788673Z"
    }
   },
   "outputs": [
    {
     "data": {
      "text/plain": [
       "0.010355522134607621"
      ]
     },
     "execution_count": 71,
     "metadata": {},
     "output_type": "execute_result"
    }
   ],
   "source": [
    "model = SVR(kernel='rbf', C = 10)\n",
    "pipe_svm_rbf = make_pipeline(preproc, model, memory=cachedir)\n",
    "cross_val_score(pipe_svm_rbf, X, y_log, cv=5, scoring=rmsle).mean()"
   ]
  },
  {
   "cell_type": "code",
   "execution_count": 72,
   "metadata": {
    "ExecuteTime": {
     "end_time": "2021-01-27T14:05:08.139694Z",
     "start_time": "2021-01-27T14:04:55.243962Z"
    }
   },
   "outputs": [
    {
     "name": "stdout",
     "output_type": "stream",
     "text": [
      "Fitting 5 folds for each of 30 candidates, totalling 150 fits\n",
      "{'svr__C': 0.5, 'svr__epsilon': 0.5}\n"
     ]
    }
   ],
   "source": [
    "# GridSearch\n",
    "if allow_grid_searching:\n",
    "    param_grid =  {'svr__C': [0.5, 0.7, 1, 2, 5, 10],\n",
    "                  'svr__epsilon': [0.01, 0.05, 0.1, 0.2, 0.5],\n",
    "                   #'svr__coef0': [0.0, 0.1, 0.5,1],\n",
    "                  }\n",
    "    search_svm_rbf = GridSearchCV(pipe_svm_rbf, param_grid=param_grid, \n",
    "                              cv=5, n_jobs=-1, verbose=2, scoring=rmsle)\n",
    "\n",
    "    search_svm_rbf.fit(X, y_log);\n",
    "    svm_rbf_best = search_svm_rbf.best_estimator_\n",
    "    print(search_svm_rbf.best_params_)\n",
    "    search_svm_rbf.best_score_"
   ]
  },
  {
   "cell_type": "code",
   "execution_count": 88,
   "metadata": {},
   "outputs": [
    {
     "data": {
      "text/plain": [
       "0.015489944934863189"
      ]
     },
     "execution_count": 88,
     "metadata": {},
     "output_type": "execute_result"
    }
   ],
   "source": [
    "search_svm_rbf.best_score_"
   ]
  },
  {
   "cell_type": "markdown",
   "metadata": {},
   "source": [
    "### Trees"
   ]
  },
  {
   "cell_type": "code",
   "execution_count": 73,
   "metadata": {
    "ExecuteTime": {
     "end_time": "2021-01-27T14:05:13.001768Z",
     "start_time": "2021-01-27T14:05:12.050052Z"
    }
   },
   "outputs": [
    {
     "name": "stdout",
     "output_type": "stream",
     "text": [
      "0.0007377084014553763\n"
     ]
    },
    {
     "data": {
      "text/plain": [
       "0.014607386893784904"
      ]
     },
     "execution_count": 73,
     "metadata": {},
     "output_type": "execute_result"
    }
   ],
   "source": [
    "from sklearn.tree import DecisionTreeRegressor\n",
    "\n",
    "model = DecisionTreeRegressor(max_depth=50, min_samples_leaf=20)\n",
    "pipe = make_pipeline(preproc, model, memory=cachedir)\n",
    "score = cross_val_score(pipe, X, y_log, cv=5, scoring=rmsle)\n",
    "print(score.std())\n",
    "score.mean()"
   ]
  },
  {
   "cell_type": "markdown",
   "metadata": {},
   "source": [
    "### Random Forest"
   ]
  },
  {
   "cell_type": "code",
   "execution_count": 74,
   "metadata": {
    "ExecuteTime": {
     "end_time": "2021-01-27T14:05:20.931341Z",
     "start_time": "2021-01-27T14:05:17.145667Z"
    }
   },
   "outputs": [
    {
     "name": "stdout",
     "output_type": "stream",
     "text": [
      "0.000523087145755704\n"
     ]
    },
    {
     "data": {
      "text/plain": [
       "0.012616947375811444"
      ]
     },
     "execution_count": 74,
     "metadata": {},
     "output_type": "execute_result"
    }
   ],
   "source": [
    "\n",
    "# TODO: GridSearch\n",
    "\n",
    "model = RandomForestRegressor(max_depth=50,min_samples_leaf=20)\n",
    "pipe = make_pipeline(preproc, model, memory=cachedir)\n",
    "score = cross_val_score(pipe, X, y_log, cv=5, scoring=rmsle)\n",
    "print(score.std())\n",
    "score.mean()"
   ]
  },
  {
   "cell_type": "markdown",
   "metadata": {},
   "source": [
    "### Boosted Trees"
   ]
  },
  {
   "cell_type": "code",
   "execution_count": 75,
   "metadata": {
    "ExecuteTime": {
     "end_time": "2021-02-02T16:38:37.750470Z",
     "start_time": "2021-02-02T16:38:23.333051Z"
    }
   },
   "outputs": [
    {
     "name": "stdout",
     "output_type": "stream",
     "text": [
      "0.0007764353657852319\n"
     ]
    },
    {
     "data": {
      "text/plain": [
       "0.011072501893987848"
      ]
     },
     "execution_count": 75,
     "metadata": {},
     "output_type": "execute_result"
    }
   ],
   "source": [
    "model = AdaBoostRegressor(\n",
    "    base_estimator=DecisionTreeRegressor(max_depth=None))\n",
    "\n",
    "pipe = make_pipeline(preproc, model, memory=cachedir)\n",
    "score = cross_val_score(pipe, X, y_log, cv=5, scoring=rmsle)\n",
    "print(score.std())\n",
    "score.mean()"
   ]
  },
  {
   "cell_type": "code",
   "execution_count": 76,
   "metadata": {
    "ExecuteTime": {
     "end_time": "2021-01-27T14:05:37.716868Z",
     "start_time": "2021-01-27T14:05:34.599277Z"
    }
   },
   "outputs": [
    {
     "name": "stdout",
     "output_type": "stream",
     "text": [
      "0.0007301825145000608\n"
     ]
    },
    {
     "data": {
      "text/plain": [
       "0.009695362172550483"
      ]
     },
     "execution_count": 76,
     "metadata": {},
     "output_type": "execute_result"
    }
   ],
   "source": [
    "model = GradientBoostingRegressor(n_estimators=100, verbose=0)\n",
    "pipe_gb = make_pipeline(preproc, model, memory=cachedir)\n",
    "score = cross_val_score(pipe_gb, X, y_log, cv=5, scoring=rmsle)\n",
    "print(score.std())\n",
    "score.mean()"
   ]
  },
  {
   "cell_type": "code",
   "execution_count": 89,
   "metadata": {
    "ExecuteTime": {
     "end_time": "2021-01-27T14:05:37.721052Z",
     "start_time": "2021-01-27T14:05:37.718778Z"
    },
    "scrolled": true
   },
   "outputs": [
    {
     "name": "stdout",
     "output_type": "stream",
     "text": [
      "Fitting 5 folds for each of 8 candidates, totalling 40 fits\n"
     ]
    },
    {
     "name": "stderr",
     "output_type": "stream",
     "text": [
      "/opt/anaconda3/envs/research/lib/python3.7/site-packages/sklearn/model_selection/_validation.py:614: FitFailedWarning: Estimator fit failed. The score on this train-test partition for these parameters will be set to nan. Details: \n",
      "Traceback (most recent call last):\n",
      "  File \"/opt/anaconda3/envs/research/lib/python3.7/site-packages/sklearn/model_selection/_validation.py\", line 593, in _fit_and_score\n",
      "    estimator.fit(X_train, y_train, **fit_params)\n",
      "  File \"/opt/anaconda3/envs/research/lib/python3.7/site-packages/sklearn/pipeline.py\", line 346, in fit\n",
      "    self._final_estimator.fit(Xt, y, **fit_params_last_step)\n",
      "  File \"/opt/anaconda3/envs/research/lib/python3.7/site-packages/sklearn/ensemble/_gb.py\", line 448, in fit\n",
      "    self._check_params()\n",
      "  File \"/opt/anaconda3/envs/research/lib/python3.7/site-packages/sklearn/ensemble/_gb.py\", line 296, in _check_params\n",
      "    raise ValueError(\"max_features must be in (0, n_features]\")\n",
      "ValueError: max_features must be in (0, n_features]\n",
      "\n",
      "  FitFailedWarning)\n",
      "/opt/anaconda3/envs/research/lib/python3.7/site-packages/sklearn/model_selection/_validation.py:614: FitFailedWarning: Estimator fit failed. The score on this train-test partition for these parameters will be set to nan. Details: \n",
      "Traceback (most recent call last):\n",
      "  File \"/opt/anaconda3/envs/research/lib/python3.7/site-packages/sklearn/model_selection/_validation.py\", line 593, in _fit_and_score\n",
      "    estimator.fit(X_train, y_train, **fit_params)\n",
      "  File \"/opt/anaconda3/envs/research/lib/python3.7/site-packages/sklearn/pipeline.py\", line 346, in fit\n",
      "    self._final_estimator.fit(Xt, y, **fit_params_last_step)\n",
      "  File \"/opt/anaconda3/envs/research/lib/python3.7/site-packages/sklearn/ensemble/_gb.py\", line 448, in fit\n",
      "    self._check_params()\n",
      "  File \"/opt/anaconda3/envs/research/lib/python3.7/site-packages/sklearn/ensemble/_gb.py\", line 296, in _check_params\n",
      "    raise ValueError(\"max_features must be in (0, n_features]\")\n",
      "ValueError: max_features must be in (0, n_features]\n",
      "\n",
      "  FitFailedWarning)\n"
     ]
    },
    {
     "name": "stdout",
     "output_type": "stream",
     "text": [
      "[CV] END gradientboostingregressor__max_features=1.5651219748508867, gradientboostingregressor__n_estimators=231.4593258819441; total time=   0.4s\n",
      "[CV] END gradientboostingregressor__max_features=1.5651219748508867, gradientboostingregressor__n_estimators=231.4593258819441; total time=   0.2s\n"
     ]
    },
    {
     "name": "stderr",
     "output_type": "stream",
     "text": [
      "/opt/anaconda3/envs/research/lib/python3.7/site-packages/sklearn/model_selection/_validation.py:614: FitFailedWarning: Estimator fit failed. The score on this train-test partition for these parameters will be set to nan. Details: \n",
      "Traceback (most recent call last):\n",
      "  File \"/opt/anaconda3/envs/research/lib/python3.7/site-packages/sklearn/model_selection/_validation.py\", line 593, in _fit_and_score\n",
      "    estimator.fit(X_train, y_train, **fit_params)\n",
      "  File \"/opt/anaconda3/envs/research/lib/python3.7/site-packages/sklearn/pipeline.py\", line 346, in fit\n",
      "    self._final_estimator.fit(Xt, y, **fit_params_last_step)\n",
      "  File \"/opt/anaconda3/envs/research/lib/python3.7/site-packages/sklearn/ensemble/_gb.py\", line 448, in fit\n",
      "    self._check_params()\n",
      "  File \"/opt/anaconda3/envs/research/lib/python3.7/site-packages/sklearn/ensemble/_gb.py\", line 296, in _check_params\n",
      "    raise ValueError(\"max_features must be in (0, n_features]\")\n",
      "ValueError: max_features must be in (0, n_features]\n",
      "\n",
      "  FitFailedWarning)\n"
     ]
    },
    {
     "name": "stdout",
     "output_type": "stream",
     "text": [
      "[CV] END gradientboostingregressor__max_features=1.5651219748508867, gradientboostingregressor__n_estimators=231.4593258819441; total time=   0.3s\n"
     ]
    },
    {
     "name": "stderr",
     "output_type": "stream",
     "text": [
      "/opt/anaconda3/envs/research/lib/python3.7/site-packages/sklearn/model_selection/_validation.py:614: FitFailedWarning: Estimator fit failed. The score on this train-test partition for these parameters will be set to nan. Details: \n",
      "Traceback (most recent call last):\n",
      "  File \"/opt/anaconda3/envs/research/lib/python3.7/site-packages/sklearn/model_selection/_validation.py\", line 593, in _fit_and_score\n",
      "    estimator.fit(X_train, y_train, **fit_params)\n",
      "  File \"/opt/anaconda3/envs/research/lib/python3.7/site-packages/sklearn/pipeline.py\", line 346, in fit\n",
      "    self._final_estimator.fit(Xt, y, **fit_params_last_step)\n",
      "  File \"/opt/anaconda3/envs/research/lib/python3.7/site-packages/sklearn/ensemble/_gb.py\", line 448, in fit\n",
      "    self._check_params()\n",
      "  File \"/opt/anaconda3/envs/research/lib/python3.7/site-packages/sklearn/ensemble/_gb.py\", line 296, in _check_params\n",
      "    raise ValueError(\"max_features must be in (0, n_features]\")\n",
      "ValueError: max_features must be in (0, n_features]\n",
      "\n",
      "  FitFailedWarning)\n",
      "/opt/anaconda3/envs/research/lib/python3.7/site-packages/sklearn/model_selection/_validation.py:614: FitFailedWarning: Estimator fit failed. The score on this train-test partition for these parameters will be set to nan. Details: \n",
      "Traceback (most recent call last):\n",
      "  File \"/opt/anaconda3/envs/research/lib/python3.7/site-packages/sklearn/model_selection/_validation.py\", line 593, in _fit_and_score\n",
      "    estimator.fit(X_train, y_train, **fit_params)\n",
      "  File \"/opt/anaconda3/envs/research/lib/python3.7/site-packages/sklearn/pipeline.py\", line 346, in fit\n",
      "    self._final_estimator.fit(Xt, y, **fit_params_last_step)\n",
      "  File \"/opt/anaconda3/envs/research/lib/python3.7/site-packages/sklearn/ensemble/_gb.py\", line 448, in fit\n",
      "    self._check_params()\n",
      "  File \"/opt/anaconda3/envs/research/lib/python3.7/site-packages/sklearn/ensemble/_gb.py\", line 296, in _check_params\n",
      "    raise ValueError(\"max_features must be in (0, n_features]\")\n",
      "ValueError: max_features must be in (0, n_features]\n",
      "\n",
      "  FitFailedWarning)\n"
     ]
    },
    {
     "name": "stdout",
     "output_type": "stream",
     "text": [
      "[CV] END gradientboostingregressor__max_features=1.5651219748508867, gradientboostingregressor__n_estimators=231.4593258819441; total time=   0.3s\n",
      "[CV] END gradientboostingregressor__max_features=1.5651219748508867, gradientboostingregressor__n_estimators=231.4593258819441; total time=   0.2s\n"
     ]
    },
    {
     "name": "stderr",
     "output_type": "stream",
     "text": [
      "/opt/anaconda3/envs/research/lib/python3.7/site-packages/sklearn/model_selection/_validation.py:614: FitFailedWarning: Estimator fit failed. The score on this train-test partition for these parameters will be set to nan. Details: \n",
      "Traceback (most recent call last):\n",
      "  File \"/opt/anaconda3/envs/research/lib/python3.7/site-packages/sklearn/model_selection/_validation.py\", line 593, in _fit_and_score\n",
      "    estimator.fit(X_train, y_train, **fit_params)\n",
      "  File \"/opt/anaconda3/envs/research/lib/python3.7/site-packages/sklearn/pipeline.py\", line 346, in fit\n",
      "    self._final_estimator.fit(Xt, y, **fit_params_last_step)\n",
      "  File \"/opt/anaconda3/envs/research/lib/python3.7/site-packages/sklearn/ensemble/_gb.py\", line 448, in fit\n",
      "    self._check_params()\n",
      "  File \"/opt/anaconda3/envs/research/lib/python3.7/site-packages/sklearn/ensemble/_gb.py\", line 296, in _check_params\n",
      "    raise ValueError(\"max_features must be in (0, n_features]\")\n",
      "ValueError: max_features must be in (0, n_features]\n",
      "\n",
      "  FitFailedWarning)\n"
     ]
    },
    {
     "name": "stdout",
     "output_type": "stream",
     "text": [
      "[CV] END gradientboostingregressor__max_features=1.347178026326556, gradientboostingregressor__n_estimators=275.95976021889055; total time=   0.3s\n"
     ]
    },
    {
     "name": "stderr",
     "output_type": "stream",
     "text": [
      "/opt/anaconda3/envs/research/lib/python3.7/site-packages/sklearn/model_selection/_validation.py:614: FitFailedWarning: Estimator fit failed. The score on this train-test partition for these parameters will be set to nan. Details: \n",
      "Traceback (most recent call last):\n",
      "  File \"/opt/anaconda3/envs/research/lib/python3.7/site-packages/sklearn/model_selection/_validation.py\", line 593, in _fit_and_score\n",
      "    estimator.fit(X_train, y_train, **fit_params)\n",
      "  File \"/opt/anaconda3/envs/research/lib/python3.7/site-packages/sklearn/pipeline.py\", line 346, in fit\n",
      "    self._final_estimator.fit(Xt, y, **fit_params_last_step)\n",
      "  File \"/opt/anaconda3/envs/research/lib/python3.7/site-packages/sklearn/ensemble/_gb.py\", line 448, in fit\n",
      "    self._check_params()\n",
      "  File \"/opt/anaconda3/envs/research/lib/python3.7/site-packages/sklearn/ensemble/_gb.py\", line 296, in _check_params\n",
      "    raise ValueError(\"max_features must be in (0, n_features]\")\n",
      "ValueError: max_features must be in (0, n_features]\n",
      "\n",
      "  FitFailedWarning)\n"
     ]
    },
    {
     "name": "stdout",
     "output_type": "stream",
     "text": [
      "[CV] END gradientboostingregressor__max_features=1.347178026326556, gradientboostingregressor__n_estimators=275.95976021889055; total time=   0.3s\n"
     ]
    },
    {
     "name": "stderr",
     "output_type": "stream",
     "text": [
      "/opt/anaconda3/envs/research/lib/python3.7/site-packages/sklearn/model_selection/_validation.py:614: FitFailedWarning: Estimator fit failed. The score on this train-test partition for these parameters will be set to nan. Details: \n",
      "Traceback (most recent call last):\n",
      "  File \"/opt/anaconda3/envs/research/lib/python3.7/site-packages/sklearn/model_selection/_validation.py\", line 593, in _fit_and_score\n",
      "    estimator.fit(X_train, y_train, **fit_params)\n",
      "  File \"/opt/anaconda3/envs/research/lib/python3.7/site-packages/sklearn/pipeline.py\", line 346, in fit\n",
      "    self._final_estimator.fit(Xt, y, **fit_params_last_step)\n",
      "  File \"/opt/anaconda3/envs/research/lib/python3.7/site-packages/sklearn/ensemble/_gb.py\", line 448, in fit\n",
      "    self._check_params()\n",
      "  File \"/opt/anaconda3/envs/research/lib/python3.7/site-packages/sklearn/ensemble/_gb.py\", line 296, in _check_params\n",
      "    raise ValueError(\"max_features must be in (0, n_features]\")\n",
      "ValueError: max_features must be in (0, n_features]\n",
      "\n",
      "  FitFailedWarning)\n"
     ]
    },
    {
     "name": "stdout",
     "output_type": "stream",
     "text": [
      "[CV] END gradientboostingregressor__max_features=1.347178026326556, gradientboostingregressor__n_estimators=275.95976021889055; total time=   0.3s\n"
     ]
    },
    {
     "name": "stderr",
     "output_type": "stream",
     "text": [
      "/opt/anaconda3/envs/research/lib/python3.7/site-packages/sklearn/model_selection/_validation.py:614: FitFailedWarning: Estimator fit failed. The score on this train-test partition for these parameters will be set to nan. Details: \n",
      "Traceback (most recent call last):\n",
      "  File \"/opt/anaconda3/envs/research/lib/python3.7/site-packages/sklearn/model_selection/_validation.py\", line 593, in _fit_and_score\n",
      "    estimator.fit(X_train, y_train, **fit_params)\n",
      "  File \"/opt/anaconda3/envs/research/lib/python3.7/site-packages/sklearn/pipeline.py\", line 346, in fit\n",
      "    self._final_estimator.fit(Xt, y, **fit_params_last_step)\n",
      "  File \"/opt/anaconda3/envs/research/lib/python3.7/site-packages/sklearn/ensemble/_gb.py\", line 448, in fit\n",
      "    self._check_params()\n",
      "  File \"/opt/anaconda3/envs/research/lib/python3.7/site-packages/sklearn/ensemble/_gb.py\", line 296, in _check_params\n",
      "    raise ValueError(\"max_features must be in (0, n_features]\")\n",
      "ValueError: max_features must be in (0, n_features]\n",
      "\n",
      "  FitFailedWarning)\n"
     ]
    },
    {
     "name": "stdout",
     "output_type": "stream",
     "text": [
      "[CV] END gradientboostingregressor__max_features=1.347178026326556, gradientboostingregressor__n_estimators=275.95976021889055; total time=   0.5s\n"
     ]
    },
    {
     "name": "stderr",
     "output_type": "stream",
     "text": [
      "/opt/anaconda3/envs/research/lib/python3.7/site-packages/sklearn/model_selection/_validation.py:614: FitFailedWarning: Estimator fit failed. The score on this train-test partition for these parameters will be set to nan. Details: \n",
      "Traceback (most recent call last):\n",
      "  File \"/opt/anaconda3/envs/research/lib/python3.7/site-packages/sklearn/model_selection/_validation.py\", line 593, in _fit_and_score\n",
      "    estimator.fit(X_train, y_train, **fit_params)\n",
      "  File \"/opt/anaconda3/envs/research/lib/python3.7/site-packages/sklearn/pipeline.py\", line 346, in fit\n",
      "    self._final_estimator.fit(Xt, y, **fit_params_last_step)\n",
      "  File \"/opt/anaconda3/envs/research/lib/python3.7/site-packages/sklearn/ensemble/_gb.py\", line 448, in fit\n",
      "    self._check_params()\n",
      "  File \"/opt/anaconda3/envs/research/lib/python3.7/site-packages/sklearn/ensemble/_gb.py\", line 296, in _check_params\n",
      "    raise ValueError(\"max_features must be in (0, n_features]\")\n",
      "ValueError: max_features must be in (0, n_features]\n",
      "\n",
      "  FitFailedWarning)\n"
     ]
    },
    {
     "name": "stdout",
     "output_type": "stream",
     "text": [
      "[CV] END gradientboostingregressor__max_features=1.347178026326556, gradientboostingregressor__n_estimators=275.95976021889055; total time=   0.2s\n"
     ]
    },
    {
     "name": "stderr",
     "output_type": "stream",
     "text": [
      "/opt/anaconda3/envs/research/lib/python3.7/site-packages/sklearn/model_selection/_validation.py:614: FitFailedWarning: Estimator fit failed. The score on this train-test partition for these parameters will be set to nan. Details: \n",
      "Traceback (most recent call last):\n",
      "  File \"/opt/anaconda3/envs/research/lib/python3.7/site-packages/sklearn/model_selection/_validation.py\", line 593, in _fit_and_score\n",
      "    estimator.fit(X_train, y_train, **fit_params)\n",
      "  File \"/opt/anaconda3/envs/research/lib/python3.7/site-packages/sklearn/pipeline.py\", line 346, in fit\n",
      "    self._final_estimator.fit(Xt, y, **fit_params_last_step)\n",
      "  File \"/opt/anaconda3/envs/research/lib/python3.7/site-packages/sklearn/ensemble/_gb.py\", line 448, in fit\n",
      "    self._check_params()\n",
      "  File \"/opt/anaconda3/envs/research/lib/python3.7/site-packages/sklearn/ensemble/_gb.py\", line 296, in _check_params\n",
      "    raise ValueError(\"max_features must be in (0, n_features]\")\n",
      "ValueError: max_features must be in (0, n_features]\n",
      "\n",
      "  FitFailedWarning)\n"
     ]
    },
    {
     "name": "stdout",
     "output_type": "stream",
     "text": [
      "[CV] END gradientboostingregressor__max_features=1.6130673702931273, gradientboostingregressor__n_estimators=85.49430064340669; total time=   0.4s\n"
     ]
    },
    {
     "name": "stderr",
     "output_type": "stream",
     "text": [
      "/opt/anaconda3/envs/research/lib/python3.7/site-packages/sklearn/model_selection/_validation.py:614: FitFailedWarning: Estimator fit failed. The score on this train-test partition for these parameters will be set to nan. Details: \n",
      "Traceback (most recent call last):\n",
      "  File \"/opt/anaconda3/envs/research/lib/python3.7/site-packages/sklearn/model_selection/_validation.py\", line 593, in _fit_and_score\n",
      "    estimator.fit(X_train, y_train, **fit_params)\n",
      "  File \"/opt/anaconda3/envs/research/lib/python3.7/site-packages/sklearn/pipeline.py\", line 346, in fit\n",
      "    self._final_estimator.fit(Xt, y, **fit_params_last_step)\n",
      "  File \"/opt/anaconda3/envs/research/lib/python3.7/site-packages/sklearn/ensemble/_gb.py\", line 448, in fit\n",
      "    self._check_params()\n",
      "  File \"/opt/anaconda3/envs/research/lib/python3.7/site-packages/sklearn/ensemble/_gb.py\", line 296, in _check_params\n",
      "    raise ValueError(\"max_features must be in (0, n_features]\")\n",
      "ValueError: max_features must be in (0, n_features]\n",
      "\n",
      "  FitFailedWarning)\n"
     ]
    },
    {
     "name": "stdout",
     "output_type": "stream",
     "text": [
      "[CV] END gradientboostingregressor__max_features=1.6130673702931273, gradientboostingregressor__n_estimators=85.49430064340669; total time=   0.5s\n"
     ]
    },
    {
     "name": "stderr",
     "output_type": "stream",
     "text": [
      "/opt/anaconda3/envs/research/lib/python3.7/site-packages/sklearn/model_selection/_validation.py:614: FitFailedWarning: Estimator fit failed. The score on this train-test partition for these parameters will be set to nan. Details: \n",
      "Traceback (most recent call last):\n",
      "  File \"/opt/anaconda3/envs/research/lib/python3.7/site-packages/sklearn/model_selection/_validation.py\", line 593, in _fit_and_score\n",
      "    estimator.fit(X_train, y_train, **fit_params)\n",
      "  File \"/opt/anaconda3/envs/research/lib/python3.7/site-packages/sklearn/pipeline.py\", line 346, in fit\n",
      "    self._final_estimator.fit(Xt, y, **fit_params_last_step)\n",
      "  File \"/opt/anaconda3/envs/research/lib/python3.7/site-packages/sklearn/ensemble/_gb.py\", line 448, in fit\n",
      "    self._check_params()\n",
      "  File \"/opt/anaconda3/envs/research/lib/python3.7/site-packages/sklearn/ensemble/_gb.py\", line 296, in _check_params\n",
      "    raise ValueError(\"max_features must be in (0, n_features]\")\n",
      "ValueError: max_features must be in (0, n_features]\n",
      "\n",
      "  FitFailedWarning)\n"
     ]
    },
    {
     "name": "stdout",
     "output_type": "stream",
     "text": [
      "[CV] END gradientboostingregressor__max_features=1.6130673702931273, gradientboostingregressor__n_estimators=85.49430064340669; total time=   0.2s\n"
     ]
    },
    {
     "name": "stderr",
     "output_type": "stream",
     "text": [
      "/opt/anaconda3/envs/research/lib/python3.7/site-packages/sklearn/model_selection/_validation.py:614: FitFailedWarning: Estimator fit failed. The score on this train-test partition for these parameters will be set to nan. Details: \n",
      "Traceback (most recent call last):\n",
      "  File \"/opt/anaconda3/envs/research/lib/python3.7/site-packages/sklearn/model_selection/_validation.py\", line 593, in _fit_and_score\n",
      "    estimator.fit(X_train, y_train, **fit_params)\n",
      "  File \"/opt/anaconda3/envs/research/lib/python3.7/site-packages/sklearn/pipeline.py\", line 346, in fit\n",
      "    self._final_estimator.fit(Xt, y, **fit_params_last_step)\n",
      "  File \"/opt/anaconda3/envs/research/lib/python3.7/site-packages/sklearn/ensemble/_gb.py\", line 448, in fit\n",
      "    self._check_params()\n",
      "  File \"/opt/anaconda3/envs/research/lib/python3.7/site-packages/sklearn/ensemble/_gb.py\", line 296, in _check_params\n",
      "    raise ValueError(\"max_features must be in (0, n_features]\")\n",
      "ValueError: max_features must be in (0, n_features]\n",
      "\n",
      "  FitFailedWarning)\n"
     ]
    },
    {
     "name": "stdout",
     "output_type": "stream",
     "text": [
      "[CV] END gradientboostingregressor__max_features=1.6130673702931273, gradientboostingregressor__n_estimators=85.49430064340669; total time=   0.3s\n"
     ]
    },
    {
     "name": "stderr",
     "output_type": "stream",
     "text": [
      "/opt/anaconda3/envs/research/lib/python3.7/site-packages/sklearn/model_selection/_validation.py:614: FitFailedWarning: Estimator fit failed. The score on this train-test partition for these parameters will be set to nan. Details: \n",
      "Traceback (most recent call last):\n",
      "  File \"/opt/anaconda3/envs/research/lib/python3.7/site-packages/sklearn/model_selection/_validation.py\", line 593, in _fit_and_score\n",
      "    estimator.fit(X_train, y_train, **fit_params)\n",
      "  File \"/opt/anaconda3/envs/research/lib/python3.7/site-packages/sklearn/pipeline.py\", line 346, in fit\n",
      "    self._final_estimator.fit(Xt, y, **fit_params_last_step)\n",
      "  File \"/opt/anaconda3/envs/research/lib/python3.7/site-packages/sklearn/ensemble/_gb.py\", line 448, in fit\n",
      "    self._check_params()\n",
      "  File \"/opt/anaconda3/envs/research/lib/python3.7/site-packages/sklearn/ensemble/_gb.py\", line 296, in _check_params\n",
      "    raise ValueError(\"max_features must be in (0, n_features]\")\n",
      "ValueError: max_features must be in (0, n_features]\n",
      "\n",
      "  FitFailedWarning)\n"
     ]
    },
    {
     "name": "stdout",
     "output_type": "stream",
     "text": [
      "[CV] END gradientboostingregressor__max_features=1.6130673702931273, gradientboostingregressor__n_estimators=85.49430064340669; total time=   0.2s\n"
     ]
    },
    {
     "name": "stderr",
     "output_type": "stream",
     "text": [
      "/opt/anaconda3/envs/research/lib/python3.7/site-packages/sklearn/model_selection/_validation.py:614: FitFailedWarning: Estimator fit failed. The score on this train-test partition for these parameters will be set to nan. Details: \n",
      "Traceback (most recent call last):\n",
      "  File \"/opt/anaconda3/envs/research/lib/python3.7/site-packages/sklearn/model_selection/_validation.py\", line 593, in _fit_and_score\n",
      "    estimator.fit(X_train, y_train, **fit_params)\n",
      "  File \"/opt/anaconda3/envs/research/lib/python3.7/site-packages/sklearn/pipeline.py\", line 346, in fit\n",
      "    self._final_estimator.fit(Xt, y, **fit_params_last_step)\n",
      "  File \"/opt/anaconda3/envs/research/lib/python3.7/site-packages/sklearn/ensemble/_gb.py\", line 448, in fit\n",
      "    self._check_params()\n",
      "  File \"/opt/anaconda3/envs/research/lib/python3.7/site-packages/sklearn/ensemble/_gb.py\", line 296, in _check_params\n",
      "    raise ValueError(\"max_features must be in (0, n_features]\")\n",
      "ValueError: max_features must be in (0, n_features]\n",
      "\n",
      "  FitFailedWarning)\n"
     ]
    },
    {
     "name": "stdout",
     "output_type": "stream",
     "text": [
      "[CV] END gradientboostingregressor__max_features=1.6962127525084019, gradientboostingregressor__n_estimators=271.1618307697496; total time=   0.3s\n"
     ]
    },
    {
     "name": "stderr",
     "output_type": "stream",
     "text": [
      "/opt/anaconda3/envs/research/lib/python3.7/site-packages/sklearn/model_selection/_validation.py:614: FitFailedWarning: Estimator fit failed. The score on this train-test partition for these parameters will be set to nan. Details: \n",
      "Traceback (most recent call last):\n",
      "  File \"/opt/anaconda3/envs/research/lib/python3.7/site-packages/sklearn/model_selection/_validation.py\", line 593, in _fit_and_score\n",
      "    estimator.fit(X_train, y_train, **fit_params)\n",
      "  File \"/opt/anaconda3/envs/research/lib/python3.7/site-packages/sklearn/pipeline.py\", line 346, in fit\n",
      "    self._final_estimator.fit(Xt, y, **fit_params_last_step)\n",
      "  File \"/opt/anaconda3/envs/research/lib/python3.7/site-packages/sklearn/ensemble/_gb.py\", line 448, in fit\n",
      "    self._check_params()\n",
      "  File \"/opt/anaconda3/envs/research/lib/python3.7/site-packages/sklearn/ensemble/_gb.py\", line 296, in _check_params\n",
      "    raise ValueError(\"max_features must be in (0, n_features]\")\n",
      "ValueError: max_features must be in (0, n_features]\n",
      "\n",
      "  FitFailedWarning)\n"
     ]
    },
    {
     "name": "stdout",
     "output_type": "stream",
     "text": [
      "[CV] END gradientboostingregressor__max_features=1.6962127525084019, gradientboostingregressor__n_estimators=271.1618307697496; total time=   0.3s\n"
     ]
    },
    {
     "name": "stderr",
     "output_type": "stream",
     "text": [
      "/opt/anaconda3/envs/research/lib/python3.7/site-packages/sklearn/model_selection/_validation.py:614: FitFailedWarning: Estimator fit failed. The score on this train-test partition for these parameters will be set to nan. Details: \n",
      "Traceback (most recent call last):\n",
      "  File \"/opt/anaconda3/envs/research/lib/python3.7/site-packages/sklearn/model_selection/_validation.py\", line 593, in _fit_and_score\n",
      "    estimator.fit(X_train, y_train, **fit_params)\n",
      "  File \"/opt/anaconda3/envs/research/lib/python3.7/site-packages/sklearn/pipeline.py\", line 346, in fit\n",
      "    self._final_estimator.fit(Xt, y, **fit_params_last_step)\n",
      "  File \"/opt/anaconda3/envs/research/lib/python3.7/site-packages/sklearn/ensemble/_gb.py\", line 448, in fit\n",
      "    self._check_params()\n",
      "  File \"/opt/anaconda3/envs/research/lib/python3.7/site-packages/sklearn/ensemble/_gb.py\", line 296, in _check_params\n",
      "    raise ValueError(\"max_features must be in (0, n_features]\")\n",
      "ValueError: max_features must be in (0, n_features]\n",
      "\n",
      "  FitFailedWarning)\n"
     ]
    },
    {
     "name": "stdout",
     "output_type": "stream",
     "text": [
      "[CV] END gradientboostingregressor__max_features=1.6962127525084019, gradientboostingregressor__n_estimators=271.1618307697496; total time=   0.3s\n"
     ]
    },
    {
     "name": "stderr",
     "output_type": "stream",
     "text": [
      "/opt/anaconda3/envs/research/lib/python3.7/site-packages/sklearn/model_selection/_validation.py:614: FitFailedWarning: Estimator fit failed. The score on this train-test partition for these parameters will be set to nan. Details: \n",
      "Traceback (most recent call last):\n",
      "  File \"/opt/anaconda3/envs/research/lib/python3.7/site-packages/sklearn/model_selection/_validation.py\", line 593, in _fit_and_score\n",
      "    estimator.fit(X_train, y_train, **fit_params)\n",
      "  File \"/opt/anaconda3/envs/research/lib/python3.7/site-packages/sklearn/pipeline.py\", line 346, in fit\n",
      "    self._final_estimator.fit(Xt, y, **fit_params_last_step)\n",
      "  File \"/opt/anaconda3/envs/research/lib/python3.7/site-packages/sklearn/ensemble/_gb.py\", line 448, in fit\n",
      "    self._check_params()\n",
      "  File \"/opt/anaconda3/envs/research/lib/python3.7/site-packages/sklearn/ensemble/_gb.py\", line 296, in _check_params\n",
      "    raise ValueError(\"max_features must be in (0, n_features]\")\n",
      "ValueError: max_features must be in (0, n_features]\n",
      "\n",
      "  FitFailedWarning)\n"
     ]
    },
    {
     "name": "stdout",
     "output_type": "stream",
     "text": [
      "[CV] END gradientboostingregressor__max_features=1.6962127525084019, gradientboostingregressor__n_estimators=271.1618307697496; total time=   0.3s\n"
     ]
    },
    {
     "name": "stderr",
     "output_type": "stream",
     "text": [
      "/opt/anaconda3/envs/research/lib/python3.7/site-packages/sklearn/model_selection/_validation.py:614: FitFailedWarning: Estimator fit failed. The score on this train-test partition for these parameters will be set to nan. Details: \n",
      "Traceback (most recent call last):\n",
      "  File \"/opt/anaconda3/envs/research/lib/python3.7/site-packages/sklearn/model_selection/_validation.py\", line 593, in _fit_and_score\n",
      "    estimator.fit(X_train, y_train, **fit_params)\n",
      "  File \"/opt/anaconda3/envs/research/lib/python3.7/site-packages/sklearn/pipeline.py\", line 346, in fit\n",
      "    self._final_estimator.fit(Xt, y, **fit_params_last_step)\n",
      "  File \"/opt/anaconda3/envs/research/lib/python3.7/site-packages/sklearn/ensemble/_gb.py\", line 448, in fit\n",
      "    self._check_params()\n",
      "  File \"/opt/anaconda3/envs/research/lib/python3.7/site-packages/sklearn/ensemble/_gb.py\", line 296, in _check_params\n",
      "    raise ValueError(\"max_features must be in (0, n_features]\")\n",
      "ValueError: max_features must be in (0, n_features]\n",
      "\n",
      "  FitFailedWarning)\n"
     ]
    },
    {
     "name": "stdout",
     "output_type": "stream",
     "text": [
      "[CV] END gradientboostingregressor__max_features=1.6962127525084019, gradientboostingregressor__n_estimators=271.1618307697496; total time=   0.3s\n"
     ]
    },
    {
     "name": "stderr",
     "output_type": "stream",
     "text": [
      "/opt/anaconda3/envs/research/lib/python3.7/site-packages/sklearn/model_selection/_validation.py:614: FitFailedWarning: Estimator fit failed. The score on this train-test partition for these parameters will be set to nan. Details: \n",
      "Traceback (most recent call last):\n",
      "  File \"/opt/anaconda3/envs/research/lib/python3.7/site-packages/sklearn/model_selection/_validation.py\", line 593, in _fit_and_score\n",
      "    estimator.fit(X_train, y_train, **fit_params)\n",
      "  File \"/opt/anaconda3/envs/research/lib/python3.7/site-packages/sklearn/pipeline.py\", line 346, in fit\n",
      "    self._final_estimator.fit(Xt, y, **fit_params_last_step)\n",
      "  File \"/opt/anaconda3/envs/research/lib/python3.7/site-packages/sklearn/ensemble/_gb.py\", line 448, in fit\n",
      "    self._check_params()\n",
      "  File \"/opt/anaconda3/envs/research/lib/python3.7/site-packages/sklearn/ensemble/_gb.py\", line 296, in _check_params\n",
      "    raise ValueError(\"max_features must be in (0, n_features]\")\n",
      "ValueError: max_features must be in (0, n_features]\n",
      "\n",
      "  FitFailedWarning)\n"
     ]
    },
    {
     "name": "stdout",
     "output_type": "stream",
     "text": [
      "[CV] END gradientboostingregressor__max_features=1.2759601674919092, gradientboostingregressor__n_estimators=171.55142645866908; total time=   0.3s\n"
     ]
    },
    {
     "name": "stderr",
     "output_type": "stream",
     "text": [
      "/opt/anaconda3/envs/research/lib/python3.7/site-packages/sklearn/model_selection/_validation.py:614: FitFailedWarning: Estimator fit failed. The score on this train-test partition for these parameters will be set to nan. Details: \n",
      "Traceback (most recent call last):\n",
      "  File \"/opt/anaconda3/envs/research/lib/python3.7/site-packages/sklearn/model_selection/_validation.py\", line 593, in _fit_and_score\n",
      "    estimator.fit(X_train, y_train, **fit_params)\n",
      "  File \"/opt/anaconda3/envs/research/lib/python3.7/site-packages/sklearn/pipeline.py\", line 346, in fit\n",
      "    self._final_estimator.fit(Xt, y, **fit_params_last_step)\n",
      "  File \"/opt/anaconda3/envs/research/lib/python3.7/site-packages/sklearn/ensemble/_gb.py\", line 448, in fit\n",
      "    self._check_params()\n",
      "  File \"/opt/anaconda3/envs/research/lib/python3.7/site-packages/sklearn/ensemble/_gb.py\", line 296, in _check_params\n",
      "    raise ValueError(\"max_features must be in (0, n_features]\")\n",
      "ValueError: max_features must be in (0, n_features]\n",
      "\n",
      "  FitFailedWarning)\n"
     ]
    },
    {
     "name": "stdout",
     "output_type": "stream",
     "text": [
      "[CV] END gradientboostingregressor__max_features=1.2759601674919092, gradientboostingregressor__n_estimators=171.55142645866908; total time=   0.2s\n"
     ]
    },
    {
     "name": "stderr",
     "output_type": "stream",
     "text": [
      "/opt/anaconda3/envs/research/lib/python3.7/site-packages/sklearn/model_selection/_validation.py:614: FitFailedWarning: Estimator fit failed. The score on this train-test partition for these parameters will be set to nan. Details: \n",
      "Traceback (most recent call last):\n",
      "  File \"/opt/anaconda3/envs/research/lib/python3.7/site-packages/sklearn/model_selection/_validation.py\", line 593, in _fit_and_score\n",
      "    estimator.fit(X_train, y_train, **fit_params)\n",
      "  File \"/opt/anaconda3/envs/research/lib/python3.7/site-packages/sklearn/pipeline.py\", line 346, in fit\n",
      "    self._final_estimator.fit(Xt, y, **fit_params_last_step)\n",
      "  File \"/opt/anaconda3/envs/research/lib/python3.7/site-packages/sklearn/ensemble/_gb.py\", line 448, in fit\n",
      "    self._check_params()\n",
      "  File \"/opt/anaconda3/envs/research/lib/python3.7/site-packages/sklearn/ensemble/_gb.py\", line 296, in _check_params\n",
      "    raise ValueError(\"max_features must be in (0, n_features]\")\n",
      "ValueError: max_features must be in (0, n_features]\n",
      "\n",
      "  FitFailedWarning)\n"
     ]
    },
    {
     "name": "stdout",
     "output_type": "stream",
     "text": [
      "[CV] END gradientboostingregressor__max_features=1.2759601674919092, gradientboostingregressor__n_estimators=171.55142645866908; total time=   0.3s\n"
     ]
    },
    {
     "name": "stderr",
     "output_type": "stream",
     "text": [
      "/opt/anaconda3/envs/research/lib/python3.7/site-packages/sklearn/model_selection/_validation.py:614: FitFailedWarning: Estimator fit failed. The score on this train-test partition for these parameters will be set to nan. Details: \n",
      "Traceback (most recent call last):\n",
      "  File \"/opt/anaconda3/envs/research/lib/python3.7/site-packages/sklearn/model_selection/_validation.py\", line 593, in _fit_and_score\n",
      "    estimator.fit(X_train, y_train, **fit_params)\n",
      "  File \"/opt/anaconda3/envs/research/lib/python3.7/site-packages/sklearn/pipeline.py\", line 346, in fit\n",
      "    self._final_estimator.fit(Xt, y, **fit_params_last_step)\n",
      "  File \"/opt/anaconda3/envs/research/lib/python3.7/site-packages/sklearn/ensemble/_gb.py\", line 448, in fit\n",
      "    self._check_params()\n",
      "  File \"/opt/anaconda3/envs/research/lib/python3.7/site-packages/sklearn/ensemble/_gb.py\", line 296, in _check_params\n",
      "    raise ValueError(\"max_features must be in (0, n_features]\")\n",
      "ValueError: max_features must be in (0, n_features]\n",
      "\n",
      "  FitFailedWarning)\n"
     ]
    },
    {
     "name": "stdout",
     "output_type": "stream",
     "text": [
      "[CV] END gradientboostingregressor__max_features=1.2759601674919092, gradientboostingregressor__n_estimators=171.55142645866908; total time=   0.2s\n"
     ]
    },
    {
     "name": "stderr",
     "output_type": "stream",
     "text": [
      "/opt/anaconda3/envs/research/lib/python3.7/site-packages/sklearn/model_selection/_validation.py:614: FitFailedWarning: Estimator fit failed. The score on this train-test partition for these parameters will be set to nan. Details: \n",
      "Traceback (most recent call last):\n",
      "  File \"/opt/anaconda3/envs/research/lib/python3.7/site-packages/sklearn/model_selection/_validation.py\", line 593, in _fit_and_score\n",
      "    estimator.fit(X_train, y_train, **fit_params)\n",
      "  File \"/opt/anaconda3/envs/research/lib/python3.7/site-packages/sklearn/pipeline.py\", line 346, in fit\n",
      "    self._final_estimator.fit(Xt, y, **fit_params_last_step)\n",
      "  File \"/opt/anaconda3/envs/research/lib/python3.7/site-packages/sklearn/ensemble/_gb.py\", line 448, in fit\n",
      "    self._check_params()\n",
      "  File \"/opt/anaconda3/envs/research/lib/python3.7/site-packages/sklearn/ensemble/_gb.py\", line 296, in _check_params\n",
      "    raise ValueError(\"max_features must be in (0, n_features]\")\n",
      "ValueError: max_features must be in (0, n_features]\n",
      "\n",
      "  FitFailedWarning)\n"
     ]
    },
    {
     "name": "stdout",
     "output_type": "stream",
     "text": [
      "[CV] END gradientboostingregressor__max_features=1.2759601674919092, gradientboostingregressor__n_estimators=171.55142645866908; total time=   0.3s\n"
     ]
    },
    {
     "name": "stderr",
     "output_type": "stream",
     "text": [
      "/opt/anaconda3/envs/research/lib/python3.7/site-packages/sklearn/model_selection/_validation.py:614: FitFailedWarning: Estimator fit failed. The score on this train-test partition for these parameters will be set to nan. Details: \n",
      "Traceback (most recent call last):\n",
      "  File \"/opt/anaconda3/envs/research/lib/python3.7/site-packages/sklearn/model_selection/_validation.py\", line 593, in _fit_and_score\n",
      "    estimator.fit(X_train, y_train, **fit_params)\n",
      "  File \"/opt/anaconda3/envs/research/lib/python3.7/site-packages/sklearn/pipeline.py\", line 346, in fit\n",
      "    self._final_estimator.fit(Xt, y, **fit_params_last_step)\n",
      "  File \"/opt/anaconda3/envs/research/lib/python3.7/site-packages/sklearn/ensemble/_gb.py\", line 448, in fit\n",
      "    self._check_params()\n",
      "  File \"/opt/anaconda3/envs/research/lib/python3.7/site-packages/sklearn/ensemble/_gb.py\", line 296, in _check_params\n",
      "    raise ValueError(\"max_features must be in (0, n_features]\")\n",
      "ValueError: max_features must be in (0, n_features]\n",
      "\n",
      "  FitFailedWarning)\n"
     ]
    },
    {
     "name": "stdout",
     "output_type": "stream",
     "text": [
      "[CV] END gradientboostingregressor__max_features=1.6437163322515285, gradientboostingregressor__n_estimators=242.55549670283943; total time=   0.2s\n"
     ]
    },
    {
     "name": "stderr",
     "output_type": "stream",
     "text": [
      "/opt/anaconda3/envs/research/lib/python3.7/site-packages/sklearn/model_selection/_validation.py:614: FitFailedWarning: Estimator fit failed. The score on this train-test partition for these parameters will be set to nan. Details: \n",
      "Traceback (most recent call last):\n",
      "  File \"/opt/anaconda3/envs/research/lib/python3.7/site-packages/sklearn/model_selection/_validation.py\", line 593, in _fit_and_score\n",
      "    estimator.fit(X_train, y_train, **fit_params)\n",
      "  File \"/opt/anaconda3/envs/research/lib/python3.7/site-packages/sklearn/pipeline.py\", line 346, in fit\n",
      "    self._final_estimator.fit(Xt, y, **fit_params_last_step)\n",
      "  File \"/opt/anaconda3/envs/research/lib/python3.7/site-packages/sklearn/ensemble/_gb.py\", line 448, in fit\n",
      "    self._check_params()\n",
      "  File \"/opt/anaconda3/envs/research/lib/python3.7/site-packages/sklearn/ensemble/_gb.py\", line 296, in _check_params\n",
      "    raise ValueError(\"max_features must be in (0, n_features]\")\n",
      "ValueError: max_features must be in (0, n_features]\n",
      "\n",
      "  FitFailedWarning)\n"
     ]
    },
    {
     "name": "stdout",
     "output_type": "stream",
     "text": [
      "[CV] END gradientboostingregressor__max_features=1.6437163322515285, gradientboostingregressor__n_estimators=242.55549670283943; total time=   0.2s\n"
     ]
    },
    {
     "name": "stderr",
     "output_type": "stream",
     "text": [
      "/opt/anaconda3/envs/research/lib/python3.7/site-packages/sklearn/model_selection/_validation.py:614: FitFailedWarning: Estimator fit failed. The score on this train-test partition for these parameters will be set to nan. Details: \n",
      "Traceback (most recent call last):\n",
      "  File \"/opt/anaconda3/envs/research/lib/python3.7/site-packages/sklearn/model_selection/_validation.py\", line 593, in _fit_and_score\n",
      "    estimator.fit(X_train, y_train, **fit_params)\n",
      "  File \"/opt/anaconda3/envs/research/lib/python3.7/site-packages/sklearn/pipeline.py\", line 346, in fit\n",
      "    self._final_estimator.fit(Xt, y, **fit_params_last_step)\n",
      "  File \"/opt/anaconda3/envs/research/lib/python3.7/site-packages/sklearn/ensemble/_gb.py\", line 448, in fit\n",
      "    self._check_params()\n",
      "  File \"/opt/anaconda3/envs/research/lib/python3.7/site-packages/sklearn/ensemble/_gb.py\", line 296, in _check_params\n",
      "    raise ValueError(\"max_features must be in (0, n_features]\")\n",
      "ValueError: max_features must be in (0, n_features]\n",
      "\n",
      "  FitFailedWarning)\n"
     ]
    },
    {
     "name": "stdout",
     "output_type": "stream",
     "text": [
      "[CV] END gradientboostingregressor__max_features=1.6437163322515285, gradientboostingregressor__n_estimators=242.55549670283943; total time=   0.3s\n"
     ]
    },
    {
     "name": "stderr",
     "output_type": "stream",
     "text": [
      "/opt/anaconda3/envs/research/lib/python3.7/site-packages/sklearn/model_selection/_validation.py:614: FitFailedWarning: Estimator fit failed. The score on this train-test partition for these parameters will be set to nan. Details: \n",
      "Traceback (most recent call last):\n",
      "  File \"/opt/anaconda3/envs/research/lib/python3.7/site-packages/sklearn/model_selection/_validation.py\", line 593, in _fit_and_score\n",
      "    estimator.fit(X_train, y_train, **fit_params)\n",
      "  File \"/opt/anaconda3/envs/research/lib/python3.7/site-packages/sklearn/pipeline.py\", line 346, in fit\n",
      "    self._final_estimator.fit(Xt, y, **fit_params_last_step)\n",
      "  File \"/opt/anaconda3/envs/research/lib/python3.7/site-packages/sklearn/ensemble/_gb.py\", line 448, in fit\n",
      "    self._check_params()\n",
      "  File \"/opt/anaconda3/envs/research/lib/python3.7/site-packages/sklearn/ensemble/_gb.py\", line 296, in _check_params\n",
      "    raise ValueError(\"max_features must be in (0, n_features]\")\n",
      "ValueError: max_features must be in (0, n_features]\n",
      "\n",
      "  FitFailedWarning)\n"
     ]
    },
    {
     "name": "stdout",
     "output_type": "stream",
     "text": [
      "[CV] END gradientboostingregressor__max_features=1.6437163322515285, gradientboostingregressor__n_estimators=242.55549670283943; total time=   0.2s\n"
     ]
    },
    {
     "name": "stderr",
     "output_type": "stream",
     "text": [
      "/opt/anaconda3/envs/research/lib/python3.7/site-packages/sklearn/model_selection/_validation.py:614: FitFailedWarning: Estimator fit failed. The score on this train-test partition for these parameters will be set to nan. Details: \n",
      "Traceback (most recent call last):\n",
      "  File \"/opt/anaconda3/envs/research/lib/python3.7/site-packages/sklearn/model_selection/_validation.py\", line 593, in _fit_and_score\n",
      "    estimator.fit(X_train, y_train, **fit_params)\n",
      "  File \"/opt/anaconda3/envs/research/lib/python3.7/site-packages/sklearn/pipeline.py\", line 346, in fit\n",
      "    self._final_estimator.fit(Xt, y, **fit_params_last_step)\n",
      "  File \"/opt/anaconda3/envs/research/lib/python3.7/site-packages/sklearn/ensemble/_gb.py\", line 448, in fit\n",
      "    self._check_params()\n",
      "  File \"/opt/anaconda3/envs/research/lib/python3.7/site-packages/sklearn/ensemble/_gb.py\", line 296, in _check_params\n",
      "    raise ValueError(\"max_features must be in (0, n_features]\")\n",
      "ValueError: max_features must be in (0, n_features]\n",
      "\n",
      "  FitFailedWarning)\n",
      "/opt/anaconda3/envs/research/lib/python3.7/site-packages/sklearn/model_selection/_validation.py:614: FitFailedWarning: Estimator fit failed. The score on this train-test partition for these parameters will be set to nan. Details: \n",
      "Traceback (most recent call last):\n",
      "  File \"/opt/anaconda3/envs/research/lib/python3.7/site-packages/sklearn/model_selection/_validation.py\", line 593, in _fit_and_score\n",
      "    estimator.fit(X_train, y_train, **fit_params)\n",
      "  File \"/opt/anaconda3/envs/research/lib/python3.7/site-packages/sklearn/pipeline.py\", line 346, in fit\n",
      "    self._final_estimator.fit(Xt, y, **fit_params_last_step)\n",
      "  File \"/opt/anaconda3/envs/research/lib/python3.7/site-packages/sklearn/ensemble/_gb.py\", line 448, in fit\n",
      "    self._check_params()\n",
      "  File \"/opt/anaconda3/envs/research/lib/python3.7/site-packages/sklearn/ensemble/_gb.py\", line 296, in _check_params\n",
      "    raise ValueError(\"max_features must be in (0, n_features]\")\n",
      "ValueError: max_features must be in (0, n_features]\n",
      "\n",
      "  FitFailedWarning)\n"
     ]
    },
    {
     "name": "stdout",
     "output_type": "stream",
     "text": [
      "[CV] END gradientboostingregressor__max_features=1.6437163322515285, gradientboostingregressor__n_estimators=242.55549670283943; total time=   0.3s\n",
      "[CV] END gradientboostingregressor__max_features=1.4328528947456693, gradientboostingregressor__n_estimators=333.97055416999666; total time=   0.2s\n"
     ]
    },
    {
     "name": "stderr",
     "output_type": "stream",
     "text": [
      "/opt/anaconda3/envs/research/lib/python3.7/site-packages/sklearn/model_selection/_validation.py:614: FitFailedWarning: Estimator fit failed. The score on this train-test partition for these parameters will be set to nan. Details: \n",
      "Traceback (most recent call last):\n",
      "  File \"/opt/anaconda3/envs/research/lib/python3.7/site-packages/sklearn/model_selection/_validation.py\", line 593, in _fit_and_score\n",
      "    estimator.fit(X_train, y_train, **fit_params)\n",
      "  File \"/opt/anaconda3/envs/research/lib/python3.7/site-packages/sklearn/pipeline.py\", line 346, in fit\n",
      "    self._final_estimator.fit(Xt, y, **fit_params_last_step)\n",
      "  File \"/opt/anaconda3/envs/research/lib/python3.7/site-packages/sklearn/ensemble/_gb.py\", line 448, in fit\n",
      "    self._check_params()\n",
      "  File \"/opt/anaconda3/envs/research/lib/python3.7/site-packages/sklearn/ensemble/_gb.py\", line 296, in _check_params\n",
      "    raise ValueError(\"max_features must be in (0, n_features]\")\n",
      "ValueError: max_features must be in (0, n_features]\n",
      "\n",
      "  FitFailedWarning)\n",
      "/opt/anaconda3/envs/research/lib/python3.7/site-packages/sklearn/model_selection/_validation.py:614: FitFailedWarning: Estimator fit failed. The score on this train-test partition for these parameters will be set to nan. Details: \n",
      "Traceback (most recent call last):\n",
      "  File \"/opt/anaconda3/envs/research/lib/python3.7/site-packages/sklearn/model_selection/_validation.py\", line 593, in _fit_and_score\n",
      "    estimator.fit(X_train, y_train, **fit_params)\n",
      "  File \"/opt/anaconda3/envs/research/lib/python3.7/site-packages/sklearn/pipeline.py\", line 346, in fit\n",
      "    self._final_estimator.fit(Xt, y, **fit_params_last_step)\n",
      "  File \"/opt/anaconda3/envs/research/lib/python3.7/site-packages/sklearn/ensemble/_gb.py\", line 448, in fit\n",
      "    self._check_params()\n",
      "  File \"/opt/anaconda3/envs/research/lib/python3.7/site-packages/sklearn/ensemble/_gb.py\", line 296, in _check_params\n",
      "    raise ValueError(\"max_features must be in (0, n_features]\")\n",
      "ValueError: max_features must be in (0, n_features]\n",
      "\n",
      "  FitFailedWarning)\n"
     ]
    },
    {
     "name": "stdout",
     "output_type": "stream",
     "text": [
      "[CV] END gradientboostingregressor__max_features=1.4328528947456693, gradientboostingregressor__n_estimators=333.97055416999666; total time=   0.2s\n",
      "[CV] END gradientboostingregressor__max_features=1.4328528947456693, gradientboostingregressor__n_estimators=333.97055416999666; total time=   0.2s\n"
     ]
    },
    {
     "name": "stderr",
     "output_type": "stream",
     "text": [
      "/opt/anaconda3/envs/research/lib/python3.7/site-packages/sklearn/model_selection/_validation.py:614: FitFailedWarning: Estimator fit failed. The score on this train-test partition for these parameters will be set to nan. Details: \n",
      "Traceback (most recent call last):\n",
      "  File \"/opt/anaconda3/envs/research/lib/python3.7/site-packages/sklearn/model_selection/_validation.py\", line 593, in _fit_and_score\n",
      "    estimator.fit(X_train, y_train, **fit_params)\n",
      "  File \"/opt/anaconda3/envs/research/lib/python3.7/site-packages/sklearn/pipeline.py\", line 346, in fit\n",
      "    self._final_estimator.fit(Xt, y, **fit_params_last_step)\n",
      "  File \"/opt/anaconda3/envs/research/lib/python3.7/site-packages/sklearn/ensemble/_gb.py\", line 448, in fit\n",
      "    self._check_params()\n",
      "  File \"/opt/anaconda3/envs/research/lib/python3.7/site-packages/sklearn/ensemble/_gb.py\", line 296, in _check_params\n",
      "    raise ValueError(\"max_features must be in (0, n_features]\")\n",
      "ValueError: max_features must be in (0, n_features]\n",
      "\n",
      "  FitFailedWarning)\n",
      "/opt/anaconda3/envs/research/lib/python3.7/site-packages/sklearn/model_selection/_validation.py:614: FitFailedWarning: Estimator fit failed. The score on this train-test partition for these parameters will be set to nan. Details: \n",
      "Traceback (most recent call last):\n",
      "  File \"/opt/anaconda3/envs/research/lib/python3.7/site-packages/sklearn/model_selection/_validation.py\", line 593, in _fit_and_score\n",
      "    estimator.fit(X_train, y_train, **fit_params)\n",
      "  File \"/opt/anaconda3/envs/research/lib/python3.7/site-packages/sklearn/pipeline.py\", line 346, in fit\n",
      "    self._final_estimator.fit(Xt, y, **fit_params_last_step)\n",
      "  File \"/opt/anaconda3/envs/research/lib/python3.7/site-packages/sklearn/ensemble/_gb.py\", line 448, in fit\n",
      "    self._check_params()\n",
      "  File \"/opt/anaconda3/envs/research/lib/python3.7/site-packages/sklearn/ensemble/_gb.py\", line 296, in _check_params\n",
      "    raise ValueError(\"max_features must be in (0, n_features]\")\n",
      "ValueError: max_features must be in (0, n_features]\n",
      "\n",
      "  FitFailedWarning)\n"
     ]
    },
    {
     "name": "stdout",
     "output_type": "stream",
     "text": [
      "[CV] END gradientboostingregressor__max_features=1.4328528947456693, gradientboostingregressor__n_estimators=333.97055416999666; total time=   0.3s\n",
      "[CV] END gradientboostingregressor__max_features=1.4328528947456693, gradientboostingregressor__n_estimators=333.97055416999666; total time=   0.2s\n"
     ]
    },
    {
     "name": "stderr",
     "output_type": "stream",
     "text": [
      "/opt/anaconda3/envs/research/lib/python3.7/site-packages/sklearn/model_selection/_validation.py:614: FitFailedWarning: Estimator fit failed. The score on this train-test partition for these parameters will be set to nan. Details: \n",
      "Traceback (most recent call last):\n",
      "  File \"/opt/anaconda3/envs/research/lib/python3.7/site-packages/sklearn/model_selection/_validation.py\", line 593, in _fit_and_score\n",
      "    estimator.fit(X_train, y_train, **fit_params)\n",
      "  File \"/opt/anaconda3/envs/research/lib/python3.7/site-packages/sklearn/pipeline.py\", line 346, in fit\n",
      "    self._final_estimator.fit(Xt, y, **fit_params_last_step)\n",
      "  File \"/opt/anaconda3/envs/research/lib/python3.7/site-packages/sklearn/ensemble/_gb.py\", line 452, in fit\n",
      "    self._init_state()\n",
      "  File \"/opt/anaconda3/envs/research/lib/python3.7/site-packages/sklearn/ensemble/_gb.py\", line 314, in _init_state\n",
      "    dtype=object)\n",
      "TypeError: 'numpy.float64' object cannot be interpreted as an integer\n",
      "\n",
      "  FitFailedWarning)\n",
      "/opt/anaconda3/envs/research/lib/python3.7/site-packages/sklearn/model_selection/_validation.py:614: FitFailedWarning: Estimator fit failed. The score on this train-test partition for these parameters will be set to nan. Details: \n",
      "Traceback (most recent call last):\n",
      "  File \"/opt/anaconda3/envs/research/lib/python3.7/site-packages/sklearn/model_selection/_validation.py\", line 593, in _fit_and_score\n",
      "    estimator.fit(X_train, y_train, **fit_params)\n",
      "  File \"/opt/anaconda3/envs/research/lib/python3.7/site-packages/sklearn/pipeline.py\", line 346, in fit\n",
      "    self._final_estimator.fit(Xt, y, **fit_params_last_step)\n",
      "  File \"/opt/anaconda3/envs/research/lib/python3.7/site-packages/sklearn/ensemble/_gb.py\", line 452, in fit\n",
      "    self._init_state()\n",
      "  File \"/opt/anaconda3/envs/research/lib/python3.7/site-packages/sklearn/ensemble/_gb.py\", line 314, in _init_state\n",
      "    dtype=object)\n",
      "TypeError: 'numpy.float64' object cannot be interpreted as an integer\n",
      "\n",
      "  FitFailedWarning)\n"
     ]
    },
    {
     "name": "stdout",
     "output_type": "stream",
     "text": [
      "[CV] END gradientboostingregressor__max_features=0.982487541973625, gradientboostingregressor__n_estimators=78.48778773030712; total time=   0.2s\n",
      "[CV] END gradientboostingregressor__max_features=0.982487541973625, gradientboostingregressor__n_estimators=78.48778773030712; total time=   0.2s\n"
     ]
    },
    {
     "name": "stderr",
     "output_type": "stream",
     "text": [
      "/opt/anaconda3/envs/research/lib/python3.7/site-packages/sklearn/model_selection/_validation.py:614: FitFailedWarning: Estimator fit failed. The score on this train-test partition for these parameters will be set to nan. Details: \n",
      "Traceback (most recent call last):\n",
      "  File \"/opt/anaconda3/envs/research/lib/python3.7/site-packages/sklearn/model_selection/_validation.py\", line 593, in _fit_and_score\n",
      "    estimator.fit(X_train, y_train, **fit_params)\n",
      "  File \"/opt/anaconda3/envs/research/lib/python3.7/site-packages/sklearn/pipeline.py\", line 346, in fit\n",
      "    self._final_estimator.fit(Xt, y, **fit_params_last_step)\n",
      "  File \"/opt/anaconda3/envs/research/lib/python3.7/site-packages/sklearn/ensemble/_gb.py\", line 452, in fit\n",
      "    self._init_state()\n",
      "  File \"/opt/anaconda3/envs/research/lib/python3.7/site-packages/sklearn/ensemble/_gb.py\", line 314, in _init_state\n",
      "    dtype=object)\n",
      "TypeError: 'numpy.float64' object cannot be interpreted as an integer\n",
      "\n",
      "  FitFailedWarning)\n",
      "/opt/anaconda3/envs/research/lib/python3.7/site-packages/sklearn/model_selection/_validation.py:614: FitFailedWarning: Estimator fit failed. The score on this train-test partition for these parameters will be set to nan. Details: \n",
      "Traceback (most recent call last):\n",
      "  File \"/opt/anaconda3/envs/research/lib/python3.7/site-packages/sklearn/model_selection/_validation.py\", line 593, in _fit_and_score\n",
      "    estimator.fit(X_train, y_train, **fit_params)\n",
      "  File \"/opt/anaconda3/envs/research/lib/python3.7/site-packages/sklearn/pipeline.py\", line 346, in fit\n",
      "    self._final_estimator.fit(Xt, y, **fit_params_last_step)\n",
      "  File \"/opt/anaconda3/envs/research/lib/python3.7/site-packages/sklearn/ensemble/_gb.py\", line 452, in fit\n",
      "    self._init_state()\n",
      "  File \"/opt/anaconda3/envs/research/lib/python3.7/site-packages/sklearn/ensemble/_gb.py\", line 314, in _init_state\n",
      "    dtype=object)\n",
      "TypeError: 'numpy.float64' object cannot be interpreted as an integer\n",
      "\n",
      "  FitFailedWarning)\n"
     ]
    },
    {
     "name": "stdout",
     "output_type": "stream",
     "text": [
      "[CV] END gradientboostingregressor__max_features=0.982487541973625, gradientboostingregressor__n_estimators=78.48778773030712; total time=   0.2s\n",
      "[CV] END gradientboostingregressor__max_features=0.982487541973625, gradientboostingregressor__n_estimators=78.48778773030712; total time=   0.2s\n",
      "[CV] END gradientboostingregressor__max_features=0.982487541973625, gradientboostingregressor__n_estimators=78.48778773030712; total time=   0.2s\n"
     ]
    },
    {
     "name": "stderr",
     "output_type": "stream",
     "text": [
      "/opt/anaconda3/envs/research/lib/python3.7/site-packages/sklearn/model_selection/_validation.py:614: FitFailedWarning: Estimator fit failed. The score on this train-test partition for these parameters will be set to nan. Details: \n",
      "Traceback (most recent call last):\n",
      "  File \"/opt/anaconda3/envs/research/lib/python3.7/site-packages/sklearn/model_selection/_validation.py\", line 593, in _fit_and_score\n",
      "    estimator.fit(X_train, y_train, **fit_params)\n",
      "  File \"/opt/anaconda3/envs/research/lib/python3.7/site-packages/sklearn/pipeline.py\", line 346, in fit\n",
      "    self._final_estimator.fit(Xt, y, **fit_params_last_step)\n",
      "  File \"/opt/anaconda3/envs/research/lib/python3.7/site-packages/sklearn/ensemble/_gb.py\", line 452, in fit\n",
      "    self._init_state()\n",
      "  File \"/opt/anaconda3/envs/research/lib/python3.7/site-packages/sklearn/ensemble/_gb.py\", line 314, in _init_state\n",
      "    dtype=object)\n",
      "TypeError: 'numpy.float64' object cannot be interpreted as an integer\n",
      "\n",
      "  FitFailedWarning)\n"
     ]
    },
    {
     "ename": "NotFittedError",
     "evalue": "All estimators failed to fit",
     "output_type": "error",
     "traceback": [
      "\u001b[0;31m---------------------------------------------------------------------------\u001b[0m",
      "\u001b[0;31mNotFittedError\u001b[0m                            Traceback (most recent call last)",
      "\u001b[0;32m<ipython-input-89-057619706c97>\u001b[0m in \u001b[0;36m<module>\u001b[0;34m\u001b[0m\n\u001b[1;32m     13\u001b[0m \u001b[0;34m\u001b[0m\u001b[0m\n\u001b[1;32m     14\u001b[0m     \u001b[0;31m# Fit data to Grid Search\u001b[0m\u001b[0;34m\u001b[0m\u001b[0;34m\u001b[0m\u001b[0;34m\u001b[0m\u001b[0m\n\u001b[0;32m---> 15\u001b[0;31m     \u001b[0msearch_gb\u001b[0m\u001b[0;34m.\u001b[0m\u001b[0mfit\u001b[0m\u001b[0;34m(\u001b[0m\u001b[0mX\u001b[0m\u001b[0;34m,\u001b[0m \u001b[0my_log\u001b[0m\u001b[0;34m)\u001b[0m\u001b[0;34m;\u001b[0m\u001b[0;34m\u001b[0m\u001b[0;34m\u001b[0m\u001b[0m\n\u001b[0m\u001b[1;32m     16\u001b[0m     \u001b[0mprint\u001b[0m\u001b[0;34m(\u001b[0m\u001b[0msearch_gb\u001b[0m\u001b[0;34m.\u001b[0m\u001b[0mbest_params_\u001b[0m\u001b[0;34m)\u001b[0m\u001b[0;34m\u001b[0m\u001b[0;34m\u001b[0m\u001b[0m\n\u001b[1;32m     17\u001b[0m     \u001b[0msearch_gb\u001b[0m\u001b[0;34m.\u001b[0m\u001b[0mbest_score_\u001b[0m\u001b[0;34m\u001b[0m\u001b[0;34m\u001b[0m\u001b[0m\n",
      "\u001b[0;32m/opt/anaconda3/envs/research/lib/python3.7/site-packages/sklearn/utils/validation.py\u001b[0m in \u001b[0;36minner_f\u001b[0;34m(*args, **kwargs)\u001b[0m\n\u001b[1;32m     61\u001b[0m             \u001b[0mextra_args\u001b[0m \u001b[0;34m=\u001b[0m \u001b[0mlen\u001b[0m\u001b[0;34m(\u001b[0m\u001b[0margs\u001b[0m\u001b[0;34m)\u001b[0m \u001b[0;34m-\u001b[0m \u001b[0mlen\u001b[0m\u001b[0;34m(\u001b[0m\u001b[0mall_args\u001b[0m\u001b[0;34m)\u001b[0m\u001b[0;34m\u001b[0m\u001b[0;34m\u001b[0m\u001b[0m\n\u001b[1;32m     62\u001b[0m             \u001b[0;32mif\u001b[0m \u001b[0mextra_args\u001b[0m \u001b[0;34m<=\u001b[0m \u001b[0;36m0\u001b[0m\u001b[0;34m:\u001b[0m\u001b[0;34m\u001b[0m\u001b[0;34m\u001b[0m\u001b[0m\n\u001b[0;32m---> 63\u001b[0;31m                 \u001b[0;32mreturn\u001b[0m \u001b[0mf\u001b[0m\u001b[0;34m(\u001b[0m\u001b[0;34m*\u001b[0m\u001b[0margs\u001b[0m\u001b[0;34m,\u001b[0m \u001b[0;34m**\u001b[0m\u001b[0mkwargs\u001b[0m\u001b[0;34m)\u001b[0m\u001b[0;34m\u001b[0m\u001b[0;34m\u001b[0m\u001b[0m\n\u001b[0m\u001b[1;32m     64\u001b[0m \u001b[0;34m\u001b[0m\u001b[0m\n\u001b[1;32m     65\u001b[0m             \u001b[0;31m# extra_args > 0\u001b[0m\u001b[0;34m\u001b[0m\u001b[0;34m\u001b[0m\u001b[0;34m\u001b[0m\u001b[0m\n",
      "\u001b[0;32m/opt/anaconda3/envs/research/lib/python3.7/site-packages/sklearn/model_selection/_search.py\u001b[0m in \u001b[0;36mfit\u001b[0;34m(self, X, y, groups, **fit_params)\u001b[0m\n\u001b[1;32m    839\u001b[0m                 \u001b[0;32mreturn\u001b[0m \u001b[0mresults\u001b[0m\u001b[0;34m\u001b[0m\u001b[0;34m\u001b[0m\u001b[0m\n\u001b[1;32m    840\u001b[0m \u001b[0;34m\u001b[0m\u001b[0m\n\u001b[0;32m--> 841\u001b[0;31m             \u001b[0mself\u001b[0m\u001b[0;34m.\u001b[0m\u001b[0m_run_search\u001b[0m\u001b[0;34m(\u001b[0m\u001b[0mevaluate_candidates\u001b[0m\u001b[0;34m)\u001b[0m\u001b[0;34m\u001b[0m\u001b[0;34m\u001b[0m\u001b[0m\n\u001b[0m\u001b[1;32m    842\u001b[0m \u001b[0;34m\u001b[0m\u001b[0m\n\u001b[1;32m    843\u001b[0m             \u001b[0;31m# multimetric is determined here because in the case of a callable\u001b[0m\u001b[0;34m\u001b[0m\u001b[0;34m\u001b[0m\u001b[0;34m\u001b[0m\u001b[0m\n",
      "\u001b[0;32m/opt/anaconda3/envs/research/lib/python3.7/site-packages/sklearn/model_selection/_search.py\u001b[0m in \u001b[0;36m_run_search\u001b[0;34m(self, evaluate_candidates)\u001b[0m\n\u001b[1;32m   1619\u001b[0m         evaluate_candidates(ParameterSampler(\n\u001b[1;32m   1620\u001b[0m             \u001b[0mself\u001b[0m\u001b[0;34m.\u001b[0m\u001b[0mparam_distributions\u001b[0m\u001b[0;34m,\u001b[0m \u001b[0mself\u001b[0m\u001b[0;34m.\u001b[0m\u001b[0mn_iter\u001b[0m\u001b[0;34m,\u001b[0m\u001b[0;34m\u001b[0m\u001b[0;34m\u001b[0m\u001b[0m\n\u001b[0;32m-> 1621\u001b[0;31m             random_state=self.random_state))\n\u001b[0m",
      "\u001b[0;32m/opt/anaconda3/envs/research/lib/python3.7/site-packages/sklearn/model_selection/_search.py\u001b[0m in \u001b[0;36mevaluate_candidates\u001b[0;34m(candidate_params, cv, more_results)\u001b[0m\n\u001b[1;32m    825\u001b[0m                 \u001b[0;31m# of out will be done in `_insert_error_scores`.\u001b[0m\u001b[0;34m\u001b[0m\u001b[0;34m\u001b[0m\u001b[0;34m\u001b[0m\u001b[0m\n\u001b[1;32m    826\u001b[0m                 \u001b[0;32mif\u001b[0m \u001b[0mcallable\u001b[0m\u001b[0;34m(\u001b[0m\u001b[0mself\u001b[0m\u001b[0;34m.\u001b[0m\u001b[0mscoring\u001b[0m\u001b[0;34m)\u001b[0m\u001b[0;34m:\u001b[0m\u001b[0;34m\u001b[0m\u001b[0;34m\u001b[0m\u001b[0m\n\u001b[0;32m--> 827\u001b[0;31m                     \u001b[0m_insert_error_scores\u001b[0m\u001b[0;34m(\u001b[0m\u001b[0mout\u001b[0m\u001b[0;34m,\u001b[0m \u001b[0mself\u001b[0m\u001b[0;34m.\u001b[0m\u001b[0merror_score\u001b[0m\u001b[0;34m)\u001b[0m\u001b[0;34m\u001b[0m\u001b[0;34m\u001b[0m\u001b[0m\n\u001b[0m\u001b[1;32m    828\u001b[0m                 \u001b[0mall_candidate_params\u001b[0m\u001b[0;34m.\u001b[0m\u001b[0mextend\u001b[0m\u001b[0;34m(\u001b[0m\u001b[0mcandidate_params\u001b[0m\u001b[0;34m)\u001b[0m\u001b[0;34m\u001b[0m\u001b[0;34m\u001b[0m\u001b[0m\n\u001b[1;32m    829\u001b[0m                 \u001b[0mall_out\u001b[0m\u001b[0;34m.\u001b[0m\u001b[0mextend\u001b[0m\u001b[0;34m(\u001b[0m\u001b[0mout\u001b[0m\u001b[0;34m)\u001b[0m\u001b[0;34m\u001b[0m\u001b[0;34m\u001b[0m\u001b[0m\n",
      "\u001b[0;32m/opt/anaconda3/envs/research/lib/python3.7/site-packages/sklearn/model_selection/_validation.py\u001b[0m in \u001b[0;36m_insert_error_scores\u001b[0;34m(results, error_score)\u001b[0m\n\u001b[1;32m    295\u001b[0m \u001b[0;34m\u001b[0m\u001b[0m\n\u001b[1;32m    296\u001b[0m     \u001b[0;32mif\u001b[0m \u001b[0msuccessful_score\u001b[0m \u001b[0;32mis\u001b[0m \u001b[0;32mNone\u001b[0m\u001b[0;34m:\u001b[0m\u001b[0;34m\u001b[0m\u001b[0;34m\u001b[0m\u001b[0m\n\u001b[0;32m--> 297\u001b[0;31m         \u001b[0;32mraise\u001b[0m \u001b[0mNotFittedError\u001b[0m\u001b[0;34m(\u001b[0m\u001b[0;34m\"All estimators failed to fit\"\u001b[0m\u001b[0;34m)\u001b[0m\u001b[0;34m\u001b[0m\u001b[0;34m\u001b[0m\u001b[0m\n\u001b[0m\u001b[1;32m    298\u001b[0m \u001b[0;34m\u001b[0m\u001b[0m\n\u001b[1;32m    299\u001b[0m     \u001b[0;32mif\u001b[0m \u001b[0misinstance\u001b[0m\u001b[0;34m(\u001b[0m\u001b[0msuccessful_score\u001b[0m\u001b[0;34m,\u001b[0m \u001b[0mdict\u001b[0m\u001b[0;34m)\u001b[0m\u001b[0;34m:\u001b[0m\u001b[0;34m\u001b[0m\u001b[0;34m\u001b[0m\u001b[0m\n",
      "\u001b[0;31mNotFittedError\u001b[0m: All estimators failed to fit"
     ]
    }
   ],
   "source": [
    "if allow_grid_searching:\n",
    "    grid = {\n",
    "         'gradientboostingregressor__n_estimators': stats.uniform(50,300),\n",
    "    #     'gradientboostingregressor__learning_rate':stats.uniform(0.05,0.3),\n",
    "    #     'gradientboostingregressor__loss': ['ls', 'lad', 'huber', 'quantile'],\n",
    "    #    'gradientboostingregressor__max_depth': stats.randint(3,5),    \n",
    "    #    'gradientboostingregressor__min_samples_split':stats.randint(2,10),\n",
    "    #    'gradientboostingregressor__subsample':[0.95, 1], # 1 default\n",
    "         'gradientboostingregressor__max_features':stats.uniform(0.7,1), # default None, i.e = n_features\n",
    "    }\n",
    "\n",
    "    search_gb = RandomizedSearchCV(pipe_gb, grid, scoring=rmsle, n_iter=8, cv=5, n_jobs=1, verbose=2,)\n",
    "\n",
    "    # Fit data to Grid Search\n",
    "    search_gb.fit(X, y_log);\n",
    "    print(search_gb.best_params_)\n",
    "    search_gb.best_score_\n",
    "    \n",
    "    # Plot results of gridsearch\n",
    "    df_cv_results_ = pd.DataFrame(search_gb.cv_results_)\n",
    "    sns.scatterplot(x=\"param_gradientboostingregressor__n_estimators\", y='mean_test_score', data=df_cv_results_)\n",
    "    sns.scatterplot(x=\"param_gradientboostingregressor__max_features\", y='mean_test_score', data=df_cv_results_)"
   ]
  },
  {
   "cell_type": "markdown",
   "metadata": {},
   "source": [
    "### Stacking"
   ]
  },
  {
   "cell_type": "code",
   "execution_count": 90,
   "metadata": {
    "ExecuteTime": {
     "end_time": "2021-01-27T14:06:16.006074Z",
     "start_time": "2021-01-27T14:06:14.305005Z"
    }
   },
   "outputs": [
    {
     "name": "stdout",
     "output_type": "stream",
     "text": [
      "0.000886544938418548\n"
     ]
    },
    {
     "data": {
      "text/plain": [
       "0.009309597042245025"
      ]
     },
     "execution_count": 90,
     "metadata": {},
     "output_type": "execute_result"
    }
   ],
   "source": [
    "gboost = GradientBoostingRegressor(n_estimators=100)\n",
    "ridge = Ridge()\n",
    "svm = SVR(C=1, epsilon=0.05)\n",
    "adaboost = AdaBoostRegressor(base_estimator=DecisionTreeRegressor(max_depth=None))\n",
    "\n",
    "\n",
    "model = VotingRegressor(\n",
    "    estimators = [(\"gboost\", gboost),(\"adaboost\", adaboost),(\"ridge\", ridge), (\"svm_rbf\", svm)],\n",
    "    weights = [1,1,1,1], # to equally weight the two models\n",
    "    n_jobs=-1\n",
    ")\n",
    "\n",
    "pipe_ensemble = make_pipeline(preproc, model, memory=cachedir)\n",
    "\n",
    "score = cross_val_score(pipe_ensemble, X, y_log, cv=5, scoring=rmsle, n_jobs=-1)\n",
    "print(score.std())\n",
    "score.mean()"
   ]
  },
  {
   "cell_type": "code",
   "execution_count": 91,
   "metadata": {
    "ExecuteTime": {
     "end_time": "2021-01-27T14:06:28.418368Z",
     "start_time": "2021-01-27T14:06:21.215614Z"
    }
   },
   "outputs": [
    {
     "name": "stdout",
     "output_type": "stream",
     "text": [
      "0.0007757853380672643\n"
     ]
    },
    {
     "data": {
      "text/plain": [
       "0.009151446118468621"
      ]
     },
     "execution_count": 91,
     "metadata": {},
     "output_type": "execute_result"
    }
   ],
   "source": [
    "gboost = GradientBoostingRegressor(n_estimators=100)\n",
    "ridge = Ridge()\n",
    "svm = SVR(C=1, epsilon=0.05)\n",
    "adaboost = AdaBoostRegressor(base_estimator=DecisionTreeRegressor(max_depth=None))\n",
    "\n",
    "model = StackingRegressor(\n",
    "    estimators=[(\"gboost\", gboost),(\"adaboost\", adaboost),(\"ridge\", ridge), (\"svm_rbf\", svm)],\n",
    "    \n",
    "    final_estimator=LinearRegression(),\n",
    "    cv=5,\n",
    "    n_jobs=-1\n",
    ")\n",
    "\n",
    "pipe_stacking = make_pipeline(preproc, model, memory=cachedir)\n",
    "score = cross_val_score(pipe_stacking, X, y_log, cv=5, scoring=rmsle, n_jobs=-1)\n",
    "print(score.std())\n",
    "score.mean()"
   ]
  },
  {
   "cell_type": "markdown",
   "metadata": {},
   "source": [
    "### XGBOOST"
   ]
  },
  {
   "cell_type": "code",
   "execution_count": 92,
   "metadata": {
    "ExecuteTime": {
     "end_time": "2021-02-02T16:46:24.878278Z",
     "start_time": "2021-02-02T16:46:24.371612Z"
    }
   },
   "outputs": [],
   "source": [
    "from xgboost import XGBRegressor"
   ]
  },
  {
   "cell_type": "code",
   "execution_count": 93,
   "metadata": {
    "ExecuteTime": {
     "end_time": "2021-02-02T16:48:28.211030Z",
     "start_time": "2021-02-02T16:48:28.205606Z"
    }
   },
   "outputs": [],
   "source": [
    "# Create eval test just for early stopping purpose (XGBOOST and Deep Learning)\n",
    "X_train, X_eval, y_train_log, y_eval_log = train_test_split(X,y_log,random_state=42)"
   ]
  },
  {
   "cell_type": "code",
   "execution_count": 94,
   "metadata": {
    "ExecuteTime": {
     "end_time": "2021-02-02T16:48:39.202747Z",
     "start_time": "2021-02-02T16:48:39.199780Z"
    }
   },
   "outputs": [],
   "source": [
    "# Instanciate model\n",
    "model_xgb = XGBRegressor(max_depth=10, n_estimators=300, learning_rate=0.05)"
   ]
  },
  {
   "cell_type": "code",
   "execution_count": 96,
   "metadata": {
    "ExecuteTime": {
     "end_time": "2021-02-02T16:48:56.296090Z",
     "start_time": "2021-02-02T16:48:48.743865Z"
    }
   },
   "outputs": [
    {
     "data": {
      "text/plain": [
       "0.01023841787602523"
      ]
     },
     "execution_count": 96,
     "metadata": {},
     "output_type": "execute_result"
    }
   ],
   "source": [
    "# Option 1: Integrate XGB into Sklearn's pipeline\n",
    "# It allows to GridSearchCV its best hyperparams\n",
    "pipe_xgb = make_pipeline(preproc, model_xgb)\n",
    "cross_val_score(pipe_xgb,X,y_log,cv=5,scoring=rmsle,n_jobs=-1).mean()"
   ]
  },
  {
   "cell_type": "code",
   "execution_count": null,
   "metadata": {
    "ExecuteTime": {
     "end_time": "2021-02-02T16:49:08.990849Z",
     "start_time": "2021-02-02T16:49:06.522317Z"
    }
   },
   "outputs": [],
   "source": [
    "# Option 2: Use XGBoost Library to fit it\n",
    "# It allows to use an early_stopping criteria with a Train/Val slit\n",
    "X_train_preproc = preproc.fit_transform(X_train, y_train_log)\n",
    "X_eval_preproc = preproc.transform(X_eval)\n",
    "\n",
    "model_xgb.fit(X_train_preproc, y_train_log,\n",
    "        verbose=False,\n",
    "        eval_set=[(X_train_preproc, y_train_log), (X_eval_preproc, y_eval_log)],\n",
    "        eval_metric=[\"rmse\"],\n",
    "        early_stopping_rounds=10)\n",
    "\n",
    "# retrieve performance metrics\n",
    "results = model_xgb.evals_result()\n",
    "epochs = len(results['validation_0'][\"rmse\"])\n",
    "x_axis = range(0, epochs)\n",
    "\n",
    "# plot rmsle loss\n",
    "fig, ax = plt.subplots()\n",
    "ax.plot(x_axis, results['validation_0']['rmse'], label='Train')\n",
    "ax.plot(x_axis, results['validation_1']['rmse'], label='Val')\n",
    "ax.legend(); plt.ylabel('RMSE (of log)'); plt.title('XGBoost Log Loss')\n",
    "\n",
    "print(\"Best Validation Score\", min(results['validation_1']['rmse']))"
   ]
  },
  {
   "cell_type": "markdown",
   "metadata": {},
   "source": [
    "### Deep Learning"
   ]
  },
  {
   "cell_type": "code",
   "execution_count": null,
   "metadata": {},
   "outputs": [],
   "source": []
  },
  {
   "cell_type": "markdown",
   "metadata": {},
   "source": [
    "# 🏅FINAL SUBMISSION (start at 4h30 max)"
   ]
  },
  {
   "cell_type": "markdown",
   "metadata": {},
   "source": [
    "Discover your real test score by submitting on Kaggle! \n",
    "\n",
    "👉 Write down your test score on the [result spreadsheet here](https://docs.google.com/spreadsheets/d/1ZEBKwa_k1Ytb0WCOh-Nopq3eaezwBNu1SAqKXEXRguc/edit#gid=0) (pick the correct batch!)"
   ]
  },
  {
   "cell_type": "code",
   "execution_count": 97,
   "metadata": {
    "ExecuteTime": {
     "end_time": "2021-01-27T14:05:37.861551Z",
     "start_time": "2021-01-27T14:04:03.536Z"
    }
   },
   "outputs": [],
   "source": [
    "X_test = pd.read_csv(\"https://wagon-public-datasets.s3.amazonaws.com/houses_test_raw.csv\")"
   ]
  },
  {
   "cell_type": "code",
   "execution_count": 98,
   "metadata": {
    "ExecuteTime": {
     "end_time": "2021-01-27T14:05:37.867076Z",
     "start_time": "2021-01-27T14:04:03.680Z"
    }
   },
   "outputs": [],
   "source": [
    "pipe_stacking.fit(X,y_log)\n",
    "predictions_log = pipe_stacking.predict(X_test)\n",
    "predictions = np.exp(predictions_log)"
   ]
  },
  {
   "cell_type": "code",
   "execution_count": 99,
   "metadata": {
    "ExecuteTime": {
     "end_time": "2021-01-27T14:05:37.872326Z",
     "start_time": "2021-01-27T14:04:04.056Z"
    }
   },
   "outputs": [
    {
     "data": {
      "text/html": [
       "<div>\n",
       "<style scoped>\n",
       "    .dataframe tbody tr th:only-of-type {\n",
       "        vertical-align: middle;\n",
       "    }\n",
       "\n",
       "    .dataframe tbody tr th {\n",
       "        vertical-align: top;\n",
       "    }\n",
       "\n",
       "    .dataframe thead th {\n",
       "        text-align: right;\n",
       "    }\n",
       "</style>\n",
       "<table border=\"1\" class=\"dataframe\">\n",
       "  <thead>\n",
       "    <tr style=\"text-align: right;\">\n",
       "      <th></th>\n",
       "      <th>Id</th>\n",
       "      <th>SalePrice</th>\n",
       "    </tr>\n",
       "  </thead>\n",
       "  <tbody>\n",
       "    <tr>\n",
       "      <th>0</th>\n",
       "      <td>1461</td>\n",
       "      <td>117441.036625</td>\n",
       "    </tr>\n",
       "    <tr>\n",
       "      <th>1</th>\n",
       "      <td>1462</td>\n",
       "      <td>155546.229405</td>\n",
       "    </tr>\n",
       "    <tr>\n",
       "      <th>2</th>\n",
       "      <td>1463</td>\n",
       "      <td>178164.517310</td>\n",
       "    </tr>\n",
       "    <tr>\n",
       "      <th>3</th>\n",
       "      <td>1464</td>\n",
       "      <td>189336.003940</td>\n",
       "    </tr>\n",
       "    <tr>\n",
       "      <th>4</th>\n",
       "      <td>1465</td>\n",
       "      <td>193761.793070</td>\n",
       "    </tr>\n",
       "    <tr>\n",
       "      <th>...</th>\n",
       "      <td>...</td>\n",
       "      <td>...</td>\n",
       "    </tr>\n",
       "    <tr>\n",
       "      <th>1454</th>\n",
       "      <td>2915</td>\n",
       "      <td>78249.333265</td>\n",
       "    </tr>\n",
       "    <tr>\n",
       "      <th>1455</th>\n",
       "      <td>2916</td>\n",
       "      <td>78099.742586</td>\n",
       "    </tr>\n",
       "    <tr>\n",
       "      <th>1456</th>\n",
       "      <td>2917</td>\n",
       "      <td>155010.122949</td>\n",
       "    </tr>\n",
       "    <tr>\n",
       "      <th>1457</th>\n",
       "      <td>2918</td>\n",
       "      <td>111959.573730</td>\n",
       "    </tr>\n",
       "    <tr>\n",
       "      <th>1458</th>\n",
       "      <td>2919</td>\n",
       "      <td>222957.997046</td>\n",
       "    </tr>\n",
       "  </tbody>\n",
       "</table>\n",
       "<p>1459 rows × 2 columns</p>\n",
       "</div>"
      ],
      "text/plain": [
       "        Id      SalePrice\n",
       "0     1461  117441.036625\n",
       "1     1462  155546.229405\n",
       "2     1463  178164.517310\n",
       "3     1464  189336.003940\n",
       "4     1465  193761.793070\n",
       "...    ...            ...\n",
       "1454  2915   78249.333265\n",
       "1455  2916   78099.742586\n",
       "1456  2917  155010.122949\n",
       "1457  2918  111959.573730\n",
       "1458  2919  222957.997046\n",
       "\n",
       "[1459 rows x 2 columns]"
      ]
     },
     "execution_count": 99,
     "metadata": {},
     "output_type": "execute_result"
    }
   ],
   "source": [
    "results = pd.concat([X_test[\"Id\"], pd.Series(predictions, name=\"SalePrice\")], axis=1)\n",
    "results"
   ]
  },
  {
   "cell_type": "code",
   "execution_count": 100,
   "metadata": {
    "ExecuteTime": {
     "end_time": "2021-01-27T14:05:37.877574Z",
     "start_time": "2021-01-27T14:04:04.248Z"
    }
   },
   "outputs": [],
   "source": [
    "# Export to Kaggle format submission and submit it online!\n",
    "results.to_csv(\"submission_final.csv\", header=True, index=False)"
   ]
  },
  {
   "cell_type": "code",
   "execution_count": null,
   "metadata": {
    "ExecuteTime": {
     "end_time": "2021-01-27T14:05:37.883834Z",
     "start_time": "2021-01-27T14:04:04.452Z"
    }
   },
   "outputs": [],
   "source": [
    "# Clear the cache directory at the end\n",
    "rmtree(cachedir)"
   ]
  }
 ],
 "metadata": {
  "kernelspec": {
   "display_name": "Python 3",
   "language": "python",
   "name": "python3"
  },
  "language_info": {
   "codemirror_mode": {
    "name": "ipython",
    "version": 3
   },
   "file_extension": ".py",
   "mimetype": "text/x-python",
   "name": "python",
   "nbconvert_exporter": "python",
   "pygments_lexer": "ipython3",
   "version": "3.8.6"
  },
  "toc": {
   "base_numbering": 1,
   "nav_menu": {},
   "number_sections": true,
   "sideBar": true,
   "skip_h1_title": false,
   "title_cell": "Table of Contents",
   "title_sidebar": "Contents",
   "toc_cell": false,
   "toc_position": {
    "height": "calc(100% - 180px)",
    "left": "10px",
    "top": "150px",
    "width": "282.997px"
   },
   "toc_section_display": true,
   "toc_window_display": true
  },
  "varInspector": {
   "cols": {
    "lenName": 16,
    "lenType": 16,
    "lenVar": 40
   },
   "kernels_config": {
    "python": {
     "delete_cmd_postfix": "",
     "delete_cmd_prefix": "del ",
     "library": "var_list.py",
     "varRefreshCmd": "print(var_dic_list())"
    },
    "r": {
     "delete_cmd_postfix": ") ",
     "delete_cmd_prefix": "rm(",
     "library": "var_list.r",
     "varRefreshCmd": "cat(var_dic_list()) "
    }
   },
   "types_to_exclude": [
    "module",
    "function",
    "builtin_function_or_method",
    "instance",
    "_Feature"
   ],
   "window_display": false
  }
 },
 "nbformat": 4,
 "nbformat_minor": 4
}
